{
  "nbformat": 4,
  "nbformat_minor": 0,
  "metadata": {
    "colab": {
      "name": "CSE_247_Project.ipynb",
      "provenance": [],
      "collapsed_sections": [
        "mUOI8Pnt1pzr"
      ],
      "toc_visible": true
    },
    "kernelspec": {
      "name": "python3",
      "display_name": "Python 3"
    },
    "language_info": {
      "name": "python"
    },
    "accelerator": "GPU"
  },
  "cells": [
    {
      "cell_type": "markdown",
      "metadata": {
        "id": "f7Uj68NrVxhS"
      },
      "source": [
        "# Directions:\n",
        "- **Execute** mount drive cell\n",
        "- **Skip** load, convert and save data to Numpy files section\n",
        "- **Execute** cells starting from **Classify the EEG wave data section**"
      ]
    },
    {
      "cell_type": "markdown",
      "metadata": {
        "id": "QHBizvxZKxzb"
      },
      "source": [
        "**Complete the following steps before running the cells below**\n",
        "\n",
        "1.\n",
        "Change runtime to GPU \n",
        "\n",
        ">Runtime > Change runtime type > GPU\n",
        "\n",
        "2.\n",
        "For each of the following link, add a Google Drive shortcut to your Drive root folder(My Drive):\n",
        "\n",
        ">https://drive.google.com/drive/folders/1z8wcew5R7GCeu5s7SSsWw8bUcx1urVmk?usp=sharing"
      ]
    },
    {
      "cell_type": "markdown",
      "metadata": {
        "id": "qPGfxlKyK532"
      },
      "source": [
        "**Mount drive**"
      ]
    },
    {
      "cell_type": "code",
      "metadata": {
        "id": "R4ABBExvK6nU",
        "colab": {
          "base_uri": "https://localhost:8080/"
        },
        "outputId": "9db9dc90-dc25-4529-cdbc-be2d9d5c0730"
      },
      "source": [
        "from google.colab import drive\n",
        "drive.mount(\"/content/gdrive\")"
      ],
      "execution_count": 1,
      "outputs": [
        {
          "output_type": "stream",
          "text": [
            "Mounted at /content/gdrive\n"
          ],
          "name": "stdout"
        }
      ]
    },
    {
      "cell_type": "markdown",
      "metadata": {
        "id": "P3WUVH56xkoo"
      },
      "source": [
        "# Load, convert and save data to Numpy files\n",
        "- only executed once to generate .npy files\n",
        "- load the .npy files directly for future use"
      ]
    },
    {
      "cell_type": "code",
      "metadata": {
        "id": "Sn-ooD_Xxp1t"
      },
      "source": [
        "import torch\n",
        "import numpy as np\n",
        "from numpy import save\n",
        "from numpy import load"
      ],
      "execution_count": 2,
      "outputs": []
    },
    {
      "cell_type": "code",
      "metadata": {
        "id": "3UexayZTyE6i"
      },
      "source": [
        "# use the default data_path\n",
        "# eeg_55_95_std.pth - saved\n",
        "# eeg_14_70_std.pth - saved\n",
        "# eeg_5_95_std.pth - saved\n",
        "\n",
        "raw_data_path = \"/content/gdrive/MyDrive/EEG2Image/eeg_55_95_std.pth\"\n",
        "save_data_path = \"/content/gdrive/MyDrive/EEG2Image/data/\""
      ],
      "execution_count": 21,
      "outputs": []
    },
    {
      "cell_type": "code",
      "metadata": {
        "colab": {
          "base_uri": "https://localhost:8080/"
        },
        "id": "E_LZ5zGRxtoB",
        "outputId": "7a669810-1d36-438e-c16e-95189af47586"
      },
      "source": [
        "# load eeg data from .pth files\n",
        "loaded = torch.load(raw_data_path)\n",
        "data = loaded['dataset']        \n",
        "labels = loaded[\"labels\"]\n",
        "images = loaded[\"images\"]\n",
        "size = len(data)\n",
        "print(size)"
      ],
      "execution_count": 22,
      "outputs": [
        {
          "output_type": "stream",
          "text": [
            "11965\n"
          ],
          "name": "stdout"
        }
      ]
    },
    {
      "cell_type": "code",
      "metadata": {
        "colab": {
          "base_uri": "https://localhost:8080/"
        },
        "id": "TGHcbL1QxtuV",
        "outputId": "eaa36e1f-8231-478d-ebf3-c305e890d985"
      },
      "source": [
        "# convert data tensors to np\n",
        "eeg_data = []\n",
        "labels = []\n",
        "\n",
        "# crop the first 20ms and last 40ms out\n",
        "time_low = 20\n",
        "time_high = 460\n",
        "\n",
        "verbose = False # set to True to print information on the data\n",
        "\n",
        "for i in range(size):\n",
        "    if verbose:\n",
        "        data_i = data[i]\n",
        "        print(\"Keys stored in each data[i] object:\", data_i.keys())\n",
        "\n",
        "        eeg_i = data[i][\"eeg\"]\n",
        "        print(\"Shape of data[i][\\\"eeg\\\"]:\", eeg_i.shape)\n",
        "        print(\"Type of data[i][\\\"eeg\\\"]:\", eeg_i.type)\n",
        "        print()\n",
        "\n",
        "        eeg_f = data[i][\"eeg\"].float() # simply converts to float\n",
        "        print(\"Shape of data[i][\\\"eeg\\\"].float():\", eeg_f.shape)\n",
        "        print(\"Type of data[i][\\\"eeg\\\"].float():\", eeg_f.type)\n",
        "        print()\n",
        "\n",
        "        eeg_t = data[i][\"eeg\"].float().t() # transposes the matrix\n",
        "        print(\"Shape of data[i][\\\"eeg\\\"].float().t():\", eeg_t.shape)\n",
        "        print(\"Type of data[i][\\\"eeg\\\"].float().t():\", eeg_t.type)\n",
        "        print()\n",
        "\n",
        "        image = data[i][\"image\"]\n",
        "        print(\"image:\", image)\n",
        "\n",
        "        label = data[i][\"label\"]\n",
        "        print(\"label:\", label)\n",
        "\n",
        "        subject = data[i][\"subject\"]\n",
        "        print(\"subject:\", subject)\n",
        "\n",
        "    eeg = data[i][\"eeg\"].float().t()\n",
        "    eeg = eeg[time_low:time_high,:] # trim the data to between 0.2s - 0.46s\n",
        "    label = data[i][\"label\"]\n",
        "\n",
        "    # convert from tensor to numpy\n",
        "    eeg_data.append(eeg.numpy())\n",
        "    labels.append(label)\n",
        "\n",
        "eeg_data = np.asarray(eeg_data)\n",
        "labels = np.asarray(labels)\n",
        "print(\"Shape of EEG data:\", eeg_data.shape)\n",
        "print(\"Shape of labels:\", labels.shape)"
      ],
      "execution_count": 23,
      "outputs": [
        {
          "output_type": "stream",
          "text": [
            "Shape of EEG data: (11965, 440, 128)\n",
            "Shape of labels: (11965,)\n"
          ],
          "name": "stdout"
        }
      ]
    },
    {
      "cell_type": "markdown",
      "metadata": {
        "id": "bYlhITW51NEq"
      },
      "source": [
        "### Information about the .pth file data\n",
        "- 6 subjects\n",
        "- 40 image classes\n",
        "- 50 images per class\n",
        "\n",
        "6 subjects * 40 classes * 50 images/class = 12,000 segments\n",
        "- each image (segment) = .5 ms @ 1kHz = 500 samples during the segment\n",
        "- each sample = 128 channels\n",
        "\n",
        "each segment = 128 * 500 voltage values"
      ]
    },
    {
      "cell_type": "code",
      "metadata": {
        "id": "61MOnMaGqrQf"
      },
      "source": [
        "save(\"/content/gdrive/MyDrive/EEG2Image/data/eeg_55_95.npy\", eeg_data)\n",
        "save(\"/content/gdrive/MyDrive/EEG2Image/data/labels_55_95.npy\", labels)"
      ],
      "execution_count": 28,
      "outputs": []
    },
    {
      "cell_type": "code",
      "metadata": {
        "id": "E61xUlOhtkoO"
      },
      "source": [
        "eeg_data = load(\"/content/gdrive/MyDrive/EEG2Image/data/eeg_55_95.npy\")\n",
        "labels = load(\"/content/gdrive/MyDrive/EEG2Image/data/labels_55_95.npy\")"
      ],
      "execution_count": 29,
      "outputs": []
    },
    {
      "cell_type": "code",
      "metadata": {
        "colab": {
          "base_uri": "https://localhost:8080/"
        },
        "id": "AUiygNso4exK",
        "outputId": "00df0fc9-ea57-495a-ef84-1031f6c3a0a9"
      },
      "source": [
        "print(eeg_data.shape)"
      ],
      "execution_count": 26,
      "outputs": [
        {
          "output_type": "stream",
          "text": [
            "(11965, 440, 128)\n"
          ],
          "name": "stdout"
        }
      ]
    },
    {
      "cell_type": "markdown",
      "metadata": {
        "id": "_kwdKppi4K0Z"
      },
      "source": [
        "# Classify the EEG wave data\n",
        "- load the data\n",
        "- build a model\n",
        "- train the model\n",
        "- evaluate\n",
        "- predict"
      ]
    },
    {
      "cell_type": "markdown",
      "metadata": {
        "id": "APzwahduFmMV"
      },
      "source": [
        "**Load the Data**"
      ]
    },
    {
      "cell_type": "code",
      "metadata": {
        "id": "UCovVKVZF1mQ"
      },
      "source": [
        "import numpy as np\n",
        "from numpy import load\n",
        "import matplotlib.pyplot as plt\n",
        "import tensorflow as tf\n",
        "from tensorflow import keras\n",
        "from keras import layers\n",
        "from keras.models import Sequential\n",
        "from keras.layers import Dense, LSTM\n",
        "from keras.utils import to_categorical\n",
        "from sklearn.model_selection import train_test_split"
      ],
      "execution_count": 3,
      "outputs": []
    },
    {
      "cell_type": "code",
      "metadata": {
        "id": "35HiuxlvF1gz"
      },
      "source": [
        "# options for data separated by frequency bands\n",
        "# eeg_55_95.npy\n",
        "# eeg_14_70.npy\n",
        "# eeg_5_95.npy\n",
        "\n",
        "data = load(\"/content/gdrive/MyDrive/EEG2Image/data/eeg_5_95.npy\")\n",
        "labels = load(\"/content/gdrive/MyDrive/EEG2Image/data/labels_5_95.npy\")"
      ],
      "execution_count": 4,
      "outputs": []
    },
    {
      "cell_type": "code",
      "metadata": {
        "colab": {
          "base_uri": "https://localhost:8080/"
        },
        "id": "OW9UJ61CHrwa",
        "outputId": "68f1f471-0f1f-4741-bba2-0e8a4c8baa31"
      },
      "source": [
        "print(\"Data shape:\", data.shape)\n",
        "print(\"Labels shape:\", labels.shape)"
      ],
      "execution_count": 5,
      "outputs": [
        {
          "output_type": "stream",
          "text": [
            "Data shape: (11965, 440, 128)\n",
            "Labels shape: (11965,)\n"
          ],
          "name": "stdout"
        }
      ]
    },
    {
      "cell_type": "markdown",
      "metadata": {
        "id": "VC2ITzzILMDk"
      },
      "source": [
        "**LSTM stuff**"
      ]
    },
    {
      "cell_type": "code",
      "metadata": {
        "id": "MxsizMvPLUUQ",
        "colab": {
          "base_uri": "https://localhost:8080/"
        },
        "outputId": "ead646ac-a7d4-4025-cd93-9804caecb195"
      },
      "source": [
        "# initialize training and test data\n",
        "x_train, x_test, y_train, y_test = train_test_split(data, labels, test_size = 0.20, random_state = 42)\n",
        "print('Shape of x_train:', x_train.shape)\n",
        "print('Shape of y_train:', y_train.shape)\n",
        "print('Shape of x_test:', x_test.shape)\n",
        "print('Shape of y_test:', y_test.shape)\n",
        "\n",
        "# one hot encode the labels\n",
        "y_train = to_categorical(y_train, 40)\n",
        "y_test = to_categorical(y_test, 40)"
      ],
      "execution_count": 6,
      "outputs": [
        {
          "output_type": "stream",
          "text": [
            "Shape of x_train: (9572, 440, 128)\n",
            "Shape of y_train: (9572,)\n",
            "Shape of x_test: (2393, 440, 128)\n",
            "Shape of y_test: (2393,)\n"
          ],
          "name": "stdout"
        }
      ]
    },
    {
      "cell_type": "code",
      "metadata": {
        "colab": {
          "base_uri": "https://localhost:8080/"
        },
        "id": "vLwBCCS4Hgew",
        "outputId": "cd38552e-0614-4014-b9a7-9a81897c95a8"
      },
      "source": [
        "# define parameters\n",
        "BATCH_SIZE = 16\n",
        "EPOCHS = 50\n",
        "\n",
        "TIMESTEPS = len(data[0])\n",
        "TOTAL_INPUTS = len(data)\n",
        "DATA_POINTS = TOTAL_INPUTS * TIMESTEPS \n",
        "FEATURES = len(x_train[0][0])\n",
        "\n",
        "print('TIMESTEPS =', TIMESTEPS)\n",
        "print('TOTAL_INPUTS =', TOTAL_INPUTS)\n",
        "print('DATA_POINTS =', DATA_POINTS)\n",
        "print('FEATURES =', FEATURES)"
      ],
      "execution_count": 35,
      "outputs": [
        {
          "output_type": "stream",
          "text": [
            "TIMESTEPS = 440\n",
            "TOTAL_INPUTS = 11965\n",
            "DATA_POINTS = 5264600\n",
            "FEATURES = 128\n"
          ],
          "name": "stdout"
        }
      ]
    },
    {
      "cell_type": "code",
      "metadata": {
        "id": "pCG6l__FHgl2"
      },
      "source": [
        "# LSTM model\n",
        "model = Sequential()\n",
        "#model.add(LSTM(128, batch_input_shape = (BATCH_SIZE, TIMESTEPS, FEATURES))) \n",
        "model.add(LSTM(16, input_shape = (TIMESTEPS, FEATURES)))\n",
        "model.add(Dense(40, activation='softmax'))"
      ],
      "execution_count": 36,
      "outputs": []
    },
    {
      "cell_type": "code",
      "metadata": {
        "colab": {
          "base_uri": "https://localhost:8080/"
        },
        "id": "_K9MTNVUHgtA",
        "outputId": "8326a420-445a-4d6e-e32a-e15aa7d83fb6"
      },
      "source": [
        "model.summary()"
      ],
      "execution_count": 37,
      "outputs": [
        {
          "output_type": "stream",
          "text": [
            "Model: \"sequential_5\"\n",
            "_________________________________________________________________\n",
            "Layer (type)                 Output Shape              Param #   \n",
            "=================================================================\n",
            "lstm_5 (LSTM)                (None, 16)                9280      \n",
            "_________________________________________________________________\n",
            "dense_5 (Dense)              (None, 40)                680       \n",
            "=================================================================\n",
            "Total params: 9,960\n",
            "Trainable params: 9,960\n",
            "Non-trainable params: 0\n",
            "_________________________________________________________________\n"
          ],
          "name": "stdout"
        }
      ]
    },
    {
      "cell_type": "code",
      "metadata": {
        "id": "G893LaKzJjsB"
      },
      "source": [
        "model.compile(loss='categorical_crossentropy', optimizer = 'adam', metrics = ['accuracy'])"
      ],
      "execution_count": 38,
      "outputs": []
    },
    {
      "cell_type": "code",
      "metadata": {
        "colab": {
          "base_uri": "https://localhost:8080/"
        },
        "id": "txT13FjJJjzm",
        "outputId": "8c0ebcd7-be80-4e55-ed0c-c736faf9f8c1"
      },
      "source": [
        "history = model.fit(\n",
        "    x_train, \n",
        "    y_train,\n",
        "    epochs=EPOCHS, \n",
        "    batch_size=BATCH_SIZE, \n",
        "    verbose=2)"
      ],
      "execution_count": 39,
      "outputs": [
        {
          "output_type": "stream",
          "text": [
            "Epoch 1/50\n",
            "599/599 - 9s - loss: 3.6998 - accuracy: 0.0259\n",
            "Epoch 2/50\n",
            "599/599 - 7s - loss: 3.6402 - accuracy: 0.0472\n",
            "Epoch 3/50\n",
            "599/599 - 7s - loss: 3.5244 - accuracy: 0.0625\n",
            "Epoch 4/50\n",
            "599/599 - 7s - loss: 3.4035 - accuracy: 0.0750\n",
            "Epoch 5/50\n",
            "599/599 - 7s - loss: 3.3578 - accuracy: 0.0771\n",
            "Epoch 6/50\n",
            "599/599 - 7s - loss: 3.2310 - accuracy: 0.0930\n",
            "Epoch 7/50\n",
            "599/599 - 7s - loss: 3.1756 - accuracy: 0.1008\n",
            "Epoch 8/50\n",
            "599/599 - 7s - loss: 3.1064 - accuracy: 0.1069\n",
            "Epoch 9/50\n",
            "599/599 - 7s - loss: 3.0531 - accuracy: 0.1098\n",
            "Epoch 10/50\n",
            "599/599 - 7s - loss: 3.0404 - accuracy: 0.1159\n",
            "Epoch 11/50\n",
            "599/599 - 7s - loss: 2.9898 - accuracy: 0.1204\n",
            "Epoch 12/50\n",
            "599/599 - 7s - loss: 2.9238 - accuracy: 0.1265\n",
            "Epoch 13/50\n",
            "599/599 - 7s - loss: 2.8564 - accuracy: 0.1268\n",
            "Epoch 14/50\n",
            "599/599 - 7s - loss: 2.8708 - accuracy: 0.1290\n",
            "Epoch 15/50\n",
            "599/599 - 7s - loss: 2.8560 - accuracy: 0.1325\n",
            "Epoch 16/50\n",
            "599/599 - 7s - loss: 2.8225 - accuracy: 0.1366\n",
            "Epoch 17/50\n",
            "599/599 - 7s - loss: 2.7218 - accuracy: 0.1499\n",
            "Epoch 18/50\n",
            "599/599 - 7s - loss: 2.6725 - accuracy: 0.1553\n",
            "Epoch 19/50\n",
            "599/599 - 7s - loss: 3.0895 - accuracy: 0.1128\n",
            "Epoch 20/50\n",
            "599/599 - 7s - loss: 2.9412 - accuracy: 0.1251\n",
            "Epoch 21/50\n",
            "599/599 - 7s - loss: 2.8163 - accuracy: 0.1405\n",
            "Epoch 22/50\n",
            "599/599 - 7s - loss: 2.7435 - accuracy: 0.1532\n",
            "Epoch 23/50\n",
            "599/599 - 7s - loss: 2.6835 - accuracy: 0.1578\n",
            "Epoch 24/50\n",
            "599/599 - 7s - loss: 2.6505 - accuracy: 0.1623\n",
            "Epoch 25/50\n",
            "599/599 - 7s - loss: 2.8164 - accuracy: 0.1499\n",
            "Epoch 26/50\n",
            "599/599 - 7s - loss: 3.0985 - accuracy: 0.1131\n",
            "Epoch 27/50\n",
            "599/599 - 7s - loss: 2.8311 - accuracy: 0.1436\n",
            "Epoch 28/50\n",
            "599/599 - 7s - loss: 2.7204 - accuracy: 0.1593\n",
            "Epoch 29/50\n",
            "599/599 - 7s - loss: 2.6403 - accuracy: 0.1660\n",
            "Epoch 30/50\n",
            "599/599 - 7s - loss: 2.5898 - accuracy: 0.1726\n",
            "Epoch 31/50\n",
            "599/599 - 7s - loss: 2.5366 - accuracy: 0.1824\n",
            "Epoch 32/50\n",
            "599/599 - 7s - loss: 2.5505 - accuracy: 0.1758\n",
            "Epoch 33/50\n",
            "599/599 - 7s - loss: 2.9456 - accuracy: 0.1465\n",
            "Epoch 34/50\n",
            "599/599 - 7s - loss: 2.7097 - accuracy: 0.1649\n",
            "Epoch 35/50\n",
            "599/599 - 7s - loss: 2.5441 - accuracy: 0.1823\n",
            "Epoch 36/50\n",
            "599/599 - 7s - loss: 2.6805 - accuracy: 0.1730\n",
            "Epoch 37/50\n",
            "599/599 - 7s - loss: 2.5263 - accuracy: 0.1924\n",
            "Epoch 38/50\n",
            "599/599 - 7s - loss: 2.5575 - accuracy: 0.1887\n",
            "Epoch 39/50\n",
            "599/599 - 7s - loss: 2.8813 - accuracy: 0.1522\n",
            "Epoch 40/50\n",
            "599/599 - 7s - loss: 2.5244 - accuracy: 0.1831\n",
            "Epoch 41/50\n",
            "599/599 - 7s - loss: 2.4748 - accuracy: 0.1930\n",
            "Epoch 42/50\n",
            "599/599 - 7s - loss: 2.4744 - accuracy: 0.1891\n",
            "Epoch 43/50\n",
            "599/599 - 7s - loss: 2.3816 - accuracy: 0.2043\n",
            "Epoch 44/50\n",
            "599/599 - 7s - loss: 2.3729 - accuracy: 0.2087\n",
            "Epoch 45/50\n",
            "599/599 - 7s - loss: 2.3555 - accuracy: 0.2109\n",
            "Epoch 46/50\n",
            "599/599 - 7s - loss: 2.3911 - accuracy: 0.2030\n",
            "Epoch 47/50\n",
            "599/599 - 7s - loss: 2.3057 - accuracy: 0.2205\n",
            "Epoch 48/50\n",
            "599/599 - 7s - loss: 2.2998 - accuracy: 0.2183\n",
            "Epoch 49/50\n",
            "599/599 - 7s - loss: 2.3062 - accuracy: 0.2183\n",
            "Epoch 50/50\n",
            "599/599 - 7s - loss: 2.3590 - accuracy: 0.2120\n"
          ],
          "name": "stdout"
        }
      ]
    },
    {
      "cell_type": "code",
      "metadata": {
        "colab": {
          "base_uri": "https://localhost:8080/"
        },
        "id": "zRsCade_NgI8",
        "outputId": "c9fe5997-a33a-472d-d8c7-b1510223198f"
      },
      "source": [
        "train_loss,train_acc = model.evaluate(x_train,y_train)\n",
        "test_loss, test_acc = model.evaluate(x_test,y_test)\n",
        "print('Training set accuracy:', train_acc)\n",
        "print('Test set accuracy:', test_acc)"
      ],
      "execution_count": 40,
      "outputs": [
        {
          "output_type": "stream",
          "text": [
            "300/300 [==============================] - 3s 10ms/step - loss: 2.4849 - accuracy: 0.2055\n",
            "75/75 [==============================] - 1s 10ms/step - loss: 2.6777 - accuracy: 0.1617\n",
            "Training set accuracy: 0.2054951936006546\n",
            "Test set accuracy: 0.16172169148921967\n"
          ],
          "name": "stdout"
        }
      ]
    },
    {
      "cell_type": "code",
      "metadata": {
        "colab": {
          "base_uri": "https://localhost:8080/",
          "height": 755
        },
        "id": "ksLdAQygNgPE",
        "outputId": "f309be6c-46e7-4cff-f9f5-d6a8394d2066"
      },
      "source": [
        "plt.figure(figsize = (15,15))\n",
        "plt.plot(history.history['accuracy'])\n",
        "plt.title('Model Accuracy')\n",
        "plt.ylabel('Accuracy')\n",
        "plt.xlabel('Number of epochs')\n",
        "plt.legend(['train', 'test'], loc='upper left')\n",
        "plt.show()"
      ],
      "execution_count": 41,
      "outputs": [
        {
          "output_type": "display_data",
          "data": {
            "image/png": "[encoded data removed]",
            "text/plain": [
              "<Figure size 1080x1080 with 1 Axes>"
            ]
          },
          "metadata": {
            "tags": [],
            "needs_background": "light"
          }
        }
      ]
    },
    {
      "cell_type": "code",
      "metadata": {
        "colab": {
          "base_uri": "https://localhost:8080/"
        },
        "id": "FAt6Lt_BQ8VL",
        "outputId": "205be4c0-f354-4844-8991-0ea4942fb280"
      },
      "source": [
        "num_predictions = 100\n",
        "correct_pred = 0\n",
        "pred = np.argmax(model.predict(x_test[0:num_predictions]), axis=-1)\n",
        "print_count = 0\n",
        "\n",
        "print(\"Predicted class : Class label\")\n",
        "for i in range(num_predictions):\n",
        "    label = np.argmax(y_test[i])\n",
        "    #print(pred[i], \"=?\", label)\n",
        "    print(\"{:2s} : {:2s}\".format(str(pred[i]), str(label)), end= \"     \")\n",
        "    \n",
        "    print_count += 1\n",
        "    if print_count == 5:\n",
        "        print()\n",
        "        print_count = 0\n",
        "\n",
        "    if pred[i] == label:\n",
        "        correct_pred += 1\n",
        "\n",
        "print(\"\\nTotal correct predictions:\", correct_pred)\n",
        "print(\"Percent correct:\", correct_pred/num_predictions)"
      ],
      "execution_count": 77,
      "outputs": [
        {
          "output_type": "stream",
          "text": [
            "Predicted class : Class label\n",
            "39 : 39     38 : 17     15 : 24     4  : 14     9  : 23     \n",
            "0  : 37     17 : 10     17 : 4      19 : 7      26 : 6      \n",
            "20 : 23     26 : 23     22 : 26     13 : 29     10 : 15     \n",
            "31 : 25     13 : 25     20 : 14     34 : 4      3  : 3      \n",
            "11 : 0      33 : 2      14 : 16     7  : 32     39 : 11     \n",
            "8  : 35     19 : 1      16 : 26     16 : 30     31 : 26     \n",
            "17 : 25     1  : 29     13 : 32     27 : 20     12 : 8      \n",
            "10 : 34     17 : 17     31 : 16     3  : 36     33 : 9      \n",
            "36 : 18     11 : 0      37 : 25     6  : 6      35 : 11     \n",
            "37 : 4      12 : 39     35 : 3      36 : 3      8  : 28     \n",
            "13 : 7      19 : 19     39 : 21     19 : 29     12 : 5      \n",
            "3  : 3      20 : 1      2  : 23     35 : 28     14 : 14     \n",
            "16 : 30     12 : 0      27 : 4      15 : 10     27 : 1      \n",
            "24 : 4      33 : 29     27 : 6      0  : 11     10 : 17     \n",
            "34 : 4      4  : 4      14 : 14     37 : 17     37 : 25     \n",
            "37 : 34     39 : 14     25 : 16     27 : 26     25 : 5      \n",
            "33 : 7      19 : 22     14 : 14     38 : 31     33 : 7      \n",
            "38 : 19     18 : 8      17 : 24     16 : 2      13 : 7      \n",
            "6  : 17     19 : 7      27 : 30     2  : 20     3  : 21     \n",
            "27 : 16     26 : 26     35 : 20     35 : 0      34 : 15     \n",
            "\n",
            "Total correct predictions: 11\n",
            "Percent correct: 0.11\n"
          ],
          "name": "stdout"
        }
      ]
    },
    {
      "cell_type": "code",
      "metadata": {
        "id": "xJzL8A5oQ8bd"
      },
      "source": [
        ""
      ],
      "execution_count": null,
      "outputs": []
    },
    {
      "cell_type": "code",
      "metadata": {
        "id": "HmRuNQkbQ8oV"
      },
      "source": [
        ""
      ],
      "execution_count": null,
      "outputs": []
    },
    {
      "cell_type": "markdown",
      "metadata": {
        "id": "Jz0lue81LaON"
      },
      "source": [
        "**GAN stuff**"
      ]
    },
    {
      "cell_type": "code",
      "metadata": {
        "id": "iJIEr4gVLgCY"
      },
      "source": [
        "# Code goes here #"
      ],
      "execution_count": null,
      "outputs": []
    },
    {
      "cell_type": "markdown",
      "metadata": {
        "id": "xXagbmapLnsY"
      },
      "source": [
        "**Test Code**"
      ]
    },
    {
      "cell_type": "code",
      "metadata": {
        "id": "sIc1nb7BLpsC"
      },
      "source": [
        "# Code goes here #"
      ],
      "execution_count": null,
      "outputs": []
    }
  ]
}