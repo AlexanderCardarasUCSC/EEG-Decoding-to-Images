{
  "nbformat": 4,
  "nbformat_minor": 0,
  "metadata": {
    "colab": {
      "name": "CSE 247 Project",
      "provenance": [],
      "collapsed_sections": [],
      "toc_visible": true,
      "authorship_tag": "ABX9TyPJXWf+1FHBDuU6p1/+qKgy",
      "include_colab_link": true
    },
    "kernelspec": {
      "name": "python3",
      "display_name": "Python 3"
    },
    "language_info": {
      "name": "python"
    },
    "accelerator": "GPU"
  },
  "cells": [
    {
      "cell_type": "markdown",
      "metadata": {
        "id": "view-in-github",
        "colab_type": "text"
      },
      "source": [
        "<a href=\"https://colab.research.google.com/github/AlexanderCardarasUCSC/EEG-Decoding-to-Images/blob/main/CSE_247_Project.ipynb\" target=\"_parent\"><img src=\"https://colab.research.google.com/assets/colab-badge.svg\" alt=\"Open In Colab\"/></a>"
      ]
    },
    {
      "cell_type": "markdown",
      "metadata": {
        "id": "mUOI8Pnt1pzr"
      },
      "source": [
        "# ThoughtViz"
      ]
    },
    {
      "cell_type": "markdown",
      "metadata": {
        "id": "jTpkEupEF4S4"
      },
      "source": [
        "**Complete the following steps before running the cells below**\n",
        "\n",
        "1.\n",
        "Change runtime to GPU \n",
        "\n",
        ">Runtime > Change runtime type > GPU\n",
        "\n",
        "2.\n",
        "For each of the following links, add a Google Drive shortcut to your Drive root folder(My Drive):\n",
        "\n",
        ">https://drive.google.com/file/d/1atP9CsjWIT-hg3fX--fcC1hg0uvg9bEH/view\n",
        "\n",
        ">https://drive.google.com/file/d/1x32IulYeBVmkshEKweijMX3DK1Wu8odx/view\n",
        "\n",
        ">https://drive.google.com/file/d/1cq8RTBiwqO-Jo0TZjBNlRHZEhjKDknKP/view\n",
        "\n",
        ">https://drive.google.com/file/d/1U9qtN1SlOS3dzd2BwWWHhJiMz_0yNW9U/view\n",
        "\n",
        ">https://drive.google.com/file/d/1uFFhvTsU2nmdaecR2WPWsiGJfgI3as1_/view"
      ]
    },
    {
      "cell_type": "markdown",
      "metadata": {
        "id": "1TItDNCT0N9q"
      },
      "source": [
        "**Mount drive and download project**"
      ]
    },
    {
      "cell_type": "code",
      "metadata": {
        "id": "ZUz-xkGirmGA"
      },
      "source": [
        "from google.colab import drive\n",
        "drive.mount(\"/content/gdrive\")"
      ],
      "execution_count": null,
      "outputs": []
    },
    {
      "cell_type": "code",
      "metadata": {
        "id": "gfeFyd97TzfV"
      },
      "source": [
        "!git clone \"https://github.com/ptirupat/ThoughtViz.git\" \"/content/ThoughtViz\""
      ],
      "execution_count": null,
      "outputs": []
    },
    {
      "cell_type": "markdown",
      "metadata": {
        "id": "TXJSE0mZGRI7"
      },
      "source": [
        "**Unzip project files**"
      ]
    },
    {
      "cell_type": "code",
      "metadata": {
        "id": "oo9VRjm_soez"
      },
      "source": [
        "!unzip -q \"/content/gdrive/My Drive/data.zip\" -d \"/content/ThoughtViz\" \n",
        "!unzip -q \"/content/gdrive/My Drive/images.zip\" -d \"/content/ThoughtViz/training\"\n",
        "!unzip -q \"/content/gdrive/My Drive/eeg_models.zip\" -d \"/content/ThoughtViz/models\" \n",
        "!unzip -q \"/content/gdrive/My Drive/trained_classifier_models.zip\" -d \"/content/ThoughtViz/training\"\n",
        "!unzip -q \"/content/gdrive/My Drive/gan_models.zip\" -d \"/content/ThoughtViz/models\"\n",
        "!echo \"Download Finished!\""
      ],
      "execution_count": null,
      "outputs": []
    },
    {
      "cell_type": "markdown",
      "metadata": {
        "id": "a79LZR2kDeaJ"
      },
      "source": [
        "**Update outdated module calls and make code compatible with colab environment**"
      ]
    },
    {
      "cell_type": "code",
      "metadata": {
        "id": "K8qiLZ7nApzh"
      },
      "source": [
        "# Update Keras module structure\n",
        "!sed -i \"s/keras.layers/keras/\" ThoughtViz/layers/mog_layer.py\n",
        "\n",
        "# Change System Path\n",
        "!sed -i \"1i import sys\\nsys.path.insert(0,'/content/ThoughtViz')\\n\" /content/ThoughtViz/testing/test.py\n",
        "!sed -i \"s/\\..\\//\\/content\\/ThoughtViz\\//\" ThoughtViz/testing/test.py\n",
        "\n",
        "# Rename GAN model directory to match code\n",
        "!mv /content/ThoughtViz/models/gan_models/thoughtviz/ /content/ThoughtViz/models/gan_models/final/"
      ],
      "execution_count": null,
      "outputs": []
    },
    {
      "cell_type": "markdown",
      "metadata": {
        "id": "L3Hr0y71HRvh"
      },
      "source": [
        "**Test code**\n",
        "\n",
        "Note: Images are not saved by default. \n",
        ">To save the output image, you must edit the *ThoughtViz/testing/test.py* file and add the line **img.save('output.png')** after *img.show()* in the *test_deligan_final* function. "
      ]
    },
    {
      "cell_type": "code",
      "metadata": {
        "id": "ov05zjNP70zG"
      },
      "source": [
        "!python3 ThoughtViz/testing/test.py"
      ],
      "execution_count": null,
      "outputs": []
    },
    {
      "cell_type": "code",
      "metadata": {
        "id": "iDsMYFGC-2sP"
      },
      "source": [
        ""
      ],
      "execution_count": null,
      "outputs": []
    },
    {
      "cell_type": "markdown",
      "metadata": {
        "id": "0T26wsTIKNzO"
      },
      "source": [
        "# EEG decoding to images - Download data"
      ]
    },
    {
      "cell_type": "markdown",
      "metadata": {
        "id": "QHBizvxZKxzb"
      },
      "source": [
        "**Complete the following steps before running the cells below**\n",
        "\n",
        "1.\n",
        "Change runtime to GPU \n",
        "\n",
        ">Runtime > Change runtime type > GPU\n",
        "\n",
        "2.\n",
        "For each of the following link, add a Google Drive shortcut to your Drive root folder(My Drive):\n",
        "\n",
        ">https://drive.google.com/drive/folders/1z8wcew5R7GCeu5s7SSsWw8bUcx1urVmk?usp=sharing"
      ]
    },
    {
      "cell_type": "markdown",
      "metadata": {
        "id": "qPGfxlKyK532"
      },
      "source": [
        "**Mount drive**"
      ]
    },
    {
      "cell_type": "code",
      "metadata": {
        "id": "R4ABBExvK6nU",
        "colab": {
          "base_uri": "https://localhost:8080/"
        },
        "outputId": "00be710a-480e-4475-d321-d403850b677a"
      },
      "source": [
        "from google.colab import drive\n",
        "drive.mount(\"/content/gdrive\")"
      ],
      "execution_count": 1,
      "outputs": [
        {
          "output_type": "stream",
          "text": [
            "Mounted at /content/gdrive\n"
          ],
          "name": "stdout"
        }
      ]
    },
    {
      "cell_type": "markdown",
      "metadata": {
        "id": "PwDnqhUwLBuG"
      },
      "source": [
        "**Copy EEG data**"
      ]
    },
    {
      "cell_type": "code",
      "metadata": {
        "id": "gdaZkwZBLCLu"
      },
      "source": [
        "!mkdir -p EEG2Image/data\n",
        "!cp /content/gdrive/MyDrive/EEG2Image/block_splits_by_image_all.pth /content/EEG2Image/data/\n",
        "# !cp /content/gdrive/MyDrive/EEG2Image/block_splits_by_image_single.pth /content/EEG2Image/data/"
      ],
      "execution_count": 11,
      "outputs": []
    },
    {
      "cell_type": "markdown",
      "metadata": {
        "id": "pNQaYZ5HyCa7"
      },
      "source": [
        "**Uncomment one of the following blocks**"
      ]
    },
    {
      "cell_type": "markdown",
      "metadata": {
        "id": "m4xLacydzSQ4"
      },
      "source": [
        "*5-95Hz*"
      ]
    },
    {
      "cell_type": "code",
      "metadata": {
        "id": "FRqC6iVFyCvW"
      },
      "source": [
        "!cp /content/gdrive/MyDrive/EEG2Image/eeg_5_95_std.pth /content/EEG2Image/data/\n",
        "data_path = \"/content/EEG2Image/data/eeg_5_95_std.pth\""
      ],
      "execution_count": null,
      "outputs": []
    },
    {
      "cell_type": "markdown",
      "metadata": {
        "id": "lMU8iY61zYB5"
      },
      "source": [
        "14-70Hz"
      ]
    },
    {
      "cell_type": "code",
      "metadata": {
        "id": "4aru_3JtzNI0"
      },
      "source": [
        "# !cp /content/gdrive/MyDrive/EEG2Image/eeg_14_70_std.pth /content/EEG2Image/data/\n",
        "# data_path = \"/content/EEG2Image/data/eeg_14_70_std.pth\""
      ],
      "execution_count": null,
      "outputs": []
    },
    {
      "cell_type": "markdown",
      "metadata": {
        "id": "DNDc6jwSzYjf"
      },
      "source": [
        "*55-95Hz*"
      ]
    },
    {
      "cell_type": "code",
      "metadata": {
        "id": "0nrNCoFSzNbX"
      },
      "source": [
        "# !cp /content/gdrive/MyDrive/EEG2Image/eeg_55_95_std.pth /content/EEG2Image/data/\n",
        "# data_path = \"/content/EEG2Image/data/eeg_55_95_std.pth\""
      ],
      "execution_count": null,
      "outputs": []
    },
    {
      "cell_type": "markdown",
      "metadata": {
        "id": "LtGN9xbZ39lE"
      },
      "source": [
        "# EEG decoding to images - Load data"
      ]
    },
    {
      "cell_type": "markdown",
      "metadata": {
        "id": "SAbmc-734gXr"
      },
      "source": [
        "Code provided by: *https://github.com/perceivelab/eeg_visual_classification/blob/main/eeg_signal_classification.py*"
      ]
    },
    {
      "cell_type": "code",
      "metadata": {
        "id": "fB7_4GgI4UkY"
      },
      "source": [
        "# Dataset class\n",
        "class EEGDataset:\n",
        "    \n",
        "    # Constructor\n",
        "    def __init__(self, eeg_signals_path):\n",
        "        # Load EEG signals\n",
        "        loaded = torch.load(eeg_signals_path)\n",
        "        if opt.subject!=0:\n",
        "            self.data = [loaded['dataset'][i] for i in range(len(loaded['dataset']) ) if loaded['dataset'][i]['subject']==opt.subject]\n",
        "        else:\n",
        "            self.data=loaded['dataset']        \n",
        "        self.labels = loaded[\"labels\"]\n",
        "        self.images = loaded[\"images\"]\n",
        "        \n",
        "        # Compute size\n",
        "        self.size = len(self.data)\n",
        "\n",
        "    # Get size\n",
        "    def __len__(self):\n",
        "        return self.size\n",
        "\n",
        "    # Get item\n",
        "    def __getitem__(self, i):\n",
        "        # Process EEG\n",
        "        eeg = self.data[i][\"eeg\"].float().t()\n",
        "        eeg = eeg[opt.time_low:opt.time_high,:]\n",
        "\n",
        "        if opt.model_type == \"model10\":\n",
        "            eeg = eeg.t()\n",
        "            eeg = eeg.view(1,128,opt.time_high-opt.time_low)\n",
        "        # Get label\n",
        "        label = self.data[i][\"label\"]\n",
        "        # Return\n",
        "        return eeg, label"
      ],
      "execution_count": 13,
      "outputs": []
    },
    {
      "cell_type": "markdown",
      "metadata": {
        "id": "_kwdKppi4K0Z"
      },
      "source": [
        "# New Section"
      ]
    },
    {
      "cell_type": "markdown",
      "metadata": {
        "id": "VC2ITzzILMDk"
      },
      "source": [
        "**LSTM stuff**"
      ]
    },
    {
      "cell_type": "code",
      "metadata": {
        "id": "MxsizMvPLUUQ"
      },
      "source": [
        "# Code goes here #"
      ],
      "execution_count": null,
      "outputs": []
    },
    {
      "cell_type": "markdown",
      "metadata": {
        "id": "Jz0lue81LaON"
      },
      "source": [
        "**GAN stuff**"
      ]
    },
    {
      "cell_type": "code",
      "metadata": {
        "id": "iJIEr4gVLgCY"
      },
      "source": [
        "# Code goes here #"
      ],
      "execution_count": null,
      "outputs": []
    },
    {
      "cell_type": "markdown",
      "metadata": {
        "id": "xXagbmapLnsY"
      },
      "source": [
        "**Test Code**"
      ]
    },
    {
      "cell_type": "code",
      "metadata": {
        "id": "sIc1nb7BLpsC"
      },
      "source": [
        "# Code goes here #"
      ],
      "execution_count": null,
      "outputs": []
    }
  ]
}