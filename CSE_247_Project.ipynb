{
  "nbformat": 4,
  "nbformat_minor": 0,
  "metadata": {
    "colab": {
      "name": "CSE 247 Project",
      "provenance": [],
      "collapsed_sections": [],
      "authorship_tag": "ABX9TyMe0mtzvcrN5HGmKMuUSwMt",
      "include_colab_link": true
    },
    "kernelspec": {
      "name": "python3",
      "display_name": "Python 3"
    },
    "language_info": {
      "name": "python"
    },
    "accelerator": "GPU"
  },
  "cells": [
    {
      "cell_type": "markdown",
      "metadata": {
        "id": "view-in-github",
        "colab_type": "text"
      },
      "source": [
        "<a href=\"https://colab.research.google.com/github/AlexanderCardarasUCSC/EEG-Decoding-to-Images/blob/main/CSE_247_Project.ipynb\" target=\"_parent\"><img src=\"https://colab.research.google.com/assets/colab-badge.svg\" alt=\"Open In Colab\"/></a>"
      ]
    },
    {
      "cell_type": "markdown",
      "metadata": {
        "id": "mUOI8Pnt1pzr"
      },
      "source": [
        "# ThoughtViz"
      ]
    },
    {
      "cell_type": "markdown",
      "metadata": {
        "id": "jTpkEupEF4S4"
      },
      "source": [
        "**Complete the following steps before running the cells below**\n",
        "\n",
        "1.\n",
        "Change runtime to GPU \n",
        "\n",
        ">Runtime > Change runtime type > GPU\n",
        "\n",
        "2.\n",
        "For each of the following files, add a Google Drive shortcut to your Drive root folder(My Drive):\n",
        "\n",
        ">https://drive.google.com/file/d/1atP9CsjWIT-hg3fX--fcC1hg0uvg9bEH/view\n",
        "\n",
        ">https://drive.google.com/file/d/1x32IulYeBVmkshEKweijMX3DK1Wu8odx/view\n",
        "\n",
        ">https://drive.google.com/file/d/1cq8RTBiwqO-Jo0TZjBNlRHZEhjKDknKP/view\n",
        "\n",
        ">https://drive.google.com/file/d/1U9qtN1SlOS3dzd2BwWWHhJiMz_0yNW9U/view\n",
        "\n",
        ">https://drive.google.com/file/d/1uFFhvTsU2nmdaecR2WPWsiGJfgI3as1_/view\n"
      ]
    },
    {
      "cell_type": "markdown",
      "metadata": {
        "id": "1TItDNCT0N9q"
      },
      "source": [
        "**Mount drive and download project**"
      ]
    },
    {
      "cell_type": "code",
      "metadata": {
        "colab": {
          "base_uri": "https://localhost:8080/"
        },
        "id": "ZUz-xkGirmGA",
        "outputId": "155249a2-6b15-44e6-e8ec-9537b4696b12"
      },
      "source": [
        "from google.colab import drive\n",
        "drive.mount(\"/content/gdrive\")"
      ],
      "execution_count": 1,
      "outputs": [
        {
          "output_type": "stream",
          "text": [
            "Mounted at /content/gdrive\n"
          ],
          "name": "stdout"
        }
      ]
    },
    {
      "cell_type": "code",
      "metadata": {
        "colab": {
          "base_uri": "https://localhost:8080/"
        },
        "id": "1Cz97ya73psY",
        "outputId": "c9ef9da9-4300-480d-e805-6312032a87ea"
      },
      "source": [
        "!git clone \"https://github.com/ptirupat/ThoughtViz.git\" \"/content/ThoughtViz\""
      ],
      "execution_count": 2,
      "outputs": [
        {
          "output_type": "stream",
          "text": [
            "Cloning into '/content/ThoughtViz'...\n",
            "remote: Enumerating objects: 105, done.\u001b[K\n",
            "remote: Total 105 (delta 0), reused 0 (delta 0), pack-reused 105\u001b[K\n",
            "Receiving objects: 100% (105/105), 28.01 KiB | 9.34 MiB/s, done.\n",
            "Resolving deltas: 100% (47/47), done.\n"
          ],
          "name": "stdout"
        }
      ]
    },
    {
      "cell_type": "markdown",
      "metadata": {
        "id": "TXJSE0mZGRI7"
      },
      "source": [
        "**Unzip project files**"
      ]
    },
    {
      "cell_type": "code",
      "metadata": {
        "colab": {
          "base_uri": "https://localhost:8080/"
        },
        "id": "oo9VRjm_soez",
        "outputId": "a1fca918-d82a-4de4-ac77-017433ff8581"
      },
      "source": [
        "!unzip -q \"/content/gdrive/My Drive/data.zip\" -d \"/content/ThoughtViz\" \n",
        "!unzip -q \"/content/gdrive/My Drive/images.zip\" -d \"/content/ThoughtViz/training\"\n",
        "!unzip -q \"/content/gdrive/My Drive/eeg_models.zip\" -d \"/content/ThoughtViz/models\" \n",
        "!unzip -q \"/content/gdrive/My Drive/trained_classifier_models.zip\" -d \"/content/ThoughtViz/training\"\n",
        "!unzip -q \"/content/gdrive/My Drive/gan_models.zip\" -d \"/content/ThoughtViz/models\"\n",
        "!echo \"Download Finished!\""
      ],
      "execution_count": 3,
      "outputs": [
        {
          "output_type": "stream",
          "text": [
            "Download Finished!\n"
          ],
          "name": "stdout"
        }
      ]
    },
    {
      "cell_type": "markdown",
      "metadata": {
        "id": "a79LZR2kDeaJ"
      },
      "source": [
        "**Update outdated module calls and make code compatible with colab environment**"
      ]
    },
    {
      "cell_type": "code",
      "metadata": {
        "colab": {
          "base_uri": "https://localhost:8080/"
        },
        "id": "K8qiLZ7nApzh",
        "outputId": "d0c65e23-2fee-49a6-fbf3-977ed22ad94e"
      },
      "source": [
        "# Update Keras module structure\n",
        "!sed -i \"s/keras.layers/keras/\" ThoughtViz/layers/mog_layer.py\n",
        "\n",
        "# Change System Path\n",
        "!sed -i \"1i import sys\\nsys.path.insert(0,'/content/ThoughtViz')\\n\" /content/ThoughtViz/testing/test.py\n",
        "!sed -i \"s/\\..\\//\\/content\\/ThoughtViz\\//\" ThoughtViz/testing/test.py\n",
        "\n",
        "# Rename GAN model directory to match code\n",
        "!mv /content/ThoughtViz/models/gan_models/thoughtviz/ /content/ThoughtViz/models/gan_models/final/"
      ],
      "execution_count": 1,
      "outputs": [
        {
          "output_type": "stream",
          "text": [
            "sed: can't read ThoughtViz/layers/mog_layer.py: No such file or directory\n",
            "sed: can't read /content/ThoughtViz/testing/test.py: No such file or directory\n",
            "sed: can't read ThoughtViz/testing/test.py: No such file or directory\n",
            "mv: cannot stat '/content/ThoughtViz/models/gan_models/thoughtviz/': No such file or directory\n"
          ],
          "name": "stdout"
        }
      ]
    },
    {
      "cell_type": "markdown",
      "metadata": {
        "id": "L3Hr0y71HRvh"
      },
      "source": [
        "**Test code**\n",
        "\n",
        "Note: Images are not saved by default. \n",
        ">To save the output image, you must edit the *ThoughtViz/testing/test.py* file and add the line **img.save('output.png')** after *img.show()* in the test_deligan_final function. "
      ]
    },
    {
      "cell_type": "code",
      "metadata": {
        "colab": {
          "base_uri": "https://localhost:8080/"
        },
        "id": "ov05zjNP70zG",
        "outputId": "e97e1fb6-6014-474e-fb20-08cd03cdee89"
      },
      "source": [
        "!python3 ThoughtViz/testing/test.py"
      ],
      "execution_count": 8,
      "outputs": [
        {
          "output_type": "stream",
          "text": [
            "2021-04-04 01:22:18.458431: I tensorflow/stream_executor/platform/default/dso_loader.cc:49] Successfully opened dynamic library libcudart.so.11.0\n",
            "/usr/local/lib/python3.7/dist-packages/tensorflow/python/keras/backend.py:434: UserWarning: `tf.keras.backend.set_learning_phase` is deprecated and will be removed after 2020-10-11. To update it, simply pass a True/False value to the `training` argument of the `__call__` method of your layer or model.\n",
            "  warnings.warn('`tf.keras.backend.set_learning_phase` is deprecated and '\n",
            "2021-04-04 01:22:20.272168: I tensorflow/compiler/jit/xla_cpu_device.cc:41] Not creating XLA devices, tf_xla_enable_xla_devices not set\n",
            "2021-04-04 01:22:20.273032: I tensorflow/stream_executor/platform/default/dso_loader.cc:49] Successfully opened dynamic library libcuda.so.1\n",
            "2021-04-04 01:22:20.307834: I tensorflow/stream_executor/cuda/cuda_gpu_executor.cc:941] successful NUMA node read from SysFS had negative value (-1), but there must be at least one NUMA node, so returning NUMA node zero\n",
            "2021-04-04 01:22:20.308659: I tensorflow/core/common_runtime/gpu/gpu_device.cc:1720] Found device 0 with properties: \n",
            "pciBusID: 0000:00:04.0 name: Tesla T4 computeCapability: 7.5\n",
            "coreClock: 1.59GHz coreCount: 40 deviceMemorySize: 14.75GiB deviceMemoryBandwidth: 298.08GiB/s\n",
            "2021-04-04 01:22:20.308987: I tensorflow/stream_executor/platform/default/dso_loader.cc:49] Successfully opened dynamic library libcudart.so.11.0\n",
            "2021-04-04 01:22:20.311201: I tensorflow/stream_executor/platform/default/dso_loader.cc:49] Successfully opened dynamic library libcublas.so.11\n",
            "2021-04-04 01:22:20.311272: I tensorflow/stream_executor/platform/default/dso_loader.cc:49] Successfully opened dynamic library libcublasLt.so.11\n",
            "2021-04-04 01:22:20.312710: I tensorflow/stream_executor/platform/default/dso_loader.cc:49] Successfully opened dynamic library libcufft.so.10\n",
            "2021-04-04 01:22:20.313026: I tensorflow/stream_executor/platform/default/dso_loader.cc:49] Successfully opened dynamic library libcurand.so.10\n",
            "2021-04-04 01:22:20.314516: I tensorflow/stream_executor/platform/default/dso_loader.cc:49] Successfully opened dynamic library libcusolver.so.10\n",
            "2021-04-04 01:22:20.314992: I tensorflow/stream_executor/platform/default/dso_loader.cc:49] Successfully opened dynamic library libcusparse.so.11\n",
            "2021-04-04 01:22:20.315185: I tensorflow/stream_executor/platform/default/dso_loader.cc:49] Successfully opened dynamic library libcudnn.so.8\n",
            "2021-04-04 01:22:20.315287: I tensorflow/stream_executor/cuda/cuda_gpu_executor.cc:941] successful NUMA node read from SysFS had negative value (-1), but there must be at least one NUMA node, so returning NUMA node zero\n",
            "2021-04-04 01:22:20.315862: I tensorflow/stream_executor/cuda/cuda_gpu_executor.cc:941] successful NUMA node read from SysFS had negative value (-1), but there must be at least one NUMA node, so returning NUMA node zero\n",
            "2021-04-04 01:22:20.316372: I tensorflow/core/common_runtime/gpu/gpu_device.cc:1862] Adding visible gpu devices: 0\n",
            "2021-04-04 01:22:20.316782: I tensorflow/compiler/jit/xla_gpu_device.cc:99] Not creating XLA devices, tf_xla_enable_xla_devices not set\n",
            "2021-04-04 01:22:20.316898: I tensorflow/stream_executor/cuda/cuda_gpu_executor.cc:941] successful NUMA node read from SysFS had negative value (-1), but there must be at least one NUMA node, so returning NUMA node zero\n",
            "2021-04-04 01:22:20.317423: I tensorflow/core/common_runtime/gpu/gpu_device.cc:1720] Found device 0 with properties: \n",
            "pciBusID: 0000:00:04.0 name: Tesla T4 computeCapability: 7.5\n",
            "coreClock: 1.59GHz coreCount: 40 deviceMemorySize: 14.75GiB deviceMemoryBandwidth: 298.08GiB/s\n",
            "2021-04-04 01:22:20.317451: I tensorflow/stream_executor/platform/default/dso_loader.cc:49] Successfully opened dynamic library libcudart.so.11.0\n",
            "2021-04-04 01:22:20.317480: I tensorflow/stream_executor/platform/default/dso_loader.cc:49] Successfully opened dynamic library libcublas.so.11\n",
            "2021-04-04 01:22:20.317501: I tensorflow/stream_executor/platform/default/dso_loader.cc:49] Successfully opened dynamic library libcublasLt.so.11\n",
            "2021-04-04 01:22:20.317520: I tensorflow/stream_executor/platform/default/dso_loader.cc:49] Successfully opened dynamic library libcufft.so.10\n",
            "2021-04-04 01:22:20.317537: I tensorflow/stream_executor/platform/default/dso_loader.cc:49] Successfully opened dynamic library libcurand.so.10\n",
            "2021-04-04 01:22:20.317555: I tensorflow/stream_executor/platform/default/dso_loader.cc:49] Successfully opened dynamic library libcusolver.so.10\n",
            "2021-04-04 01:22:20.317583: I tensorflow/stream_executor/platform/default/dso_loader.cc:49] Successfully opened dynamic library libcusparse.so.11\n",
            "2021-04-04 01:22:20.317601: I tensorflow/stream_executor/platform/default/dso_loader.cc:49] Successfully opened dynamic library libcudnn.so.8\n",
            "2021-04-04 01:22:20.317666: I tensorflow/stream_executor/cuda/cuda_gpu_executor.cc:941] successful NUMA node read from SysFS had negative value (-1), but there must be at least one NUMA node, so returning NUMA node zero\n",
            "2021-04-04 01:22:20.318216: I tensorflow/stream_executor/cuda/cuda_gpu_executor.cc:941] successful NUMA node read from SysFS had negative value (-1), but there must be at least one NUMA node, so returning NUMA node zero\n",
            "2021-04-04 01:22:20.318727: I tensorflow/core/common_runtime/gpu/gpu_device.cc:1862] Adding visible gpu devices: 0\n",
            "2021-04-04 01:22:20.318780: I tensorflow/stream_executor/platform/default/dso_loader.cc:49] Successfully opened dynamic library libcudart.so.11.0\n",
            "2021-04-04 01:22:20.804245: I tensorflow/core/common_runtime/gpu/gpu_device.cc:1261] Device interconnect StreamExecutor with strength 1 edge matrix:\n",
            "2021-04-04 01:22:20.804299: I tensorflow/core/common_runtime/gpu/gpu_device.cc:1267]      0 \n",
            "2021-04-04 01:22:20.804315: I tensorflow/core/common_runtime/gpu/gpu_device.cc:1280] 0:   N \n",
            "2021-04-04 01:22:20.804497: I tensorflow/stream_executor/cuda/cuda_gpu_executor.cc:941] successful NUMA node read from SysFS had negative value (-1), but there must be at least one NUMA node, so returning NUMA node zero\n",
            "2021-04-04 01:22:20.805324: I tensorflow/stream_executor/cuda/cuda_gpu_executor.cc:941] successful NUMA node read from SysFS had negative value (-1), but there must be at least one NUMA node, so returning NUMA node zero\n",
            "2021-04-04 01:22:20.806053: I tensorflow/stream_executor/cuda/cuda_gpu_executor.cc:941] successful NUMA node read from SysFS had negative value (-1), but there must be at least one NUMA node, so returning NUMA node zero\n",
            "2021-04-04 01:22:20.806558: W tensorflow/core/common_runtime/gpu/gpu_bfc_allocator.cc:39] Overriding allow_growth setting because the TF_FORCE_GPU_ALLOW_GROWTH environment variable is set. Original config value was 0.\n",
            "2021-04-04 01:22:20.806618: I tensorflow/core/common_runtime/gpu/gpu_device.cc:1406] Created TensorFlow device (/job:localhost/replica:0/task:0/device:GPU:0 with 13994 MB memory) -> physical GPU (device: 0, name: Tesla T4, pci bus id: 0000:00:04.0, compute capability: 7.5)\n",
            "2021-04-04 01:22:20.974421: I tensorflow/stream_executor/platform/default/dso_loader.cc:49] Successfully opened dynamic library libcudnn.so.8\n",
            "2021-04-04 01:22:22.909750: I tensorflow/stream_executor/platform/default/dso_loader.cc:49] Successfully opened dynamic library libcublas.so.11\n",
            "2021-04-04 01:22:23.376658: I tensorflow/stream_executor/platform/default/dso_loader.cc:49] Successfully opened dynamic library libcublasLt.so.11\n",
            "2021-04-04 01:22:23.998239: I tensorflow/compiler/mlir/mlir_graph_optimization_pass.cc:116] None of the MLIR optimization passes are enabled (registered 2)\n",
            "2021-04-04 01:22:23.998649: I tensorflow/core/platform/profile_utils/cpu_utils.cc:112] CPU Frequency: 2199995000 Hz\n"
          ],
          "name": "stdout"
        }
      ]
    },
    {
      "cell_type": "code",
      "metadata": {
        "id": "iDsMYFGC-2sP"
      },
      "source": [
        ""
      ],
      "execution_count": 12,
      "outputs": []
    },
    {
      "cell_type": "markdown",
      "metadata": {
        "id": "0T26wsTIKNzO"
      },
      "source": [
        "# EEG decoding to images"
      ]
    },
    {
      "cell_type": "markdown",
      "metadata": {
        "id": "QHBizvxZKxzb"
      },
      "source": [
        "**Complete the following steps before running the cells below**\n",
        "\n",
        "1.\n",
        "Change runtime to GPU \n",
        "\n",
        ">Runtime > Change runtime type > GPU\n",
        "\n",
        "2.\n",
        "For each of the following files, add a Google Drive shortcut to your Drive root folder(My Drive):\n",
        "\n",
        ">https://drive.google.com/file/d/1atP9CsjWIT-hg3fX--fcC1hg0uvg9bEH/view\n",
        "\n",
        ">https://drive.google.com/file/d/1x32IulYeBVmkshEKweijMX3DK1Wu8odx/view\n",
        "\n",
        ">https://drive.google.com/file/d/1cq8RTBiwqO-Jo0TZjBNlRHZEhjKDknKP/view\n",
        "\n",
        ">https://drive.google.com/file/d/1U9qtN1SlOS3dzd2BwWWHhJiMz_0yNW9U/view\n",
        "\n",
        ">https://drive.google.com/file/d/1uFFhvTsU2nmdaecR2WPWsiGJfgI3as1_/view\n"
      ]
    },
    {
      "cell_type": "markdown",
      "metadata": {
        "id": "qPGfxlKyK532"
      },
      "source": [
        "**Mount drive**"
      ]
    },
    {
      "cell_type": "code",
      "metadata": {
        "id": "R4ABBExvK6nU"
      },
      "source": [
        "from google.colab import drive\n",
        "drive.mount(\"/content/gdrive\")"
      ],
      "execution_count": null,
      "outputs": []
    },
    {
      "cell_type": "markdown",
      "metadata": {
        "id": "PwDnqhUwLBuG"
      },
      "source": [
        "**Unzip project files**"
      ]
    },
    {
      "cell_type": "code",
      "metadata": {
        "colab": {
          "base_uri": "https://localhost:8080/"
        },
        "id": "gdaZkwZBLCLu",
        "outputId": "61a8c439-1cd3-4dd1-e2a4-9f6de6b35302"
      },
      "source": [
        "!unzip -q \"/content/gdrive/My Drive/data.zip\" -d \"/content/ThoughtViz\" \n",
        "!unzip -q \"/content/gdrive/My Drive/images.zip\" -d \"/content/ThoughtViz/training\"\n",
        "!unzip -q \"/content/gdrive/My Drive/eeg_models.zip\" -d \"/content/ThoughtViz/models\" \n",
        "!unzip -q \"/content/gdrive/My Drive/trained_classifier_models.zip\" -d \"/content/ThoughtViz/training\"\n",
        "!unzip -q \"/content/gdrive/My Drive/gan_models.zip\" -d \"/content/ThoughtViz/models\"\n",
        "!echo \"Download Finished!\""
      ],
      "execution_count": 4,
      "outputs": [
        {
          "output_type": "stream",
          "text": [
            "unzip:  cannot find or open /content/gdrive/My Drive/data.zip, /content/gdrive/My Drive/data.zip.zip or /content/gdrive/My Drive/data.zip.ZIP.\n",
            "unzip:  cannot find or open /content/gdrive/My Drive/images.zip, /content/gdrive/My Drive/images.zip.zip or /content/gdrive/My Drive/images.zip.ZIP.\n",
            "unzip:  cannot find or open /content/gdrive/My Drive/eeg_models.zip, /content/gdrive/My Drive/eeg_models.zip.zip or /content/gdrive/My Drive/eeg_models.zip.ZIP.\n",
            "unzip:  cannot find or open /content/gdrive/My Drive/trained_classifier_models.zip, /content/gdrive/My Drive/trained_classifier_models.zip.zip or /content/gdrive/My Drive/trained_classifier_models.zip.ZIP.\n",
            "unzip:  cannot find or open /content/gdrive/My Drive/gan_models.zip, /content/gdrive/My Drive/gan_models.zip.zip or /content/gdrive/My Drive/gan_models.zip.ZIP.\n",
            "Download Finished!\n"
          ],
          "name": "stdout"
        }
      ]
    },
    {
      "cell_type": "markdown",
      "metadata": {
        "id": "VC2ITzzILMDk"
      },
      "source": [
        "**LSTM stuff**"
      ]
    },
    {
      "cell_type": "code",
      "metadata": {
        "id": "MxsizMvPLUUQ"
      },
      "source": [
        "# Code goes here #"
      ],
      "execution_count": 5,
      "outputs": []
    },
    {
      "cell_type": "markdown",
      "metadata": {
        "id": "Jz0lue81LaON"
      },
      "source": [
        "**GAN stuff**"
      ]
    },
    {
      "cell_type": "code",
      "metadata": {
        "id": "iJIEr4gVLgCY"
      },
      "source": [
        "# Code goes here #"
      ],
      "execution_count": 6,
      "outputs": []
    },
    {
      "cell_type": "markdown",
      "metadata": {
        "id": "xXagbmapLnsY"
      },
      "source": [
        "**Test Code**"
      ]
    },
    {
      "cell_type": "code",
      "metadata": {
        "id": "sIc1nb7BLpsC"
      },
      "source": [
        "# Code goes here #"
      ],
      "execution_count": 7,
      "outputs": []
    }
  ]
}