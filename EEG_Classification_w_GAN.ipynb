{
  "nbformat": 4,
  "nbformat_minor": 0,
  "metadata": {
    "accelerator": "GPU",
    "colab": {
      "name": "EEG_Classification_w_GAN_v2.ipynb",
      "provenance": [],
      "collapsed_sections": [
        "f7Uj68NrVxhS",
        "2vzn42AyPjLD",
        "r7p3UX3FywcC",
        "ic9LzRxwGcuy",
        "x4u8FobgdrVf",
        "fTZNIjFVkkFg",
        "iTdxOOBpTl3o",
        "Fm6yrWPK386D",
        "vEN0jAbCqwAG",
        "VnJHhiVZgcVW",
        "Ud2xg3Fch_nT",
        "-_mHuR2giV_J"
      ],
      "toc_visible": true,
      "machine_shape": "hm"
    },
    "kernelspec": {
      "display_name": "Python 3",
      "name": "python3"
    },
    "language_info": {
      "name": "python"
    }
  },
  "cells": [
    {
      "cell_type": "markdown",
      "metadata": {
        "id": "y59vViyC4LOS"
      },
      "source": [
        "# EEG to Image Generation\n",
        "Robert Sato, Alexander Cardaras\n",
        "<br>UC Santa Cruz\n",
        "## Version Info\n",
        "### Updated: 7/19/21\n",
        "- changed everything to OHE\n",
        "- add a 50k and full train set FID calculation at the end\n",
        "- change the data visualization of loss (avg? idk it looks too sharp rn)\n",
        "\n",
        "## Issues:\n",
        "\n",
        "## General Notes\n",
        "\n",
        "## Revisions\n",
        "- added\n",
        "    - class conditioned outputs\n",
        "    - validation set testing/visualization\n",
        "\n",
        "^ not tested yet"
      ]
    },
    {
      "cell_type": "markdown",
      "metadata": {
        "id": "f7Uj68NrVxhS"
      },
      "source": [
        "# Directions:\n",
        "- **Execute** mount drive cell\n",
        "- **Skip** load, convert and save data to Numpy files section\n",
        "- **Execute** cells starting from **Classify the EEG wave data section**"
      ]
    },
    {
      "cell_type": "markdown",
      "metadata": {
        "id": "qPGfxlKyK532"
      },
      "source": [
        "**Mount drive**"
      ]
    },
    {
      "cell_type": "code",
      "metadata": {
        "colab": {
          "base_uri": "https://localhost:8080/"
        },
        "id": "R4ABBExvK6nU",
        "outputId": "552a83ae-e7fb-41de-faf1-2f93d41d2cf1"
      },
      "source": [
        "from google.colab import drive\n",
        "drive.mount(\"/content/gdrive\")"
      ],
      "execution_count": 2,
      "outputs": [
        {
          "output_type": "stream",
          "text": [
            "Mounted at /content/gdrive\n"
          ],
          "name": "stdout"
        }
      ]
    },
    {
      "cell_type": "code",
      "metadata": {
        "colab": {
          "base_uri": "https://localhost:8080/"
        },
        "id": "Oa6_zjEjxam4",
        "outputId": "01183b68-0ede-4e80-9e40-5881ad5e108b"
      },
      "source": [
        "# Colab Pro GPUs\n",
        "gpu_info = !nvidia-smi\n",
        "gpu_info = '\\n'.join(gpu_info)\n",
        "if gpu_info.find('failed') >= 0:\n",
        "  print('Select the Runtime > \"Change runtime type\" menu to enable a GPU accelerator, ')\n",
        "  print('and then re-execute this cell.')\n",
        "else:\n",
        "  print(gpu_info)"
      ],
      "execution_count": 3,
      "outputs": [
        {
          "output_type": "stream",
          "text": [
            "Wed Jul 21 20:35:48 2021       \n",
            "+-----------------------------------------------------------------------------+\n",
            "| NVIDIA-SMI 470.42.01    Driver Version: 460.32.03    CUDA Version: 11.2     |\n",
            "|-------------------------------+----------------------+----------------------+\n",
            "| GPU  Name        Persistence-M| Bus-Id        Disp.A | Volatile Uncorr. ECC |\n",
            "| Fan  Temp  Perf  Pwr:Usage/Cap|         Memory-Usage | GPU-Util  Compute M. |\n",
            "|                               |                      |               MIG M. |\n",
            "|===============================+======================+======================|\n",
            "|   0  Tesla P100-PCIE...  Off  | 00000000:00:04.0 Off |                    0 |\n",
            "| N/A   40C    P0    27W / 250W |      0MiB / 16280MiB |      0%      Default |\n",
            "|                               |                      |                  N/A |\n",
            "+-------------------------------+----------------------+----------------------+\n",
            "                                                                               \n",
            "+-----------------------------------------------------------------------------+\n",
            "| Processes:                                                                  |\n",
            "|  GPU   GI   CI        PID   Type   Process name                  GPU Memory |\n",
            "|        ID   ID                                                   Usage      |\n",
            "|=============================================================================|\n",
            "|  No running processes found                                                 |\n",
            "+-----------------------------------------------------------------------------+\n"
          ],
          "name": "stdout"
        }
      ]
    },
    {
      "cell_type": "code",
      "metadata": {
        "colab": {
          "base_uri": "https://localhost:8080/"
        },
        "id": "INo65EJzxayX",
        "outputId": "55c7422c-917b-4f15-cd1f-9b34c7bcbab7"
      },
      "source": [
        "# Colab Pro More RAM\n",
        "from psutil import virtual_memory\n",
        "ram_gb = virtual_memory().total / 1e9\n",
        "print('Your runtime has {:.1f} gigabytes of available RAM\\n'.format(ram_gb))\n",
        "\n",
        "if ram_gb < 20:\n",
        "  print('To enable a high-RAM runtime, select the Runtime > \"Change runtime type\"')\n",
        "  print('menu, and then select High-RAM in the Runtime shape dropdown. Then, ')\n",
        "  print('re-execute this cell.')\n",
        "else:\n",
        "  print('You are using a high-RAM runtime!')"
      ],
      "execution_count": 4,
      "outputs": [
        {
          "output_type": "stream",
          "text": [
            "Your runtime has 27.3 gigabytes of available RAM\n",
            "\n",
            "You are using a high-RAM runtime!\n"
          ],
          "name": "stdout"
        }
      ]
    },
    {
      "cell_type": "markdown",
      "metadata": {
        "id": "P3WUVH56xkoo"
      },
      "source": [
        "# Load, convert and save data to Numpy files\n",
        "- only executed once to generate .npy files\n",
        "- load the .npy files directly for future use"
      ]
    },
    {
      "cell_type": "code",
      "metadata": {
        "id": "Sn-ooD_Xxp1t"
      },
      "source": [
        "import torch\n",
        "import numpy as np\n",
        "from numpy import save\n",
        "from numpy import load"
      ],
      "execution_count": 8,
      "outputs": []
    },
    {
      "cell_type": "code",
      "metadata": {
        "id": "3UexayZTyE6i"
      },
      "source": [
        "# use the default data_path\n",
        "# eeg_55_95_std.pth - saved\n",
        "# eeg_14_70_std.pth - saved\n",
        "# eeg_5_95_std.pth - saved\n",
        "\n",
        "raw_data_path = \"/content/gdrive/MyDrive/EEG2Image/eeg_55_95_std.pth\"\n",
        "save_data_path = \"/content/gdrive/MyDrive/EEG2Image/data/\""
      ],
      "execution_count": 9,
      "outputs": []
    },
    {
      "cell_type": "code",
      "metadata": {
        "colab": {
          "base_uri": "https://localhost:8080/"
        },
        "id": "E_LZ5zGRxtoB",
        "outputId": "06b68766-7d23-4a9a-938b-7cecd80ca4cb"
      },
      "source": [
        "# load eeg data from .pth files\n",
        "loaded = torch.load(raw_data_path)\n",
        "data = loaded['dataset']        \n",
        "labels = loaded[\"labels\"]\n",
        "images = loaded[\"images\"]\n",
        "size = len(data)\n",
        "print(size)"
      ],
      "execution_count": 10,
      "outputs": [
        {
          "output_type": "stream",
          "text": [
            "11965\n"
          ],
          "name": "stdout"
        }
      ]
    },
    {
      "cell_type": "code",
      "metadata": {
        "id": "TGHcbL1QxtuV",
        "colab": {
          "base_uri": "https://localhost:8080/"
        },
        "outputId": "8a0901f0-e26f-4288-e261-3ce2b017e0a4"
      },
      "source": [
        "# convert data tensors to np\n",
        "eeg_data = []\n",
        "labels = []\n",
        "\n",
        "# crop the first 20ms and last 40ms out\n",
        "time_low = 20\n",
        "time_high = 460\n",
        "\n",
        "verbose = False # set to True to print information on the data\n",
        "\n",
        "for i in range(size):\n",
        "    if verbose:\n",
        "        data_i = data[i]\n",
        "        print(\"Keys stored in each data[i] object:\", data_i.keys())\n",
        "\n",
        "        eeg_i = data[i][\"eeg\"]\n",
        "        print(\"Shape of data[i][\\\"eeg\\\"]:\", eeg_i.shape)\n",
        "        print(\"Type of data[i][\\\"eeg\\\"]:\", eeg_i.type)\n",
        "        print()\n",
        "\n",
        "        eeg_f = data[i][\"eeg\"].float() # simply converts to float\n",
        "        print(\"Shape of data[i][\\\"eeg\\\"].float():\", eeg_f.shape)\n",
        "        print(\"Type of data[i][\\\"eeg\\\"].float():\", eeg_f.type)\n",
        "        print()\n",
        "\n",
        "        eeg_t = data[i][\"eeg\"].float().t() # transposes the matrix\n",
        "        print(\"Shape of data[i][\\\"eeg\\\"].float().t():\", eeg_t.shape)\n",
        "        print(\"Type of data[i][\\\"eeg\\\"].float().t():\", eeg_t.type)\n",
        "        print()\n",
        "\n",
        "        image = data[i][\"image\"]\n",
        "        print(\"image:\", image)\n",
        "\n",
        "        label = data[i][\"label\"]\n",
        "        print(\"label:\", label)\n",
        "\n",
        "        subject = data[i][\"subject\"]\n",
        "        print(\"subject:\", subject)\n",
        "\n",
        "    eeg = data[i][\"eeg\"].float().t()\n",
        "    eeg = eeg[time_low:time_high,:] # trim the data to between 0.020s - 0.460s\n",
        "    label = data[i][\"label\"]\n",
        "\n",
        "    # convert from tensor to numpy\n",
        "    eeg_data.append(eeg.numpy())\n",
        "    labels.append(label)\n",
        "\n",
        "eeg_data = np.asarray(eeg_data)\n",
        "labels = np.asarray(labels)\n",
        "print(\"Shape of EEG data:\", eeg_data.shape)\n",
        "print(\"Shape of labels:\", labels.shape)"
      ],
      "execution_count": 11,
      "outputs": [
        {
          "output_type": "stream",
          "text": [
            "Shape of EEG data: (11965, 440, 128)\n",
            "Shape of labels: (11965,)\n"
          ],
          "name": "stdout"
        }
      ]
    },
    {
      "cell_type": "markdown",
      "metadata": {
        "id": "bYlhITW51NEq"
      },
      "source": [
        "### Information about the .pth file data\n",
        "- 6 subjects\n",
        "- 40 image classes\n",
        "- 50 images per class\n",
        "\n",
        "6 subjects * 40 classes * 50 images/class = 12,000 segments\n",
        "- each image (segment) = .5 ms @ 1kHz = 500 samples during the segment\n",
        "- each sample = 128 channels\n",
        "\n",
        "each segment = 128 * 500 voltage values"
      ]
    },
    {
      "cell_type": "code",
      "metadata": {
        "id": "61MOnMaGqrQf"
      },
      "source": [
        "save(\"/content/gdrive/MyDrive/EEG2Image/data/eeg_55_95.npy\", eeg_data)\n",
        "save(\"/content/gdrive/MyDrive/EEG2Image/data/labels_55_95.npy\", labels)"
      ],
      "execution_count": 12,
      "outputs": []
    },
    {
      "cell_type": "code",
      "metadata": {
        "id": "E61xUlOhtkoO"
      },
      "source": [
        "eeg_data = load(\"/content/gdrive/MyDrive/EEG2Image/data/eeg_55_95.npy\")\n",
        "labels = load(\"/content/gdrive/MyDrive/EEG2Image/data/labels_55_95.npy\")"
      ],
      "execution_count": null,
      "outputs": []
    },
    {
      "cell_type": "code",
      "metadata": {
        "id": "AUiygNso4exK"
      },
      "source": [
        "print(eeg_data.shape)"
      ],
      "execution_count": null,
      "outputs": []
    },
    {
      "cell_type": "markdown",
      "metadata": {
        "id": "_kwdKppi4K0Z"
      },
      "source": [
        "# Classify the EEG wave data\n",
        "- load the data\n",
        "- build a model\n",
        "- train the model\n",
        "- evaluate\n",
        "- predict"
      ]
    },
    {
      "cell_type": "code",
      "metadata": {
        "id": "UCovVKVZF1mQ"
      },
      "source": [
        "import numpy as np\n",
        "from numpy import save, load\n",
        "import matplotlib.pyplot as plt\n",
        "import tensorflow as tf\n",
        "from tensorflow.keras import layers\n",
        "from tensorflow.keras.models import Sequential\n",
        "from tensorflow.keras.layers import Dense, LSTM, Dropout, BatchNormalization, Conv2D, MaxPooling2D, Flatten\n",
        "from tensorflow.keras.utils import to_categorical\n",
        "from tensorflow.keras.regularizers import l1, l2\n",
        "from sklearn.model_selection import train_test_split\n",
        "from tensorflow.keras.utils import plot_model"
      ],
      "execution_count": 1,
      "outputs": []
    },
    {
      "cell_type": "markdown",
      "metadata": {
        "id": "APzwahduFmMV"
      },
      "source": [
        "### Load the data"
      ]
    },
    {
      "cell_type": "code",
      "metadata": {
        "colab": {
          "base_uri": "https://localhost:8080/"
        },
        "id": "35HiuxlvF1gz",
        "outputId": "6c51db13-ab67-41b3-db92-e2be43bfc619"
      },
      "source": [
        "# options for data separated by frequency bands\n",
        "# eeg_55_95.npy\n",
        "# eeg_14_70.npy\n",
        "# eeg_5_95.npy\n",
        "\n",
        "print(\"Input which subset of data to use. Normalized sigmoid 55-95Hz (0), 14-70Hz (1), 55-95Hz (2), 5-95Hz (3), norm linear 55-95Hz(_)\")\n",
        "x = input()\n",
        "x = int(x)\n",
        "\n",
        "labels = load(\"/content/gdrive/MyDrive/EEG2Image/data/labels_5_95.npy\")\n",
        "if x == 0:\n",
        "    data = load(\"/content/gdrive/MyDrive/EEG2Image/data/eeg_norm_sigmoid_55_95.npy\")\n",
        "    print(\"Finished loading sigmoid normalized 55-95Hz data\")\n",
        "elif x == 1:\n",
        "    data = load(\"/content/gdrive/MyDrive/EEG2Image/data/eeg_14_70.npy\")\n",
        "    print(\"Finished loading 14-70Hz data\")\n",
        "elif x == 2:\n",
        "    data = load(\"/content/gdrive/MyDrive/EEG2Image/data/eeg_55_95.npy\")\n",
        "    print(\"Finished loading 55-95Hz data\")\n",
        "elif x == 3:\n",
        "    data = load(\"/content/gdrive/MyDrive/EEG2Image/data/eeg_5_95.npy\")\n",
        "    print(\"Finished loading 5-95Hz data\")\n",
        "else:\n",
        "    data = load(\"/content/gdrive/MyDrive/EEG2Image/data/eeg_norm_linear_55_95.npy\")\n",
        "    print(\"Finished loading linear normalized 55-95Hz data\")"
      ],
      "execution_count": 57,
      "outputs": [
        {
          "output_type": "stream",
          "text": [
            "Input which subset of data to use. Normalized sigmoid 55-95Hz (0), 14-70Hz (1), 55-95Hz (2), 5-95Hz (3), norm linear 55-95Hz(_)\n",
            "2\n",
            "Finished loading 55-95Hz data\n"
          ],
          "name": "stdout"
        }
      ]
    },
    {
      "cell_type": "code",
      "metadata": {
        "id": "OW9UJ61CHrwa",
        "colab": {
          "base_uri": "https://localhost:8080/"
        },
        "outputId": "048495ed-8837-4bf8-bb33-4831af113061"
      },
      "source": [
        "print(\"Data shape:\", data.shape)\n",
        "print(\"Labels shape:\", labels.shape)\n",
        "print(labels[:100])"
      ],
      "execution_count": 58,
      "outputs": [
        {
          "output_type": "stream",
          "text": [
            "Data shape: (11965, 440, 128)\n",
            "Labels shape: (11965,)\n",
            "[10 30 29 10 30 25 18 30  3  8 11 18 28 38 37 20  3 28 23  0 38 34 20 23\n",
            " 39  0 17 34 11 21 20 10 37 39  7  6 26 20  1 27 30 35 37 19  9 12 18 25\n",
            " 27  4 13 34 35 25  8 29 15 12 17 38 37 27 25 32 22  2 35 14  5  8 20 31\n",
            " 25 31 37  2 33  6 37 32  5 26 26 20 30 34 18 23 18  2  3 19 11 26 20 27\n",
            " 27 18 39 33]\n"
          ],
          "name": "stdout"
        }
      ]
    },
    {
      "cell_type": "markdown",
      "metadata": {
        "id": "WB5DfyMeF6p6"
      },
      "source": [
        "### Restrict data to < 40 classes?"
      ]
    },
    {
      "cell_type": "code",
      "metadata": {
        "id": "VSy0_6r2F32v"
      },
      "source": [
        "# restrict data to first num_classes classes\n",
        "def restrict_data(data, labels, num_classes=10):\n",
        "    data_10 = []\n",
        "    labels_10 = []\n",
        "\n",
        "    for i in range(len(labels)):\n",
        "        if labels[i] < num_classes:\n",
        "            data_10.append(data[i])\n",
        "            labels_10.append(labels[i])\n",
        "\n",
        "    data_10 = np.asarray(data_10)\n",
        "    labels_10 = np.asarray(labels_10)\n",
        "\n",
        "    print(\"Reshaped data:\", data_10.shape)\n",
        "    print(\"Reshaped labels:\", labels_10.shape)\n",
        "\n",
        "    return data_10, labels_10"
      ],
      "execution_count": 59,
      "outputs": []
    },
    {
      "cell_type": "code",
      "metadata": {
        "id": "Nt5LUdGicCp2",
        "colab": {
          "base_uri": "https://localhost:8080/"
        },
        "outputId": "b16a1ac5-33e4-4fa2-e1b4-c96f3f985438"
      },
      "source": [
        "NUM_CLASSES = 10\n",
        "data, labels = restrict_data(data, labels, num_classes=NUM_CLASSES)"
      ],
      "execution_count": 60,
      "outputs": [
        {
          "output_type": "stream",
          "text": [
            "Reshaped data: (3000, 440, 128)\n",
            "Reshaped labels: (3000,)\n"
          ],
          "name": "stdout"
        }
      ]
    },
    {
      "cell_type": "code",
      "metadata": {
        "id": "3_XcoT1fFL3M",
        "colab": {
          "base_uri": "https://localhost:8080/"
        },
        "outputId": "6db9f88e-7df1-42dd-be0d-9b0565dc3f11"
      },
      "source": [
        "print(labels[:100])"
      ],
      "execution_count": 61,
      "outputs": [
        {
          "output_type": "stream",
          "text": [
            "[3 8 3 0 0 7 6 1 9 4 8 2 5 8 2 6 5 2 3 1 5 8 6 8 6 1 7 6 5 6 2 4 7 8 3 5 3\n",
            " 7 5 0 7 4 0 5 4 9 3 5 0 8 3 1 1 7 8 9 7 3 6 6 1 7 9 3 8 4 4 3 9 3 5 9 3 3\n",
            " 8 7 6 4 1 1 8 8 1 9 8 1 8 7 6 6 9 1 3 3 1 3 1 1 0 9]\n"
          ],
          "name": "stdout"
        }
      ]
    },
    {
      "cell_type": "markdown",
      "metadata": {
        "id": "2vzn42AyPjLD"
      },
      "source": [
        "## Normalize the data (if not already normalized)"
      ]
    },
    {
      "cell_type": "markdown",
      "metadata": {
        "id": "r7p3UX3FywcC"
      },
      "source": [
        "### Mean 0, sigmoid"
      ]
    },
    {
      "cell_type": "code",
      "metadata": {
        "id": "r16oXMYo6-XM"
      },
      "source": [
        "# transpose the data to channels on the first axis to normalize\n",
        "data = data.transpose(2, 0, 1)\n",
        "print(\"Data shape:\", data.shape)"
      ],
      "execution_count": null,
      "outputs": []
    },
    {
      "cell_type": "code",
      "metadata": {
        "id": "L6PRFpH2zXeh"
      },
      "source": [
        "def sigmoid(x):\n",
        "    return 1 / (1 + np.exp(-x))\n",
        "\n",
        "# vectorie the function so it can be applied to np arrays\n",
        "sigmoid_v = np.vectorize(sigmoid)"
      ],
      "execution_count": null,
      "outputs": []
    },
    {
      "cell_type": "code",
      "metadata": {
        "id": "NORAeDYmx73_"
      },
      "source": [
        "def normalize_array(data):\n",
        "    # compute the average\n",
        "    avg = np.average(data)\n",
        "    print(\"Average EEG reading:\", avg)\n",
        "    print(\"data[0][0] (before shifting):\", data[0][0])\n",
        "    # center the data around 0 by subtracting the average\n",
        "    shifted = data - avg\n",
        "    print(\"Shape of shifted data:\", shifted.shape)\n",
        "    print(\"shifted[0][0] (after shifting):\", shifted[0][0])\n",
        "    # apply sigmoid function to get values in the range 0 - 1\n",
        "    return sigmoid_v(shifted)\n",
        "\n",
        "def normalize_data(data):\n",
        "    # expects array of arrays as input\n",
        "    for i in range(len(data)):\n",
        "        print(\"\\nNormalizing channel\", i)\n",
        "        data[i] = normalize_array(data[i])"
      ],
      "execution_count": null,
      "outputs": []
    },
    {
      "cell_type": "code",
      "metadata": {
        "id": "pC7ZBo7Jx8MO"
      },
      "source": [
        "normalize_data(data)"
      ],
      "execution_count": null,
      "outputs": []
    },
    {
      "cell_type": "code",
      "metadata": {
        "id": "DzDY6ggSx6Zc"
      },
      "source": [
        "# check normalization\n",
        "print(\"min:\", np.amin(data))\n",
        "print(\"max:\", np.amax(data))"
      ],
      "execution_count": null,
      "outputs": []
    },
    {
      "cell_type": "code",
      "metadata": {
        "id": "hJHTP-d06-iy"
      },
      "source": [
        "# revert the data\n",
        "data = data.transpose(1, 2, 0)\n",
        "print(\"Data shape:\", data.shape)"
      ],
      "execution_count": null,
      "outputs": []
    },
    {
      "cell_type": "code",
      "metadata": {
        "id": "iG0gC3vx8n-p"
      },
      "source": [
        "save(\"/content/gdrive/MyDrive/EEG2Image/data/eeg_norm_sigmoid_55_95.npy\", data)"
      ],
      "execution_count": null,
      "outputs": []
    },
    {
      "cell_type": "code",
      "metadata": {
        "id": "c4cUcRKH4fz5"
      },
      "source": [
        "plt.figure(figsize=(20,20))\n",
        "plt.plot(data[0])"
      ],
      "execution_count": null,
      "outputs": []
    },
    {
      "cell_type": "markdown",
      "metadata": {
        "id": "voffCTl0zJgP"
      },
      "source": [
        "### Linear Normalization - [min, max] -> [0, 1]"
      ]
    },
    {
      "cell_type": "code",
      "metadata": {
        "id": "99aMPlNQzOlv"
      },
      "source": [
        "# transpose the data to channels on the first axis to normalize\n",
        "data = data.transpose(2, 0, 1)\n",
        "print(\"Data shape:\", data.shape)"
      ],
      "execution_count": null,
      "outputs": []
    },
    {
      "cell_type": "code",
      "metadata": {
        "id": "N2eAv1DqzOq-"
      },
      "source": [
        "def normalize_data(data):\n",
        "    # expects array of arrays as input\n",
        "    for i in range(len(data)):\n",
        "        min = np.amin(data[i])\n",
        "        data[i] -= min\n",
        "        # shift all values so min is 0\n",
        "        # divide by new max\n",
        "        max = np.amax(data[i])\n",
        "        print(\"\\nNormalizing channel\", i, \"\\nMax:\", max)\n",
        "        data[i] /= max"
      ],
      "execution_count": null,
      "outputs": []
    },
    {
      "cell_type": "code",
      "metadata": {
        "id": "VsWEljQUzOwo"
      },
      "source": [
        "# check normalization\n",
        "print(\"min:\", np.amin(data))\n",
        "print(\"max:\", np.amax(data))\n",
        "\n",
        "normalize_data(data)\n",
        "\n",
        "print(\"After normalization:\")\n",
        "print(\"min:\", np.amin(data))\n",
        "print(\"max:\", np.amax(data))\n",
        "\n",
        "for channel in range(len(data)):\n",
        "    print(\"Average EEG reading for channel i:\", np.average(data[channel]))"
      ],
      "execution_count": null,
      "outputs": []
    },
    {
      "cell_type": "code",
      "metadata": {
        "id": "EHebaxhtzO2Z"
      },
      "source": [
        "# revert the data\n",
        "data = data.transpose(1, 2, 0)\n",
        "print(\"Data shape:\", data.shape)"
      ],
      "execution_count": null,
      "outputs": []
    },
    {
      "cell_type": "code",
      "metadata": {
        "id": "R-eO5_kZzO9t"
      },
      "source": [
        "save(\"/content/gdrive/MyDrive/EEG2Image/data/eeg_norm_linear_55_95.npy\", data)"
      ],
      "execution_count": null,
      "outputs": []
    },
    {
      "cell_type": "code",
      "metadata": {
        "id": "qIqiBT-dzPCN"
      },
      "source": [
        "plt.figure(figsize=(20,20))\n",
        "plt.plot(data[0])"
      ],
      "execution_count": null,
      "outputs": []
    },
    {
      "cell_type": "code",
      "metadata": {
        "id": "8_vs2AoAzPJE"
      },
      "source": [
        ""
      ],
      "execution_count": null,
      "outputs": []
    },
    {
      "cell_type": "code",
      "metadata": {
        "id": "YeozKodnzPPV"
      },
      "source": [
        ""
      ],
      "execution_count": null,
      "outputs": []
    },
    {
      "cell_type": "code",
      "metadata": {
        "id": "O0Hm40rdzPWa"
      },
      "source": [
        ""
      ],
      "execution_count": null,
      "outputs": []
    },
    {
      "cell_type": "code",
      "metadata": {
        "id": "lVkDMOXvzPdU"
      },
      "source": [
        ""
      ],
      "execution_count": null,
      "outputs": []
    },
    {
      "cell_type": "markdown",
      "metadata": {
        "id": "VC2ITzzILMDk"
      },
      "source": [
        "## EEG Classification"
      ]
    },
    {
      "cell_type": "code",
      "metadata": {
        "id": "MxsizMvPLUUQ",
        "colab": {
          "base_uri": "https://localhost:8080/"
        },
        "outputId": "1a2854b5-4bf4-43b8-934e-a90f36d5360c"
      },
      "source": [
        "# initialize training and test data\n",
        "x_train, x_test, y_train, y_test = train_test_split(data, labels, test_size = 0.20, random_state = 10)\n",
        "print('Shape of x_train:', x_train.shape)\n",
        "print('Shape of y_train:', y_train.shape)\n",
        "print('Shape of x_test:', x_test.shape)\n",
        "print('Shape of y_test:', y_test.shape)\n",
        "\n",
        "# one hot encode the labels\n",
        "#y_train = to_categorical(y_train, 40)\n",
        "#y_test = to_categorical(y_test, 40)\n",
        "\n",
        "y_train = to_categorical(y_train, NUM_CLASSES)\n",
        "y_test = to_categorical(y_test, NUM_CLASSES)"
      ],
      "execution_count": 62,
      "outputs": [
        {
          "output_type": "stream",
          "text": [
            "Shape of x_train: (2400, 440, 128)\n",
            "Shape of y_train: (2400,)\n",
            "Shape of x_test: (600, 440, 128)\n",
            "Shape of y_test: (600,)\n"
          ],
          "name": "stdout"
        }
      ]
    },
    {
      "cell_type": "code",
      "metadata": {
        "id": "vLwBCCS4Hgew",
        "colab": {
          "base_uri": "https://localhost:8080/"
        },
        "outputId": "11aecdad-91a7-4a3f-93d1-928d05edb148"
      },
      "source": [
        "# define parameters\n",
        "BATCH_SIZE = 16\n",
        "EPOCHS = 100\n",
        "\n",
        "TIMESTEPS = len(data[0])\n",
        "TOTAL_INPUTS = len(data)\n",
        "DATA_POINTS = TOTAL_INPUTS * TIMESTEPS \n",
        "FEATURES = len(x_train[0][0])\n",
        "\n",
        "print('TIMESTEPS =', TIMESTEPS)\n",
        "print('TOTAL_INPUTS =', TOTAL_INPUTS)\n",
        "print('DATA_POINTS =', DATA_POINTS)\n",
        "print('FEATURES =', FEATURES)"
      ],
      "execution_count": 63,
      "outputs": [
        {
          "output_type": "stream",
          "text": [
            "TIMESTEPS = 440\n",
            "TOTAL_INPUTS = 3000\n",
            "DATA_POINTS = 1320000\n",
            "FEATURES = 128\n"
          ],
          "name": "stdout"
        }
      ]
    },
    {
      "cell_type": "markdown",
      "metadata": {
        "id": "YCjZ9hkbC2IL"
      },
      "source": [
        "### LSTM Model"
      ]
    },
    {
      "cell_type": "code",
      "metadata": {
        "id": "pCG6l__FHgl2"
      },
      "source": [
        "# LSTM model\n",
        "# reference: https://arxiv.org/pdf/1609.00344.pdf\n",
        "model = Sequential()\n",
        "model.add(LSTM(128, input_shape = (TIMESTEPS, FEATURES), activity_regularizer=l2(0.001))) \n",
        "model.add(Dense(128, activation='relu'))\n",
        "model.add(Dense(40, activation='softmax'))"
      ],
      "execution_count": null,
      "outputs": []
    },
    {
      "cell_type": "markdown",
      "metadata": {
        "id": "sI3rwznjCwQj"
      },
      "source": [
        "### CNN Model\n",
        "This model is from the ThoughtViz paper\n",
        "https://github.com/ptirupat/ThoughtViz/blob/24a4a8a7d3a3191bb0b45b7a2ba686ac7301875a/training/models/classification.py"
      ]
    },
    {
      "cell_type": "code",
      "metadata": {
        "id": "xGULB0v5BxaP"
      },
      "source": [
        "# reshape the input for CNN to (_, 128, 440)\n",
        "x_train = x_train.transpose(0, 2, 1)\n",
        "x_test = x_test.transpose(0, 2, 1)"
      ],
      "execution_count": 64,
      "outputs": []
    },
    {
      "cell_type": "code",
      "metadata": {
        "id": "IjLsZbQsCQVb"
      },
      "source": [
        "# reshape the input for CNN to (_, 128, 440, 1)\n",
        "x_train = x_train.reshape(x_train.shape[0], x_train.shape[1], x_train.shape[2], 1)\n",
        "x_test = x_test.reshape(x_test.shape[0], x_test.shape[1], x_test.shape[2], 1)"
      ],
      "execution_count": 65,
      "outputs": []
    },
    {
      "cell_type": "code",
      "metadata": {
        "id": "5_8Hv9xxVbjY",
        "colab": {
          "base_uri": "https://localhost:8080/"
        },
        "outputId": "6b594067-a646-45ec-fa08-973599dbd79a"
      },
      "source": [
        "# ThoughtViz paper:\n",
        "# https://github.com/ptirupat/ThoughtViz/blob/24a4a8a7d3a3191bb0b45b7a2ba686ac7301875a/training/models/classification.py\n",
        "print(x_train.shape)\n",
        "\n",
        "# define the CNN model for classification\n",
        "def convolutional_encoder_model(channels, observations, num_classes):\n",
        "    model = Sequential()\n",
        "    #model.add(BatchNormalization(input_shape=(channels, observations, 1)))\n",
        "    model.add(BatchNormalization(input_shape=(channels, observations, 1) )) # dont specify batch size\n",
        "    model.add(Conv2D(32, (1, 4), activation='relu'))\n",
        "    model.add(Conv2D(25, (channels, 1), activation='relu'))\n",
        "    model.add(MaxPooling2D((1, 3)))\n",
        "    model.add(Conv2D(50, (4, 25), activation='relu', data_format='channels_first'))\n",
        "    model.add(MaxPooling2D((1, 3)))\n",
        "    model.add(Conv2D(100, (50, 2), activation='relu'))\n",
        "    model.add(Flatten())\n",
        "    model.add(BatchNormalization())\n",
        "    model.add(Dense(100, activation='relu'))\n",
        "    model.add(BatchNormalization())\n",
        "    model.add(Dense(num_classes, activation='softmax'))\n",
        "    return model\n",
        "model = convolutional_encoder_model(FEATURES, TIMESTEPS, num_classes=NUM_CLASSES)"
      ],
      "execution_count": 66,
      "outputs": [
        {
          "output_type": "stream",
          "text": [
            "(2400, 128, 440, 1)\n"
          ],
          "name": "stdout"
        }
      ]
    },
    {
      "cell_type": "markdown",
      "metadata": {
        "id": "YMfoLYAiC-h1"
      },
      "source": [
        "### Model Summary, Fit and Results"
      ]
    },
    {
      "cell_type": "code",
      "metadata": {
        "id": "_K9MTNVUHgtA",
        "colab": {
          "base_uri": "https://localhost:8080/",
          "height": 1000
        },
        "outputId": "6aaa6c65-b136-474d-d59c-ea6acd581c13"
      },
      "source": [
        "model.summary()\n",
        "plot_model(model, to_file='classifier_model.png', show_shapes=True, show_layer_names=True)"
      ],
      "execution_count": 67,
      "outputs": [
        {
          "output_type": "stream",
          "text": [
            "Model: \"sequential_3\"\n",
            "_________________________________________________________________\n",
            "Layer (type)                 Output Shape              Param #   \n",
            "=================================================================\n",
            "batch_normalization_9 (Batch (None, 128, 440, 1)       4         \n",
            "_________________________________________________________________\n",
            "conv2d_12 (Conv2D)           (None, 128, 437, 32)      160       \n",
            "_________________________________________________________________\n",
            "conv2d_13 (Conv2D)           (None, 1, 437, 25)        102425    \n",
            "_________________________________________________________________\n",
            "max_pooling2d_6 (MaxPooling2 (None, 1, 145, 25)        0         \n",
            "_________________________________________________________________\n",
            "conv2d_14 (Conv2D)           (None, 50, 142, 1)        5050      \n",
            "_________________________________________________________________\n",
            "max_pooling2d_7 (MaxPooling2 (None, 50, 47, 1)         0         \n",
            "_________________________________________________________________\n",
            "conv2d_15 (Conv2D)           (None, 1, 46, 100)        10100     \n",
            "_________________________________________________________________\n",
            "flatten_3 (Flatten)          (None, 4600)              0         \n",
            "_________________________________________________________________\n",
            "batch_normalization_10 (Batc (None, 4600)              18400     \n",
            "_________________________________________________________________\n",
            "dense_6 (Dense)              (None, 100)               460100    \n",
            "_________________________________________________________________\n",
            "batch_normalization_11 (Batc (None, 100)               400       \n",
            "_________________________________________________________________\n",
            "dense_7 (Dense)              (None, 10)                1010      \n",
            "=================================================================\n",
            "Total params: 597,649\n",
            "Trainable params: 588,247\n",
            "Non-trainable params: 9,402\n",
            "_________________________________________________________________\n"
          ],
          "name": "stdout"
        },
        {
          "output_type": "execute_result",
          "data": {
            "image/png": "[encoded data removed]",
            "text/plain": [
              "<IPython.core.display.Image object>"
            ]
          },
          "metadata": {
            "tags": []
          },
          "execution_count": 67
        }
      ]
    },
    {
      "cell_type": "code",
      "metadata": {
        "id": "G893LaKzJjsB"
      },
      "source": [
        "# default schedule\n",
        "#OPT = 'adam'\n",
        "#OPT = 'SGD'\n",
        "#ThoughtViz\n",
        "OPT = tf.keras.optimizers.SGD(learning_rate=0.0001, decay=1e-6, momentum=0.9, nesterov=True)\n",
        "model.compile(loss='categorical_crossentropy', optimizer = OPT, metrics = ['accuracy'])"
      ],
      "execution_count": 68,
      "outputs": []
    },
    {
      "cell_type": "code",
      "metadata": {
        "id": "yBsO_RXYMqI3"
      },
      "source": [
        "my_callbacks = [\n",
        "    tf.keras.callbacks.EarlyStopping(patience=10),\n",
        "    #tf.keras.callbacks.ModelCheckpoint(filepath='model.{epoch:02d}-{val_loss:.2f}.h5'),\n",
        "    tf.keras.callbacks.TensorBoard(log_dir='./logs'),\n",
        "]"
      ],
      "execution_count": 69,
      "outputs": []
    },
    {
      "cell_type": "code",
      "metadata": {
        "id": "txT13FjJJjzm",
        "colab": {
          "base_uri": "https://localhost:8080/"
        },
        "outputId": "d818ebc9-44dc-41f1-dc11-2e49a19662b5"
      },
      "source": [
        "history = model.fit(\n",
        "    x_train, \n",
        "    y_train,\n",
        "    epochs=EPOCHS, \n",
        "    batch_size=BATCH_SIZE,\n",
        "    validation_split=0.1,\n",
        "    verbose=2,\n",
        "    callbacks=my_callbacks)"
      ],
      "execution_count": 70,
      "outputs": [
        {
          "output_type": "stream",
          "text": [
            "Epoch 1/100\n",
            "135/135 - 5s - loss: 2.3087 - accuracy: 0.1944 - val_loss: 2.2990 - val_accuracy: 0.1125\n",
            "Epoch 2/100\n",
            "135/135 - 4s - loss: 1.7970 - accuracy: 0.3458 - val_loss: 2.2729 - val_accuracy: 0.1417\n",
            "Epoch 3/100\n",
            "135/135 - 4s - loss: 1.5050 - accuracy: 0.4588 - val_loss: 2.1507 - val_accuracy: 0.2167\n",
            "Epoch 4/100\n",
            "135/135 - 4s - loss: 1.2622 - accuracy: 0.5625 - val_loss: 1.8503 - val_accuracy: 0.3375\n",
            "Epoch 5/100\n",
            "135/135 - 4s - loss: 1.1057 - accuracy: 0.6264 - val_loss: 1.5293 - val_accuracy: 0.4375\n",
            "Epoch 6/100\n",
            "135/135 - 4s - loss: 0.9594 - accuracy: 0.6741 - val_loss: 1.4090 - val_accuracy: 0.4583\n",
            "Epoch 7/100\n",
            "135/135 - 4s - loss: 0.8556 - accuracy: 0.7227 - val_loss: 1.2339 - val_accuracy: 0.5250\n",
            "Epoch 8/100\n",
            "135/135 - 4s - loss: 0.8068 - accuracy: 0.7329 - val_loss: 1.2299 - val_accuracy: 0.5333\n",
            "Epoch 9/100\n",
            "135/135 - 4s - loss: 0.7032 - accuracy: 0.7769 - val_loss: 1.1463 - val_accuracy: 0.5750\n",
            "Epoch 10/100\n",
            "135/135 - 4s - loss: 0.6402 - accuracy: 0.8116 - val_loss: 1.1917 - val_accuracy: 0.5625\n",
            "Epoch 11/100\n",
            "135/135 - 4s - loss: 0.6121 - accuracy: 0.8130 - val_loss: 1.2023 - val_accuracy: 0.5542\n",
            "Epoch 12/100\n",
            "135/135 - 4s - loss: 0.5518 - accuracy: 0.8403 - val_loss: 1.2297 - val_accuracy: 0.5458\n",
            "Epoch 13/100\n",
            "135/135 - 4s - loss: 0.5001 - accuracy: 0.8644 - val_loss: 1.0911 - val_accuracy: 0.5833\n",
            "Epoch 14/100\n",
            "135/135 - 4s - loss: 0.4663 - accuracy: 0.8759 - val_loss: 0.9788 - val_accuracy: 0.6042\n",
            "Epoch 15/100\n",
            "135/135 - 4s - loss: 0.4242 - accuracy: 0.8861 - val_loss: 1.0375 - val_accuracy: 0.6292\n",
            "Epoch 16/100\n",
            "135/135 - 4s - loss: 0.3938 - accuracy: 0.8995 - val_loss: 1.3228 - val_accuracy: 0.5833\n",
            "Epoch 17/100\n",
            "135/135 - 4s - loss: 0.3813 - accuracy: 0.9037 - val_loss: 1.1089 - val_accuracy: 0.6083\n",
            "Epoch 18/100\n",
            "135/135 - 4s - loss: 0.3519 - accuracy: 0.9157 - val_loss: 1.1894 - val_accuracy: 0.5917\n",
            "Epoch 19/100\n",
            "135/135 - 4s - loss: 0.3235 - accuracy: 0.9236 - val_loss: 1.0933 - val_accuracy: 0.6000\n",
            "Epoch 20/100\n",
            "135/135 - 4s - loss: 0.2880 - accuracy: 0.9384 - val_loss: 0.9210 - val_accuracy: 0.6542\n",
            "Epoch 21/100\n",
            "135/135 - 4s - loss: 0.2754 - accuracy: 0.9435 - val_loss: 0.8793 - val_accuracy: 0.6667\n",
            "Epoch 22/100\n",
            "135/135 - 4s - loss: 0.2598 - accuracy: 0.9556 - val_loss: 0.9549 - val_accuracy: 0.6583\n",
            "Epoch 23/100\n",
            "135/135 - 4s - loss: 0.2244 - accuracy: 0.9634 - val_loss: 0.8938 - val_accuracy: 0.6875\n",
            "Epoch 24/100\n",
            "135/135 - 4s - loss: 0.2199 - accuracy: 0.9611 - val_loss: 0.9446 - val_accuracy: 0.6292\n",
            "Epoch 25/100\n",
            "135/135 - 4s - loss: 0.2177 - accuracy: 0.9606 - val_loss: 0.9296 - val_accuracy: 0.6667\n",
            "Epoch 26/100\n",
            "135/135 - 4s - loss: 0.1874 - accuracy: 0.9736 - val_loss: 1.0080 - val_accuracy: 0.6625\n",
            "Epoch 27/100\n",
            "135/135 - 4s - loss: 0.1845 - accuracy: 0.9731 - val_loss: 0.9517 - val_accuracy: 0.6417\n",
            "Epoch 28/100\n",
            "135/135 - 4s - loss: 0.1655 - accuracy: 0.9810 - val_loss: 0.8654 - val_accuracy: 0.7083\n",
            "Epoch 29/100\n",
            "135/135 - 4s - loss: 0.1568 - accuracy: 0.9815 - val_loss: 1.0456 - val_accuracy: 0.6458\n",
            "Epoch 30/100\n",
            "135/135 - 4s - loss: 0.1333 - accuracy: 0.9894 - val_loss: 0.8920 - val_accuracy: 0.6958\n",
            "Epoch 31/100\n",
            "135/135 - 4s - loss: 0.1329 - accuracy: 0.9843 - val_loss: 0.8979 - val_accuracy: 0.6958\n",
            "Epoch 32/100\n",
            "135/135 - 4s - loss: 0.1263 - accuracy: 0.9866 - val_loss: 0.9084 - val_accuracy: 0.7167\n",
            "Epoch 33/100\n",
            "135/135 - 4s - loss: 0.1160 - accuracy: 0.9907 - val_loss: 0.8820 - val_accuracy: 0.7042\n",
            "Epoch 34/100\n",
            "135/135 - 4s - loss: 0.1274 - accuracy: 0.9898 - val_loss: 0.9621 - val_accuracy: 0.6833\n",
            "Epoch 35/100\n",
            "135/135 - 4s - loss: 0.1134 - accuracy: 0.9898 - val_loss: 0.8937 - val_accuracy: 0.7167\n",
            "Epoch 36/100\n",
            "135/135 - 4s - loss: 0.1065 - accuracy: 0.9921 - val_loss: 0.9028 - val_accuracy: 0.7083\n",
            "Epoch 37/100\n",
            "135/135 - 4s - loss: 0.0991 - accuracy: 0.9944 - val_loss: 0.9820 - val_accuracy: 0.6833\n",
            "Epoch 38/100\n",
            "135/135 - 4s - loss: 0.0906 - accuracy: 0.9954 - val_loss: 0.8874 - val_accuracy: 0.6875\n"
          ],
          "name": "stdout"
        }
      ]
    },
    {
      "cell_type": "code",
      "metadata": {
        "id": "zRsCade_NgI8",
        "colab": {
          "base_uri": "https://localhost:8080/"
        },
        "outputId": "8e5938cd-d655-4ce5-f0aa-e2fd8c64a56b"
      },
      "source": [
        "train_loss,train_acc = model.evaluate(x_train,y_train)\n",
        "test_loss, test_acc = model.evaluate(x_test,y_test)\n",
        "print('Training set accuracy:', train_acc)\n",
        "print('Test set accuracy:', test_acc)"
      ],
      "execution_count": 71,
      "outputs": [
        {
          "output_type": "stream",
          "text": [
            "75/75 [==============================] - 1s 11ms/step - loss: 0.1222 - accuracy: 0.9683\n",
            "19/19 [==============================] - 0s 13ms/step - loss: 0.7378 - accuracy: 0.7233\n",
            "Training set accuracy: 0.9683333039283752\n",
            "Test set accuracy: 0.7233333587646484\n"
          ],
          "name": "stdout"
        }
      ]
    },
    {
      "cell_type": "code",
      "metadata": {
        "id": "ksLdAQygNgPE",
        "colab": {
          "base_uri": "https://localhost:8080/",
          "height": 295
        },
        "outputId": "7d8be8bd-d265-45e0-c22c-ef7c7c9944de"
      },
      "source": [
        "#plt.figure(figsize = (10,10))\n",
        "plt.plot(history.history['accuracy'])\n",
        "plt.plot(history.history['val_accuracy'])\n",
        "plt.title('Model Accuracy')\n",
        "plt.ylabel('Accuracy')\n",
        "plt.xlabel('Number of epochs')\n",
        "plt.legend(['train', 'validation'], loc='upper left')\n",
        "plt.show()"
      ],
      "execution_count": 72,
      "outputs": [
        {
          "output_type": "display_data",
          "data": {
            "image/png": "[encoded data removed]",
            "text/plain": [
              "<Figure size 432x288 with 1 Axes>"
            ]
          },
          "metadata": {
            "tags": [],
            "needs_background": "light"
          }
        }
      ]
    },
    {
      "cell_type": "code",
      "metadata": {
        "id": "a8HwMaOj8Aau",
        "colab": {
          "base_uri": "https://localhost:8080/",
          "height": 295
        },
        "outputId": "78a97003-794e-43b6-c283-151cbb6243d6"
      },
      "source": [
        "# plot loss\n",
        "plt.plot(history.history['loss'])\n",
        "plt.plot(history.history['val_loss'])\n",
        "plt.title('Model Loss')\n",
        "plt.ylabel('Loss')\n",
        "plt.xlabel('Number of epochs')\n",
        "plt.legend(['train', 'validation'], loc='upper left')\n",
        "plt.show()"
      ],
      "execution_count": 73,
      "outputs": [
        {
          "output_type": "display_data",
          "data": {
            "image/png": "[encoded data removed]",
            "text/plain": [
              "<Figure size 432x288 with 1 Axes>"
            ]
          },
          "metadata": {
            "tags": [],
            "needs_background": "light"
          }
        }
      ]
    },
    {
      "cell_type": "code",
      "metadata": {
        "id": "FAt6Lt_BQ8VL",
        "colab": {
          "base_uri": "https://localhost:8080/"
        },
        "outputId": "826cab71-40c5-43ac-de88-783eef2b22ee"
      },
      "source": [
        "num_predictions = 100\n",
        "correct_pred = 0\n",
        "pred = np.argmax(model.predict(x_test[0:num_predictions]), axis=-1)\n",
        "print_count = 0\n",
        "\n",
        "print(\"Predicted class : Class label\")\n",
        "for i in range(num_predictions):\n",
        "    label = np.argmax(y_test[i])\n",
        "    #print(pred[i], \"=?\", label)\n",
        "    print(\"{:2s} : {:2s}\".format(str(pred[i]), str(label)), end= \"     \")\n",
        "    \n",
        "    print_count += 1\n",
        "    if print_count == 5:\n",
        "        print()\n",
        "        print_count = 0\n",
        "\n",
        "    if pred[i] == label:\n",
        "        correct_pred += 1\n",
        "\n",
        "print(\"\\nTotal correct predictions:\", correct_pred)\n",
        "print(\"Percent correct:\", correct_pred/num_predictions)"
      ],
      "execution_count": 74,
      "outputs": [
        {
          "output_type": "stream",
          "text": [
            "Predicted class : Class label\n",
            "5  : 5      0  : 0      8  : 8      4  : 5      6  : 6      \n",
            "1  : 2      2  : 2      1  : 1      9  : 9      1  : 1      \n",
            "4  : 4      7  : 7      7  : 7      1  : 1      2  : 2      \n",
            "3  : 3      5  : 5      5  : 3      5  : 5      1  : 1      \n",
            "6  : 6      8  : 8      4  : 4      0  : 0      4  : 5      \n",
            "2  : 2      9  : 9      6  : 6      5  : 5      5  : 5      \n",
            "6  : 6      8  : 8      0  : 0      7  : 7      8  : 3      \n",
            "6  : 6      1  : 1      1  : 1      5  : 5      3  : 5      \n",
            "4  : 2      1  : 1      8  : 3      6  : 6      0  : 0      \n",
            "5  : 5      4  : 4      3  : 3      8  : 8      1  : 1      \n",
            "7  : 9      4  : 4      2  : 2      9  : 9      3  : 8      \n",
            "2  : 2      5  : 5      1  : 1      1  : 1      1  : 9      \n",
            "9  : 4      8  : 8      0  : 0      4  : 5      1  : 1      \n",
            "2  : 2      0  : 0      2  : 6      9  : 9      3  : 3      \n",
            "1  : 1      1  : 1      6  : 9      6  : 6      3  : 3      \n",
            "7  : 7      1  : 1      5  : 4      9  : 9      7  : 1      \n",
            "8  : 3      6  : 6      8  : 3      8  : 0      4  : 2      \n",
            "1  : 1      0  : 0      5  : 5      0  : 8      4  : 4      \n",
            "6  : 2      9  : 9      4  : 4      8  : 8      9  : 9      \n",
            "6  : 6      0  : 0      0  : 0      0  : 0      3  : 3      \n",
            "\n",
            "Total correct predictions: 77\n",
            "Percent correct: 0.77\n"
          ],
          "name": "stdout"
        }
      ]
    },
    {
      "cell_type": "markdown",
      "metadata": {
        "id": "GE7MUuCHcdL3"
      },
      "source": [
        "### Create EEG feature vectors"
      ]
    },
    {
      "cell_type": "code",
      "metadata": {
        "id": "_lrr3houBvVg"
      },
      "source": [
        "# use the model to extract eeg feature vectors\n",
        "# use output from an intermediate layer\n",
        "def extract_features(data, model, feature_layer):\n",
        "    # reshape the data for CNN\n",
        "    data = data.transpose(0, 2, 1)\n",
        "    data = data.reshape(data.shape[0], data.shape[1], data.shape[2], 1)\n",
        "    # use intermediate layer\n",
        "    feature_extractor = tf.keras.Model(inputs=model.input,\n",
        "                                               outputs=model.get_layer(feature_layer).output)\n",
        "    #features = feature_extractor(data)\n",
        "\n",
        "    OPT = tf.keras.optimizers.SGD(learning_rate=0.0001, decay=1e-6, momentum=0.9, nesterov=True)\n",
        "    feature_extractor.compile(loss='categorical_crossentropy', optimizer = OPT, metrics = ['accuracy'])\n",
        "\n",
        "    features = feature_extractor.predict(data)\n",
        "\n",
        "    return features"
      ],
      "execution_count": 79,
      "outputs": []
    },
    {
      "cell_type": "code",
      "metadata": {
        "id": "QyIKfDoKB4Rm",
        "colab": {
          "base_uri": "https://localhost:8080/"
        },
        "outputId": "0261629d-c7db-4cd4-a692-1d272a403be5"
      },
      "source": [
        "for layer in model.layers:\n",
        "    print(layer.name)"
      ],
      "execution_count": 80,
      "outputs": [
        {
          "output_type": "stream",
          "text": [
            "batch_normalization_9\n",
            "conv2d_12\n",
            "conv2d_13\n",
            "max_pooling2d_6\n",
            "conv2d_14\n",
            "max_pooling2d_7\n",
            "conv2d_15\n",
            "flatten_3\n",
            "batch_normalization_10\n",
            "dense_6\n",
            "batch_normalization_11\n",
            "dense_7\n"
          ],
          "name": "stdout"
        }
      ]
    },
    {
      "cell_type": "code",
      "metadata": {
        "id": "wm5gDoRKHvgN",
        "colab": {
          "base_uri": "https://localhost:8080/"
        },
        "outputId": "de061c71-2f3e-44d5-857a-3b443ef9598d"
      },
      "source": [
        "print(data.shape)"
      ],
      "execution_count": 81,
      "outputs": [
        {
          "output_type": "stream",
          "text": [
            "(3000, 440, 128)\n"
          ],
          "name": "stdout"
        }
      ]
    },
    {
      "cell_type": "code",
      "metadata": {
        "id": "8QqRsQrUB4jr",
        "colab": {
          "base_uri": "https://localhost:8080/"
        },
        "outputId": "ef616f45-4bef-49d1-d07b-b899a574bcc1"
      },
      "source": [
        "features = extract_features(data, model, 'dense_6') # dense layer before last\n",
        "print(features.shape)\n",
        "print(labels.shape)\n",
        "print(\"Features:\", features)"
      ],
      "execution_count": 82,
      "outputs": [
        {
          "output_type": "stream",
          "text": [
            "(3000, 100)\n",
            "(3000,)\n",
            "Features: [[0.0000000e+00 0.0000000e+00 4.1256505e-01 ... 7.7107851e-03\n",
            "  0.0000000e+00 4.7070822e-01]\n",
            " [4.6466257e-02 1.3133524e-01 1.0083827e-01 ... 0.0000000e+00\n",
            "  2.7521241e-01 1.3438022e-01]\n",
            " [0.0000000e+00 0.0000000e+00 1.8179573e-01 ... 0.0000000e+00\n",
            "  2.0441605e-01 1.7053801e-01]\n",
            " ...\n",
            " [2.1410268e-04 0.0000000e+00 7.6492932e-03 ... 0.0000000e+00\n",
            "  1.6134601e-02 0.0000000e+00]\n",
            " [6.1818276e-02 3.4941901e-02 5.7550468e-02 ... 0.0000000e+00\n",
            "  1.7369086e-01 0.0000000e+00]\n",
            " [1.3029760e-01 0.0000000e+00 1.9268760e-01 ... 0.0000000e+00\n",
            "  1.4645383e-01 2.3992676e-02]]\n"
          ],
          "name": "stdout"
        }
      ]
    },
    {
      "cell_type": "code",
      "metadata": {
        "id": "tGaWEejXB42h"
      },
      "source": [
        "save(\"/content/gdrive/MyDrive/EEG2Image/data/eeg_feature_vectors/eeg_feature_vectors_\" + str(NUM_CLASSES) + \"_class.npy\", features)\n",
        "save(\"/content/gdrive/MyDrive/EEG2Image/data/eeg_feature_vectors/labels_\" + str(NUM_CLASSES) + \"_class.npy\", labels)"
      ],
      "execution_count": 83,
      "outputs": []
    },
    {
      "cell_type": "markdown",
      "metadata": {
        "id": "YtCRGv_mAi5Q"
      },
      "source": [
        "### Confusion matrix code reference:\n",
        "https://towardsdatascience.com/confusion-matrix-for-your-multi-class-machine-learning-model-ff9aa3bf7826"
      ]
    },
    {
      "cell_type": "code",
      "metadata": {
        "id": "jKqyq4RP_sBm"
      },
      "source": [
        "# convert from one hot to class number\n",
        "Y_test = []\n",
        "for y in y_test:\n",
        "    Y_test.append(np.argmax(y))\n",
        "y_test = np.asarray(Y_test)\n",
        "\n",
        "# make predictions\n",
        "y_pred = np.argmax(model.predict(x_test), axis=-1)"
      ],
      "execution_count": 75,
      "outputs": []
    },
    {
      "cell_type": "code",
      "metadata": {
        "id": "KSCPSvh6BWbj",
        "colab": {
          "base_uri": "https://localhost:8080/",
          "height": 250
        },
        "outputId": "d160b172-190f-4728-d3f1-bdd18d27a94f"
      },
      "source": [
        "import pandas as pd\n",
        "from sklearn.metrics import confusion_matrix\n",
        "\n",
        "confusion = confusion_matrix(y_test, y_pred)\n",
        "\n",
        "df = pd.DataFrame(confusion)\n",
        "def highlight_diag(df):\n",
        "    a = np.full(df.shape, '', dtype='<U24')\n",
        "    np.fill_diagonal(a, 'background-color: yellow')\n",
        "    return pd.DataFrame(a, index=df.index, columns=df.columns)\n",
        "\n",
        "df.style.apply(highlight_diag, axis=None)\n"
      ],
      "execution_count": 76,
      "outputs": [
        {
          "output_type": "execute_result",
          "data": {
            "text/html": [
              "<style  type=\"text/css\" >\n",
              "#T_b5806154_ea6e_11eb_b5fb_0242ac1c0002row0_col0,#T_b5806154_ea6e_11eb_b5fb_0242ac1c0002row1_col1,#T_b5806154_ea6e_11eb_b5fb_0242ac1c0002row2_col2,#T_b5806154_ea6e_11eb_b5fb_0242ac1c0002row3_col3,#T_b5806154_ea6e_11eb_b5fb_0242ac1c0002row4_col4,#T_b5806154_ea6e_11eb_b5fb_0242ac1c0002row5_col5,#T_b5806154_ea6e_11eb_b5fb_0242ac1c0002row6_col6,#T_b5806154_ea6e_11eb_b5fb_0242ac1c0002row7_col7,#T_b5806154_ea6e_11eb_b5fb_0242ac1c0002row8_col8,#T_b5806154_ea6e_11eb_b5fb_0242ac1c0002row9_col9{\n",
              "            background-color:  yellow;\n",
              "        }</style><table id=\"T_b5806154_ea6e_11eb_b5fb_0242ac1c0002\" ><thead>    <tr>        <th class=\"blank level0\" ></th>        <th class=\"col_heading level0 col0\" >0</th>        <th class=\"col_heading level0 col1\" >1</th>        <th class=\"col_heading level0 col2\" >2</th>        <th class=\"col_heading level0 col3\" >3</th>        <th class=\"col_heading level0 col4\" >4</th>        <th class=\"col_heading level0 col5\" >5</th>        <th class=\"col_heading level0 col6\" >6</th>        <th class=\"col_heading level0 col7\" >7</th>        <th class=\"col_heading level0 col8\" >8</th>        <th class=\"col_heading level0 col9\" >9</th>    </tr></thead><tbody>\n",
              "                <tr>\n",
              "                        <th id=\"T_b5806154_ea6e_11eb_b5fb_0242ac1c0002level0_row0\" class=\"row_heading level0 row0\" >0</th>\n",
              "                        <td id=\"T_b5806154_ea6e_11eb_b5fb_0242ac1c0002row0_col0\" class=\"data row0 col0\" >52</td>\n",
              "                        <td id=\"T_b5806154_ea6e_11eb_b5fb_0242ac1c0002row0_col1\" class=\"data row0 col1\" >0</td>\n",
              "                        <td id=\"T_b5806154_ea6e_11eb_b5fb_0242ac1c0002row0_col2\" class=\"data row0 col2\" >0</td>\n",
              "                        <td id=\"T_b5806154_ea6e_11eb_b5fb_0242ac1c0002row0_col3\" class=\"data row0 col3\" >6</td>\n",
              "                        <td id=\"T_b5806154_ea6e_11eb_b5fb_0242ac1c0002row0_col4\" class=\"data row0 col4\" >0</td>\n",
              "                        <td id=\"T_b5806154_ea6e_11eb_b5fb_0242ac1c0002row0_col5\" class=\"data row0 col5\" >1</td>\n",
              "                        <td id=\"T_b5806154_ea6e_11eb_b5fb_0242ac1c0002row0_col6\" class=\"data row0 col6\" >0</td>\n",
              "                        <td id=\"T_b5806154_ea6e_11eb_b5fb_0242ac1c0002row0_col7\" class=\"data row0 col7\" >0</td>\n",
              "                        <td id=\"T_b5806154_ea6e_11eb_b5fb_0242ac1c0002row0_col8\" class=\"data row0 col8\" >13</td>\n",
              "                        <td id=\"T_b5806154_ea6e_11eb_b5fb_0242ac1c0002row0_col9\" class=\"data row0 col9\" >0</td>\n",
              "            </tr>\n",
              "            <tr>\n",
              "                        <th id=\"T_b5806154_ea6e_11eb_b5fb_0242ac1c0002level0_row1\" class=\"row_heading level0 row1\" >1</th>\n",
              "                        <td id=\"T_b5806154_ea6e_11eb_b5fb_0242ac1c0002row1_col0\" class=\"data row1 col0\" >0</td>\n",
              "                        <td id=\"T_b5806154_ea6e_11eb_b5fb_0242ac1c0002row1_col1\" class=\"data row1 col1\" >60</td>\n",
              "                        <td id=\"T_b5806154_ea6e_11eb_b5fb_0242ac1c0002row1_col2\" class=\"data row1 col2\" >4</td>\n",
              "                        <td id=\"T_b5806154_ea6e_11eb_b5fb_0242ac1c0002row1_col3\" class=\"data row1 col3\" >0</td>\n",
              "                        <td id=\"T_b5806154_ea6e_11eb_b5fb_0242ac1c0002row1_col4\" class=\"data row1 col4\" >0</td>\n",
              "                        <td id=\"T_b5806154_ea6e_11eb_b5fb_0242ac1c0002row1_col5\" class=\"data row1 col5\" >0</td>\n",
              "                        <td id=\"T_b5806154_ea6e_11eb_b5fb_0242ac1c0002row1_col6\" class=\"data row1 col6\" >0</td>\n",
              "                        <td id=\"T_b5806154_ea6e_11eb_b5fb_0242ac1c0002row1_col7\" class=\"data row1 col7\" >6</td>\n",
              "                        <td id=\"T_b5806154_ea6e_11eb_b5fb_0242ac1c0002row1_col8\" class=\"data row1 col8\" >0</td>\n",
              "                        <td id=\"T_b5806154_ea6e_11eb_b5fb_0242ac1c0002row1_col9\" class=\"data row1 col9\" >3</td>\n",
              "            </tr>\n",
              "            <tr>\n",
              "                        <th id=\"T_b5806154_ea6e_11eb_b5fb_0242ac1c0002level0_row2\" class=\"row_heading level0 row2\" >2</th>\n",
              "                        <td id=\"T_b5806154_ea6e_11eb_b5fb_0242ac1c0002row2_col0\" class=\"data row2 col0\" >0</td>\n",
              "                        <td id=\"T_b5806154_ea6e_11eb_b5fb_0242ac1c0002row2_col1\" class=\"data row2 col1\" >1</td>\n",
              "                        <td id=\"T_b5806154_ea6e_11eb_b5fb_0242ac1c0002row2_col2\" class=\"data row2 col2\" >38</td>\n",
              "                        <td id=\"T_b5806154_ea6e_11eb_b5fb_0242ac1c0002row2_col3\" class=\"data row2 col3\" >1</td>\n",
              "                        <td id=\"T_b5806154_ea6e_11eb_b5fb_0242ac1c0002row2_col4\" class=\"data row2 col4\" >6</td>\n",
              "                        <td id=\"T_b5806154_ea6e_11eb_b5fb_0242ac1c0002row2_col5\" class=\"data row2 col5\" >1</td>\n",
              "                        <td id=\"T_b5806154_ea6e_11eb_b5fb_0242ac1c0002row2_col6\" class=\"data row2 col6\" >7</td>\n",
              "                        <td id=\"T_b5806154_ea6e_11eb_b5fb_0242ac1c0002row2_col7\" class=\"data row2 col7\" >0</td>\n",
              "                        <td id=\"T_b5806154_ea6e_11eb_b5fb_0242ac1c0002row2_col8\" class=\"data row2 col8\" >0</td>\n",
              "                        <td id=\"T_b5806154_ea6e_11eb_b5fb_0242ac1c0002row2_col9\" class=\"data row2 col9\" >0</td>\n",
              "            </tr>\n",
              "            <tr>\n",
              "                        <th id=\"T_b5806154_ea6e_11eb_b5fb_0242ac1c0002level0_row3\" class=\"row_heading level0 row3\" >3</th>\n",
              "                        <td id=\"T_b5806154_ea6e_11eb_b5fb_0242ac1c0002row3_col0\" class=\"data row3 col0\" >1</td>\n",
              "                        <td id=\"T_b5806154_ea6e_11eb_b5fb_0242ac1c0002row3_col1\" class=\"data row3 col1\" >1</td>\n",
              "                        <td id=\"T_b5806154_ea6e_11eb_b5fb_0242ac1c0002row3_col2\" class=\"data row3 col2\" >0</td>\n",
              "                        <td id=\"T_b5806154_ea6e_11eb_b5fb_0242ac1c0002row3_col3\" class=\"data row3 col3\" >39</td>\n",
              "                        <td id=\"T_b5806154_ea6e_11eb_b5fb_0242ac1c0002row3_col4\" class=\"data row3 col4\" >1</td>\n",
              "                        <td id=\"T_b5806154_ea6e_11eb_b5fb_0242ac1c0002row3_col5\" class=\"data row3 col5\" >1</td>\n",
              "                        <td id=\"T_b5806154_ea6e_11eb_b5fb_0242ac1c0002row3_col6\" class=\"data row3 col6\" >0</td>\n",
              "                        <td id=\"T_b5806154_ea6e_11eb_b5fb_0242ac1c0002row3_col7\" class=\"data row3 col7\" >0</td>\n",
              "                        <td id=\"T_b5806154_ea6e_11eb_b5fb_0242ac1c0002row3_col8\" class=\"data row3 col8\" >11</td>\n",
              "                        <td id=\"T_b5806154_ea6e_11eb_b5fb_0242ac1c0002row3_col9\" class=\"data row3 col9\" >0</td>\n",
              "            </tr>\n",
              "            <tr>\n",
              "                        <th id=\"T_b5806154_ea6e_11eb_b5fb_0242ac1c0002level0_row4\" class=\"row_heading level0 row4\" >4</th>\n",
              "                        <td id=\"T_b5806154_ea6e_11eb_b5fb_0242ac1c0002row4_col0\" class=\"data row4 col0\" >0</td>\n",
              "                        <td id=\"T_b5806154_ea6e_11eb_b5fb_0242ac1c0002row4_col1\" class=\"data row4 col1\" >0</td>\n",
              "                        <td id=\"T_b5806154_ea6e_11eb_b5fb_0242ac1c0002row4_col2\" class=\"data row4 col2\" >4</td>\n",
              "                        <td id=\"T_b5806154_ea6e_11eb_b5fb_0242ac1c0002row4_col3\" class=\"data row4 col3\" >2</td>\n",
              "                        <td id=\"T_b5806154_ea6e_11eb_b5fb_0242ac1c0002row4_col4\" class=\"data row4 col4\" >40</td>\n",
              "                        <td id=\"T_b5806154_ea6e_11eb_b5fb_0242ac1c0002row4_col5\" class=\"data row4 col5\" >12</td>\n",
              "                        <td id=\"T_b5806154_ea6e_11eb_b5fb_0242ac1c0002row4_col6\" class=\"data row4 col6\" >3</td>\n",
              "                        <td id=\"T_b5806154_ea6e_11eb_b5fb_0242ac1c0002row4_col7\" class=\"data row4 col7\" >1</td>\n",
              "                        <td id=\"T_b5806154_ea6e_11eb_b5fb_0242ac1c0002row4_col8\" class=\"data row4 col8\" >1</td>\n",
              "                        <td id=\"T_b5806154_ea6e_11eb_b5fb_0242ac1c0002row4_col9\" class=\"data row4 col9\" >1</td>\n",
              "            </tr>\n",
              "            <tr>\n",
              "                        <th id=\"T_b5806154_ea6e_11eb_b5fb_0242ac1c0002level0_row5\" class=\"row_heading level0 row5\" >5</th>\n",
              "                        <td id=\"T_b5806154_ea6e_11eb_b5fb_0242ac1c0002row5_col0\" class=\"data row5 col0\" >0</td>\n",
              "                        <td id=\"T_b5806154_ea6e_11eb_b5fb_0242ac1c0002row5_col1\" class=\"data row5 col1\" >0</td>\n",
              "                        <td id=\"T_b5806154_ea6e_11eb_b5fb_0242ac1c0002row5_col2\" class=\"data row5 col2\" >1</td>\n",
              "                        <td id=\"T_b5806154_ea6e_11eb_b5fb_0242ac1c0002row5_col3\" class=\"data row5 col3\" >5</td>\n",
              "                        <td id=\"T_b5806154_ea6e_11eb_b5fb_0242ac1c0002row5_col4\" class=\"data row5 col4\" >7</td>\n",
              "                        <td id=\"T_b5806154_ea6e_11eb_b5fb_0242ac1c0002row5_col5\" class=\"data row5 col5\" >50</td>\n",
              "                        <td id=\"T_b5806154_ea6e_11eb_b5fb_0242ac1c0002row5_col6\" class=\"data row5 col6\" >0</td>\n",
              "                        <td id=\"T_b5806154_ea6e_11eb_b5fb_0242ac1c0002row5_col7\" class=\"data row5 col7\" >0</td>\n",
              "                        <td id=\"T_b5806154_ea6e_11eb_b5fb_0242ac1c0002row5_col8\" class=\"data row5 col8\" >1</td>\n",
              "                        <td id=\"T_b5806154_ea6e_11eb_b5fb_0242ac1c0002row5_col9\" class=\"data row5 col9\" >0</td>\n",
              "            </tr>\n",
              "            <tr>\n",
              "                        <th id=\"T_b5806154_ea6e_11eb_b5fb_0242ac1c0002level0_row6\" class=\"row_heading level0 row6\" >6</th>\n",
              "                        <td id=\"T_b5806154_ea6e_11eb_b5fb_0242ac1c0002row6_col0\" class=\"data row6 col0\" >0</td>\n",
              "                        <td id=\"T_b5806154_ea6e_11eb_b5fb_0242ac1c0002row6_col1\" class=\"data row6 col1\" >0</td>\n",
              "                        <td id=\"T_b5806154_ea6e_11eb_b5fb_0242ac1c0002row6_col2\" class=\"data row6 col2\" >4</td>\n",
              "                        <td id=\"T_b5806154_ea6e_11eb_b5fb_0242ac1c0002row6_col3\" class=\"data row6 col3\" >0</td>\n",
              "                        <td id=\"T_b5806154_ea6e_11eb_b5fb_0242ac1c0002row6_col4\" class=\"data row6 col4\" >2</td>\n",
              "                        <td id=\"T_b5806154_ea6e_11eb_b5fb_0242ac1c0002row6_col5\" class=\"data row6 col5\" >0</td>\n",
              "                        <td id=\"T_b5806154_ea6e_11eb_b5fb_0242ac1c0002row6_col6\" class=\"data row6 col6\" >44</td>\n",
              "                        <td id=\"T_b5806154_ea6e_11eb_b5fb_0242ac1c0002row6_col7\" class=\"data row6 col7\" >7</td>\n",
              "                        <td id=\"T_b5806154_ea6e_11eb_b5fb_0242ac1c0002row6_col8\" class=\"data row6 col8\" >0</td>\n",
              "                        <td id=\"T_b5806154_ea6e_11eb_b5fb_0242ac1c0002row6_col9\" class=\"data row6 col9\" >3</td>\n",
              "            </tr>\n",
              "            <tr>\n",
              "                        <th id=\"T_b5806154_ea6e_11eb_b5fb_0242ac1c0002level0_row7\" class=\"row_heading level0 row7\" >7</th>\n",
              "                        <td id=\"T_b5806154_ea6e_11eb_b5fb_0242ac1c0002row7_col0\" class=\"data row7 col0\" >0</td>\n",
              "                        <td id=\"T_b5806154_ea6e_11eb_b5fb_0242ac1c0002row7_col1\" class=\"data row7 col1\" >1</td>\n",
              "                        <td id=\"T_b5806154_ea6e_11eb_b5fb_0242ac1c0002row7_col2\" class=\"data row7 col2\" >0</td>\n",
              "                        <td id=\"T_b5806154_ea6e_11eb_b5fb_0242ac1c0002row7_col3\" class=\"data row7 col3\" >1</td>\n",
              "                        <td id=\"T_b5806154_ea6e_11eb_b5fb_0242ac1c0002row7_col4\" class=\"data row7 col4\" >0</td>\n",
              "                        <td id=\"T_b5806154_ea6e_11eb_b5fb_0242ac1c0002row7_col5\" class=\"data row7 col5\" >0</td>\n",
              "                        <td id=\"T_b5806154_ea6e_11eb_b5fb_0242ac1c0002row7_col6\" class=\"data row7 col6\" >2</td>\n",
              "                        <td id=\"T_b5806154_ea6e_11eb_b5fb_0242ac1c0002row7_col7\" class=\"data row7 col7\" >30</td>\n",
              "                        <td id=\"T_b5806154_ea6e_11eb_b5fb_0242ac1c0002row7_col8\" class=\"data row7 col8\" >0</td>\n",
              "                        <td id=\"T_b5806154_ea6e_11eb_b5fb_0242ac1c0002row7_col9\" class=\"data row7 col9\" >7</td>\n",
              "            </tr>\n",
              "            <tr>\n",
              "                        <th id=\"T_b5806154_ea6e_11eb_b5fb_0242ac1c0002level0_row8\" class=\"row_heading level0 row8\" >8</th>\n",
              "                        <td id=\"T_b5806154_ea6e_11eb_b5fb_0242ac1c0002row8_col0\" class=\"data row8 col0\" >6</td>\n",
              "                        <td id=\"T_b5806154_ea6e_11eb_b5fb_0242ac1c0002row8_col1\" class=\"data row8 col1\" >0</td>\n",
              "                        <td id=\"T_b5806154_ea6e_11eb_b5fb_0242ac1c0002row8_col2\" class=\"data row8 col2\" >0</td>\n",
              "                        <td id=\"T_b5806154_ea6e_11eb_b5fb_0242ac1c0002row8_col3\" class=\"data row8 col3\" >18</td>\n",
              "                        <td id=\"T_b5806154_ea6e_11eb_b5fb_0242ac1c0002row8_col4\" class=\"data row8 col4\" >0</td>\n",
              "                        <td id=\"T_b5806154_ea6e_11eb_b5fb_0242ac1c0002row8_col5\" class=\"data row8 col5\" >0</td>\n",
              "                        <td id=\"T_b5806154_ea6e_11eb_b5fb_0242ac1c0002row8_col6\" class=\"data row8 col6\" >0</td>\n",
              "                        <td id=\"T_b5806154_ea6e_11eb_b5fb_0242ac1c0002row8_col7\" class=\"data row8 col7\" >0</td>\n",
              "                        <td id=\"T_b5806154_ea6e_11eb_b5fb_0242ac1c0002row8_col8\" class=\"data row8 col8\" >34</td>\n",
              "                        <td id=\"T_b5806154_ea6e_11eb_b5fb_0242ac1c0002row8_col9\" class=\"data row8 col9\" >0</td>\n",
              "            </tr>\n",
              "            <tr>\n",
              "                        <th id=\"T_b5806154_ea6e_11eb_b5fb_0242ac1c0002level0_row9\" class=\"row_heading level0 row9\" >9</th>\n",
              "                        <td id=\"T_b5806154_ea6e_11eb_b5fb_0242ac1c0002row9_col0\" class=\"data row9 col0\" >0</td>\n",
              "                        <td id=\"T_b5806154_ea6e_11eb_b5fb_0242ac1c0002row9_col1\" class=\"data row9 col1\" >3</td>\n",
              "                        <td id=\"T_b5806154_ea6e_11eb_b5fb_0242ac1c0002row9_col2\" class=\"data row9 col2\" >0</td>\n",
              "                        <td id=\"T_b5806154_ea6e_11eb_b5fb_0242ac1c0002row9_col3\" class=\"data row9 col3\" >0</td>\n",
              "                        <td id=\"T_b5806154_ea6e_11eb_b5fb_0242ac1c0002row9_col4\" class=\"data row9 col4\" >3</td>\n",
              "                        <td id=\"T_b5806154_ea6e_11eb_b5fb_0242ac1c0002row9_col5\" class=\"data row9 col5\" >0</td>\n",
              "                        <td id=\"T_b5806154_ea6e_11eb_b5fb_0242ac1c0002row9_col6\" class=\"data row9 col6\" >1</td>\n",
              "                        <td id=\"T_b5806154_ea6e_11eb_b5fb_0242ac1c0002row9_col7\" class=\"data row9 col7\" >6</td>\n",
              "                        <td id=\"T_b5806154_ea6e_11eb_b5fb_0242ac1c0002row9_col8\" class=\"data row9 col8\" >0</td>\n",
              "                        <td id=\"T_b5806154_ea6e_11eb_b5fb_0242ac1c0002row9_col9\" class=\"data row9 col9\" >47</td>\n",
              "            </tr>\n",
              "    </tbody></table>"
            ],
            "text/plain": [
              "<pandas.io.formats.style.Styler at 0x7f88fe4c9bd0>"
            ]
          },
          "metadata": {
            "tags": []
          },
          "execution_count": 76
        }
      ]
    },
    {
      "cell_type": "code",
      "metadata": {
        "id": "GKdwcAnBAZUB",
        "colab": {
          "base_uri": "https://localhost:8080/"
        },
        "outputId": "bd9c4d8b-1c00-47c8-c8de-0d2cb9b3b3cc"
      },
      "source": [
        "#importing accuracy_score, precision_score, recall_score, f1_score\n",
        "from sklearn.metrics import accuracy_score, precision_score, recall_score, f1_score\n",
        "print('\\nAccuracy: {:.2f}\\n'.format(accuracy_score(y_test, y_pred)))\n",
        "\n",
        "print('Micro Precision: {:.2f}'.format(precision_score(y_test, y_pred, average='micro')))\n",
        "print('Micro Recall: {:.2f}'.format(recall_score(y_test, y_pred, average='micro')))\n",
        "print('Micro F1-score: {:.2f}\\n'.format(f1_score(y_test, y_pred, average='micro')))\n",
        "\n",
        "print('Macro Precision: {:.2f}'.format(precision_score(y_test, y_pred, average='macro')))\n",
        "print('Macro Recall: {:.2f}'.format(recall_score(y_test, y_pred, average='macro')))\n",
        "print('Macro F1-score: {:.2f}\\n'.format(f1_score(y_test, y_pred, average='macro')))\n",
        "\n",
        "print('Weighted Precision: {:.2f}'.format(precision_score(y_test, y_pred, average='weighted')))\n",
        "print('Weighted Recall: {:.2f}'.format(recall_score(y_test, y_pred, average='weighted')))\n",
        "print('Weighted F1-score: {:.2f}'.format(f1_score(y_test, y_pred, average='weighted')))"
      ],
      "execution_count": 77,
      "outputs": [
        {
          "output_type": "stream",
          "text": [
            "\n",
            "Accuracy: 0.72\n",
            "\n",
            "Micro Precision: 0.72\n",
            "Micro Recall: 0.72\n",
            "Micro F1-score: 0.72\n",
            "\n",
            "Macro Precision: 0.72\n",
            "Macro Recall: 0.72\n",
            "Macro F1-score: 0.72\n",
            "\n",
            "Weighted Precision: 0.74\n",
            "Weighted Recall: 0.72\n",
            "Weighted F1-score: 0.73\n"
          ],
          "name": "stdout"
        }
      ]
    },
    {
      "cell_type": "code",
      "metadata": {
        "id": "wN2PEjAmAZlt",
        "colab": {
          "base_uri": "https://localhost:8080/"
        },
        "outputId": "82075175-e5d4-4520-af12-cd82d0c041a9"
      },
      "source": [
        "from sklearn.metrics import classification_report\n",
        "print('\\nClassification Report\\n')\n",
        "print(classification_report(y_test, y_pred))"
      ],
      "execution_count": 78,
      "outputs": [
        {
          "output_type": "stream",
          "text": [
            "\n",
            "Classification Report\n",
            "\n",
            "              precision    recall  f1-score   support\n",
            "\n",
            "           0       0.88      0.72      0.79        72\n",
            "           1       0.91      0.82      0.86        73\n",
            "           2       0.75      0.70      0.72        54\n",
            "           3       0.54      0.72      0.62        54\n",
            "           4       0.68      0.62      0.65        64\n",
            "           5       0.77      0.78      0.78        64\n",
            "           6       0.77      0.73      0.75        60\n",
            "           7       0.60      0.73      0.66        41\n",
            "           8       0.57      0.59      0.58        58\n",
            "           9       0.77      0.78      0.78        60\n",
            "\n",
            "    accuracy                           0.72       600\n",
            "   macro avg       0.72      0.72      0.72       600\n",
            "weighted avg       0.74      0.72      0.73       600\n",
            "\n"
          ],
          "name": "stdout"
        }
      ]
    },
    {
      "cell_type": "markdown",
      "metadata": {
        "id": "ic9LzRxwGcuy"
      },
      "source": [
        "# Loading Image Net dataset"
      ]
    },
    {
      "cell_type": "code",
      "metadata": {
        "id": "dosJDz0PGah_"
      },
      "source": [
        "import numpy as np\n",
        "import matplotlib.pyplot as plt\n",
        "import collections\n",
        "import tensorflow as tf"
      ],
      "execution_count": null,
      "outputs": []
    },
    {
      "cell_type": "code",
      "metadata": {
        "id": "BPOTsMCSGao6"
      },
      "source": [
        "def array_to_image(img):\n",
        "    return img.reshape(3, 64, 64).transpose(1, 2, 0) / np.float32(255)\n",
        "\n",
        "\n",
        "def save_images(image_mapping_array, label_number):\n",
        "    images = image_mapping_array[label_number]\n",
        "\n",
        "    # Loop through all images for a specific label and save them\n",
        "    for index, image in enumerate(images):\n",
        "        img = array_to_image(image)\n",
        "        plt.imsave(\"images/\" + str(index) + \".png\", img, format=\"png\")\n",
        "\n",
        "\n",
        "def load_mapping(path, as_dict=False):\n",
        "    # Load image mapping file\n",
        "    label2image64 = np.load(path, allow_pickle=True)\n",
        "    if as_dict:\n",
        "        return label2image64[()]\n",
        "    else:\n",
        "        # Create a numpy ready array of image mappings [[class 0 images], [class 1 images], ... , [class 39 images]]\n",
        "        return list(collections.OrderedDict(sorted(label2image64[()].items())).values())"
      ],
      "execution_count": null,
      "outputs": []
    },
    {
      "cell_type": "code",
      "metadata": {
        "colab": {
          "base_uri": "https://localhost:8080/"
        },
        "id": "JY7adyz-Gavm",
        "outputId": "fb691e5d-b95c-423b-fa5e-3f9fa5ea58a3"
      },
      "source": [
        "# only exec once to copy image_mapping.npy over to local\n",
        "!ls /content/gdrive/MyDrive/EEG2Image/data/\n",
        "!cp /content/gdrive/MyDrive/EEG2Image/data/image_mapping.npy /content/"
      ],
      "execution_count": null,
      "outputs": [
        {
          "output_type": "stream",
          "text": [
            "birds_images\t\t\t eeg_norm_linear_55_95.npy   labels_14_70.npy\n",
            "birds_images.npy\t\t eeg_norm_sigmoid_55_95.npy  labels_2_class.npy\n",
            "birds_labels.npy\t\t image_labels.npy\t     labels_55_95.npy\n",
            "dataset_features.pickle\t\t image_mapping.npy\t     labels_5_95.npy\n",
            "eeg_feature_vectors_2_class.npy  images.npy\n"
          ],
          "name": "stdout"
        }
      ]
    },
    {
      "cell_type": "code",
      "metadata": {
        "id": "TNCG0Smm2axf"
      },
      "source": [
        "def convert_data(data, image_shape=(64,64,3), scale=True):\n",
        "    print(\"Converting data shape to 2D with 3 channels\")\n",
        "    if len(image_shape) != 3:\n",
        "        print(\"Unexpected image_shape in convert_data\")\n",
        "        return -1\n",
        "    # change the dimensions and scale\n",
        "    # create new list to store the data in the correct format\n",
        "    formatted_data = []\n",
        "    count = 0\n",
        "    for image in data:\n",
        "        count += 1\n",
        "        # convert from flat to 2D\n",
        "        # formatted_data.append(array_to_image(image)) # that function changes bounds\n",
        "        reshaped = image.reshape(3, 64, 64).transpose(1, 2, 0)\n",
        "        formatted_data.append(reshaped)\n",
        "    X = np.asarray(formatted_data)\n",
        "    if scale:\n",
        "        print(\"scaling values to the range [-1, 1]\")\n",
        "        X = X.astype('float32') # caution: storing lots of intermediate representation of image set\n",
        "        X = (X - 127.5) / 127.5\n",
        "    print(\"formatted shape:\", X.shape)\n",
        "    return X"
      ],
      "execution_count": null,
      "outputs": []
    },
    {
      "cell_type": "code",
      "metadata": {
        "id": "FONxzAlB4dwj"
      },
      "source": [
        "def augment_data(images, labels):\n",
        "    augmented = []\n",
        "    augmented_labels = []\n",
        "    for i, image in enumerate(images):\n",
        "        flipped = tf.image.flip_left_right(image)\n",
        "        \n",
        "        augmented.append(image)\n",
        "        augmented.append(flipped)\n",
        "\n",
        "        augmented_labels.append(labels[i])\n",
        "        augmented_labels.append(labels[i])\n",
        "        \n",
        "    return np.asarray(augmented), np.asarray(augmented_labels)"
      ],
      "execution_count": null,
      "outputs": []
    },
    {
      "cell_type": "code",
      "metadata": {
        "id": "tZ8AtTn4Gpds"
      },
      "source": [
        "# emulate the load_data() function but only return (images, labels)\n",
        "# scale flag scales the input to [-1, 1] if true\n",
        "def load_image_net_data(scale=True, flip=True):\n",
        "    mapping = load_mapping(\"image_mapping.npy\", as_dict=False)\n",
        "    # images stored as flat\n",
        "    images = []\n",
        "    num_images_per_class = 900\n",
        "    for elem in mapping:\n",
        "        images.append(np.asarray(elem[0:num_images_per_class])) # not all the same size so trim to 900 images per class\n",
        "    images = np.asarray(images)\n",
        "    num_classes = images.shape[0]\n",
        "    print(\"shape of the data:\", images.shape) # (40, 900, 12288) but want (900, 64, 64, 3)\n",
        "    print(\"classes:\", images.shape[0])\n",
        "    print(\"images per class:\", images.shape[1])\n",
        "    print(\"pixel values in images:\", images.shape[2])\n",
        "    \n",
        "    # append all classes into one list\n",
        "    mapping = []\n",
        "    for image_class in range(num_classes):\n",
        "        for image in range(num_images_per_class):\n",
        "            # append this image to one long new list\n",
        "            mapping.append(images[image_class][image])\n",
        "    mapping = np.asarray(mapping)\n",
        "    print(\"shape after removing classes:\", mapping.shape)\n",
        "\n",
        "    data = convert_data(mapping, (64,64,3), scale)\n",
        "\n",
        "    # create the labels\n",
        "    labels = np.arange(0, 40, 1) # create labels 0 -> 39\n",
        "    labels = np.repeat(labels, num_images_per_class) # repeat each label for num images per class\n",
        "\n",
        "    if flip:\n",
        "        data, labels = augment_data(data, labels)\n",
        "    return data, labels"
      ],
      "execution_count": null,
      "outputs": []
    },
    {
      "cell_type": "code",
      "metadata": {
        "id": "7smnoW2GNSbq"
      },
      "source": [
        "printFlag = False\n",
        "if printFlag:\n",
        "    trainX, trainY = load_image_net_data(scale=False)\n",
        "    print(trainX.shape)\n",
        "    print(trainY.shape)\n",
        "    print(\"min:\", np.amin(trainX[0]))\n",
        "    print(\"max:\", np.amax(trainY[1]))\n",
        "    images_per_class = 900\n",
        "    print(\"Showing the first 10 images classes\")\n",
        "    plt.figure(figsize=(20, 20))\n",
        "    # plot images from the training dataset\n",
        "    for i in range(100):\n",
        "    \t# define subplot\n",
        "    \tplt.subplot(10, 10, 1 + i)\n",
        "    \t# turn off axis\n",
        "    \tplt.axis('off')\n",
        "    \t# plot raw pixel data\n",
        "    \t# every 10, skip rest of images in the class\n",
        "    \t#plt.imshow(array_to_image( trainX[i + ((i//10)*images_per_class)] ))\n",
        "    \tplt.imshow( trainX[i + ((i//10)*images_per_class)] )\n",
        "    plt.show()"
      ],
      "execution_count": null,
      "outputs": []
    },
    {
      "cell_type": "markdown",
      "metadata": {
        "id": "DpM2hAMUGqN6"
      },
      "source": [
        "**done loading images**"
      ]
    },
    {
      "cell_type": "markdown",
      "metadata": {
        "id": "tU0nZqLxp-xl"
      },
      "source": [
        "# Loading CIFAR10\n",
        "- create load_cifar10_data function\n",
        "    - returns data, labels\n",
        "    - takes parameter for scaling to [-1, 1]"
      ]
    },
    {
      "cell_type": "code",
      "metadata": {
        "id": "NjtmlVB3rSWN"
      },
      "source": [
        "from tensorflow import keras\n",
        "import numpy as np"
      ],
      "execution_count": null,
      "outputs": []
    },
    {
      "cell_type": "code",
      "metadata": {
        "id": "Tvvmai4xqiq6"
      },
      "source": [
        "def load_cifar10_data(scale=True):\n",
        "    (x_train, y_train), (x_test, y_test) = keras.datasets.cifar10.load_data()\n",
        "    assert x_train.shape == (50000, 32, 32, 3)\n",
        "    assert x_test.shape == (10000, 32, 32, 3)\n",
        "    assert y_train.shape == (50000, 1)\n",
        "    assert y_test.shape == (10000, 1)\n",
        "    dataset = np.append(x_train, x_test, axis=0)\n",
        "    labels = np.append(y_train, y_test, axis=0)\n",
        "    print(dataset.shape)\n",
        "    print(labels.shape)\n",
        "\n",
        "    # scale the images to -1, 1\n",
        "    if scale:\n",
        "        print(\"scaling values to the range [-1, 1]\")\n",
        "        dataset = dataset.astype('float32') # caution: storing lots of intermediate representation of image set\n",
        "        dataset = (dataset - 127.5) / 127.5\n",
        "    return dataset, labels"
      ],
      "execution_count": null,
      "outputs": []
    },
    {
      "cell_type": "markdown",
      "metadata": {
        "id": "x4u8FobgdrVf"
      },
      "source": [
        "# Loading Birds Dataset\n",
        "Caltech-UCSD Birds 200\n",
        "reference: http://www.vision.caltech.edu/visipedia/CUB-200.html"
      ]
    },
    {
      "cell_type": "code",
      "metadata": {
        "id": "3ZsRF7obd2cF"
      },
      "source": [
        "from tensorflow.keras.preprocessing import image_dataset_from_directory\n",
        "\n",
        "import matplotlib.pyplot as plt\n",
        "import numpy as np\n",
        "from numpy import save\n",
        "from numpy import load"
      ],
      "execution_count": null,
      "outputs": []
    },
    {
      "cell_type": "code",
      "metadata": {
        "id": "9sYpxiybi2x7"
      },
      "source": [
        "def load_birds_data_direct(scale=True, target_shape=(64, 64)):\n",
        "    path = './gdrive/MyDrive/EEG2Image/data/birds_images/images/'\n",
        "    # with labels\n",
        "    dataset = image_dataset_from_directory(path, \n",
        "                                           labels='inferred',\n",
        "                                           label_mode='int',\n",
        "                                           color_mode='rgb',\n",
        "                                           batch_size=32,\n",
        "                                           image_size=target_shape,\n",
        "                                           shuffle=True)\n",
        "    \n",
        "    dataset_iterator = dataset.__iter__()\n",
        "    data_list = []\n",
        "    labels = []\n",
        "    count = 1\n",
        "\n",
        "    # load images from the generator into data_list and labels\n",
        "    for (data, label) in dataset_iterator:\n",
        "        #print('data and label shape:', data.shape, label.shape)\n",
        "        data_list.extend(data)\n",
        "        labels.extend(label)\n",
        "        print(count, \"/\", dataset.__len__())\n",
        "        count += 1\n",
        "\n",
        "    # convert to numpy\n",
        "    dataset = np.asarray(data_list)\n",
        "    dataset = dataset.astype('int')\n",
        "    labels = np.asarray(labels)\n",
        "\n",
        "    # scaling for tanh\n",
        "    if scale:\n",
        "        print(\"scaling values to the range [-1, 1]\")\n",
        "        dataset = dataset.astype('float32') # caution: storing lots of intermediate representation of image set\n",
        "        dataset = (dataset - 127.5) / 127.5\n",
        "\n",
        "    return dataset, labels"
      ],
      "execution_count": null,
      "outputs": []
    },
    {
      "cell_type": "code",
      "metadata": {
        "id": "Sz3ufrD9i294"
      },
      "source": [
        "if False:\n",
        "    images, labels = load_birds_data_direct(scale=True, target_shape=(64,64))\n",
        "    print(images.shape)\n",
        "    print(labels.shape)\n",
        "\n",
        "    save(\"/content/gdrive/MyDrive/EEG2Image/data/birds_images.npy\", images)\n",
        "    save(\"/content/gdrive/MyDrive/EEG2Image/data/birds_labels.npy\", labels)"
      ],
      "execution_count": null,
      "outputs": []
    },
    {
      "cell_type": "code",
      "metadata": {
        "id": "Zc5WyOt_WrOI"
      },
      "source": [
        "def load_birds_data():\n",
        "    # already scaled: 64x64\n",
        "    images_loaded = load(\"/content/gdrive/MyDrive/EEG2Image/data/birds_images.npy\")\n",
        "    labels_loaded = load(\"/content/gdrive/MyDrive/EEG2Image/data/birds_labels.npy\")\n",
        "    print('images:', images_loaded.shape)\n",
        "    print('labels:', labels_loaded.shape)\n",
        "    return images_loaded, labels_loaded"
      ],
      "execution_count": null,
      "outputs": []
    },
    {
      "cell_type": "code",
      "metadata": {
        "colab": {
          "base_uri": "https://localhost:8080/"
        },
        "id": "pXMJlS4dWrcy",
        "outputId": "363cc7dd-68c1-457c-eaa5-8ad300201371"
      },
      "source": [
        "images, labels = load_birds_data()"
      ],
      "execution_count": null,
      "outputs": [
        {
          "output_type": "stream",
          "text": [
            "images: (6032, 64, 64, 3)\n",
            "labels: (6032,)\n"
          ],
          "name": "stdout"
        }
      ]
    },
    {
      "cell_type": "code",
      "metadata": {
        "colab": {
          "base_uri": "https://localhost:8080/",
          "height": 88
        },
        "id": "3aiLmq8IF0Ux",
        "outputId": "54228664-e841-4fd3-dbf8-f63774b545fc"
      },
      "source": [
        "plt.imshow(images[0])"
      ],
      "execution_count": null,
      "outputs": [
        {
          "output_type": "stream",
          "text": [
            "Clipping input data to the valid range for imshow with RGB data ([0..1] for floats or [0..255] for integers).\n"
          ],
          "name": "stderr"
        },
        {
          "output_type": "execute_result",
          "data": {
            "text/plain": [
              "<matplotlib.image.AxesImage at 0x7f1eb561a3d0>"
            ]
          },
          "metadata": {
            "tags": []
          },
          "execution_count": 44
        },
        {
          "output_type": "display_data",
          "data": {
            "image/png": "[encoded data removed]",
            "text/plain": [
              "<Figure size 432x288 with 1 Axes>"
            ]
          },
          "metadata": {
            "tags": []
          }
        }
      ]
    },
    {
      "cell_type": "markdown",
      "metadata": {
        "id": "fTZNIjFVkkFg"
      },
      "source": [
        "# Loading Flowers dataset"
      ]
    },
    {
      "cell_type": "code",
      "metadata": {
        "id": "9lUXjeyMlAjl"
      },
      "source": [
        "from tensorflow.keras.utils import get_file\n",
        "from tensorflow.keras.preprocessing.image import ImageDataGenerator\n",
        "from tensorflow.keras.utils import to_categorical\n",
        "import matplotlib.pyplot as plt\n",
        "import numpy as np"
      ],
      "execution_count": 84,
      "outputs": []
    },
    {
      "cell_type": "code",
      "metadata": {
        "colab": {
          "base_uri": "https://localhost:8080/"
        },
        "id": "LP-WYQBHkn1A",
        "outputId": "098480bb-4520-44fd-8d03-544fb6eea9da"
      },
      "source": [
        "flowers = get_file(\n",
        "    'flower_photos',\n",
        "    'https://storage.googleapis.com/download.tensorflow.org/example_images/flower_photos.tgz',\n",
        "    untar=True)"
      ],
      "execution_count": 85,
      "outputs": [
        {
          "output_type": "stream",
          "text": [
            "Downloading data from https://storage.googleapis.com/download.tensorflow.org/example_images/flower_photos.tgz\n",
            "228818944/228813984 [==============================] - 2s 0us/step\n"
          ],
          "name": "stdout"
        }
      ]
    },
    {
      "cell_type": "code",
      "metadata": {
        "id": "fU2DN1MrAT1O"
      },
      "source": [
        "# fix resizing issue and save labels\n",
        "def load_flowers_data(scale=True, target_shape=(256, 256), one_hot=False, interp='bilinear'):\n",
        "    print(\"Loading Flowers dataset\")\n",
        "    print(\"Target Shape:\", target_shape)\n",
        "    img_gen = ImageDataGenerator() # stored as 0-255\n",
        "    img_generator = img_gen.flow_from_directory(flowers,\n",
        "                                                target_size=target_shape,\n",
        "                                                class_mode='categorical',\n",
        "                                                shuffle=False,\n",
        "                                                interpolation=interp)\n",
        "\n",
        "    data_list = []\n",
        "    labels = []\n",
        "    batch_index = 0\n",
        "\n",
        "    # load images from the generator into data_list and labels\n",
        "    while batch_index <= img_generator.batch_index:\n",
        "        data, label = img_generator.next()\n",
        "        data_list.extend(data)\n",
        "        labels.extend(label)\n",
        "        batch_index += 1\n",
        "\n",
        "    # convert to numpy\n",
        "    dataset = np.asarray(data_list)\n",
        "    dataset = dataset.astype('int')\n",
        "    labels = np.asarray(labels)\n",
        "\n",
        "    # convert to integer\n",
        "    if one_hot == False:\n",
        "        new_labels = []\n",
        "        for label in labels:\n",
        "            new_labels.append(np.argmax(label))\n",
        "        labels = new_labels\n",
        "        labels = np.asarray(labels)\n",
        "\n",
        "    # scaling for tanh\n",
        "    if scale:\n",
        "        print(\"scaling values to the range [-1, 1]\")\n",
        "        dataset = dataset.astype('float32') # caution: storing lots of intermediate representation of image set\n",
        "        dataset = (dataset - 127.5) / 127.5\n",
        "\n",
        "    return dataset, labels"
      ],
      "execution_count": 86,
      "outputs": []
    },
    {
      "cell_type": "code",
      "metadata": {
        "colab": {
          "base_uri": "https://localhost:8080/"
        },
        "id": "Rahz6qTKnreE",
        "outputId": "0550c8d5-1b4c-4186-c031-51bd9508103f"
      },
      "source": [
        "dataset, labels = load_flowers_data(scale=False, target_shape=(64, 64))"
      ],
      "execution_count": 87,
      "outputs": [
        {
          "output_type": "stream",
          "text": [
            "Loading Flowers dataset\n",
            "Target Shape: (64, 64)\n",
            "Found 3670 images belonging to 5 classes.\n"
          ],
          "name": "stdout"
        }
      ]
    },
    {
      "cell_type": "code",
      "metadata": {
        "colab": {
          "base_uri": "https://localhost:8080/",
          "height": 173
        },
        "id": "Tmk4i5V2AiC1",
        "outputId": "cda209d9-2b3b-4c15-fa2c-a14a6a8c14d3"
      },
      "source": [
        "i = 2\n",
        "print(dataset.shape)\n",
        "print(labels.shape)\n",
        "print(np.min(dataset[i]))\n",
        "print(np.max(dataset[i]))\n",
        "\n",
        "\n",
        "print(i, \"th image:\")\n",
        "print(\"Label:\", labels[i])\n",
        "plt.imshow(dataset[i])"
      ],
      "execution_count": 88,
      "outputs": [
        {
          "output_type": "stream",
          "text": [
            "(3670, 64, 64, 3)\n",
            "(3670,)\n",
            "7\n",
            "247\n",
            "2 th image:\n",
            "Label: 0\n"
          ],
          "name": "stdout"
        },
        {
          "output_type": "execute_result",
          "data": {
            "text/plain": [
              "<matplotlib.image.AxesImage at 0x7f88fe441cd0>"
            ]
          },
          "metadata": {
            "tags": []
          },
          "execution_count": 88
        },
        {
          "output_type": "display_data",
          "data": {
            "image/png": "[encoded data removed]",
            "text/plain": [
              "<Figure size 432x288 with 1 Axes>"
            ]
          },
          "metadata": {
            "tags": [],
            "needs_background": "light"
          }
        }
      ]
    },
    {
      "cell_type": "markdown",
      "metadata": {
        "id": "iTdxOOBpTl3o"
      },
      "source": [
        "# Loading Flickr-Faces-HQ Dataset (FFHQ)"
      ]
    },
    {
      "cell_type": "code",
      "metadata": {
        "id": "fknxOzi1Tu54"
      },
      "source": [
        ""
      ],
      "execution_count": null,
      "outputs": []
    },
    {
      "cell_type": "code",
      "metadata": {
        "id": "2_NsPxhvTvVX"
      },
      "source": [
        ""
      ],
      "execution_count": null,
      "outputs": []
    },
    {
      "cell_type": "code",
      "metadata": {
        "id": "YL2jgjXtTvpc"
      },
      "source": [
        ""
      ],
      "execution_count": null,
      "outputs": []
    },
    {
      "cell_type": "code",
      "metadata": {
        "id": "dVhocVl5Tv9R"
      },
      "source": [
        ""
      ],
      "execution_count": null,
      "outputs": []
    },
    {
      "cell_type": "markdown",
      "metadata": {
        "id": "Fm6yrWPK386D"
      },
      "source": [
        "# Data Augmentation\n",
        "- adaptive augmentation works\n",
        "- augmentations not strong enough to reduce overfitting of the discriminator\n",
        "- need to add more augmentation types\n",
        "\n",
        "**issue**\n",
        "- how to augment generated images when training generator? (model is already stacked = cannot access intermediate images)"
      ]
    },
    {
      "cell_type": "code",
      "metadata": {
        "id": "Rcxbw5XMfBzs"
      },
      "source": [
        "def augment_images(images, probability):\n",
        "    #print(\"Augmenting...\\nimage count:\", len(images))\n",
        "    aug_count = 0\n",
        "    augmented_images = []\n",
        "    for i in range(len(images)):\n",
        "        #print(\"image\", i)\n",
        "        p = np.random.uniform()\n",
        "        augmented = images[i]\n",
        "        if p < probability: # do the rotation\n",
        "            aug_count += 1\n",
        "            # number of 90 deg rotations\n",
        "            num_rot = np.random.randint(3) + 1\n",
        "            # [0,3) + 1 = [1,4) # apply 90, 180, or 270 rotation\n",
        "            #print(\"Rotating\", num_rot, \"times\")\n",
        "            augmented = np.rot90(augmented, num_rot)\n",
        "\n",
        "        p = np.random.uniform()\n",
        "        if p < probability: # do the x-flip \n",
        "            aug_count += 1\n",
        "            #print(\"Flipping across x\")\n",
        "            augmented = np.flip(augmented)\n",
        "        augmented_images.append(augmented)\n",
        "    #print(aug_count,\"augmentations done.\")\n",
        "    augmented_images = np.asarray(augmented_images)\n",
        "    return augmented_images"
      ],
      "execution_count": null,
      "outputs": []
    },
    {
      "cell_type": "code",
      "metadata": {
        "colab": {
          "base_uri": "https://localhost:8080/",
          "height": 334
        },
        "id": "7yPwIaMrhx-F",
        "outputId": "ac77e8d8-d8a8-4dc8-994a-dc901f7c825a"
      },
      "source": [
        "print(images.shape)\n",
        "plt.imshow(images[0])\n",
        "\n",
        "p = 0.8\n",
        "aug_images = augment_images(images[0:1], p)\n",
        "plt.imshow(aug_images[0])"
      ],
      "execution_count": null,
      "outputs": [
        {
          "output_type": "stream",
          "text": [
            "Clipping input data to the valid range for imshow with RGB data ([0..1] for floats or [0..255] for integers).\n",
            "Clipping input data to the valid range for imshow with RGB data ([0..1] for floats or [0..255] for integers).\n"
          ],
          "name": "stderr"
        },
        {
          "output_type": "stream",
          "text": [
            "(3670, 32, 32, 3)\n"
          ],
          "name": "stdout"
        },
        {
          "output_type": "execute_result",
          "data": {
            "text/plain": [
              "<matplotlib.image.AxesImage at 0x7f426632ab90>"
            ]
          },
          "metadata": {
            "tags": []
          },
          "execution_count": 83
        },
        {
          "output_type": "display_data",
          "data": {
            "image/png": "[encoded data removed]",
            "text/plain": [
              "<Figure size 432x288 with 1 Axes>"
            ]
          },
          "metadata": {
            "tags": []
          }
        }
      ]
    },
    {
      "cell_type": "code",
      "metadata": {
        "id": "_eh8S-CiyzXU"
      },
      "source": [
        "# train function for nonAC GAN\n",
        "def train_BASE_GAN_ADA(g_model, d_model, gan_model, dataset, latent_dim, n_epochs=1000, n_batch=64):\n",
        "    # calculate the number of batches per training epoch\n",
        "    bat_per_epo = int(dataset[0].shape[0] / n_batch)\n",
        "    # calculate the number of training iterations\n",
        "    n_steps = bat_per_epo * n_epochs\n",
        "    # calculate the size of half a batch of samples\n",
        "    half_batch = int(n_batch / 2)\n",
        "    d_rs = [] # loss per batch used for averaging across epoch\n",
        "    d_fs = []\n",
        "    gs = []\n",
        "    d_rs_epo = [] # averaged losses per epoch\n",
        "    d_fs_epo = []\n",
        "    gs_epo = []\n",
        "    is_scores = []\n",
        "    fid_scores = []\n",
        "\n",
        "    # adaptive data augmentation\n",
        "    r_t = 0\n",
        "    r_target = 0.6\n",
        "    ada_count = 0\n",
        "    p = 0\n",
        "    p_step = 1 / 50 # step size to increase/decrease p by if it is != 0.6\n",
        "    N = 4\n",
        "    prob_log = []\n",
        "    # end ada\n",
        "\n",
        "    # manually enumerate epochs\n",
        "    for i in range(n_steps):\n",
        "        if i % bat_per_epo == 0 and i > 0:\n",
        "            print(\"\\nEpoch\", int(i/bat_per_epo))\n",
        "            avg_loss_d_r = (sum(d_rs[:])/bat_per_epo)\n",
        "            avg_loss_d_f = (sum(d_fs[:])/bat_per_epo)\n",
        "            avg_loss_g = (sum(gs[:])/bat_per_epo)\n",
        "            print(\"Average discriminator loss:\", avg_loss_d_r)\n",
        "            print(\"Average discriminator loss on fake images:\", avg_loss_d_f)\n",
        "            print(\"Average generator loss:\", avg_loss_g)\n",
        "\n",
        "            d_rs_epo.append( avg_loss_d_r ) # average disciminator loss on real samples\n",
        "            d_fs_epo.append( avg_loss_d_f ) # average disciminator loss on fake samples\n",
        "            gs_epo.append( avg_loss_g ) # average generator loss on real samples\n",
        "            # save augmentation probability p\n",
        "            prob_log.append(p)\n",
        "            d_rs = []\n",
        "            d_fs = []\n",
        "            gs = []\n",
        "            \n",
        "\n",
        "        # get randomly selected 'real' samples\n",
        "        [X_real, labels_real], y_real = generate_real_samples(dataset, half_batch)\n",
        "        # augment the real images at a probability p\n",
        "        aug_real = augment_images(X_real, p)\n",
        "        # update discriminator model weights using possibly augmented images\n",
        "        d_r1 = d_model.train_on_batch(aug_real, y_real)\n",
        "\n",
        "        # Adaptive Discriminator Augmentation\n",
        "        # track r_t\n",
        "        if ada_count == 0:\n",
        "            # reset predictions\n",
        "            predict_avgs = []\n",
        "\n",
        "        # make predictions on real images\n",
        "        #pred = d_model.predict(X_real) # predicting on real images when training on augmented images **possible issue**\n",
        "        pred = d_model.predict(aug_real) \n",
        "        predict_avgs.append(np.average(pred))\n",
        "        ada_count += 1\n",
        "        \n",
        "        # if count is 4, update values\n",
        "        if ada_count == 4: \n",
        "            # update r_t and p every 4 batches\n",
        "            ada_count = 0\n",
        "            # take average of discriminator outputs every N = 4 bateches\n",
        "            #print(\"Updating p and r_t\")\n",
        "            r_t = sum(predict_avgs) / len(predict_avgs)\n",
        "            #print(\"Average prediction on\", N, \"batches =\", r_t)\n",
        "\n",
        "            # modify p depending on r_t\n",
        "            if r_t < r_target:\n",
        "                #print(\"r_t:\", r_t, \"is less than r_target:\", r_target)\n",
        "                #print(\"We are underfit so lower p =\", p, \"by step:\", p_step, \"if p>p_step\")\n",
        "                if p > p_step:\n",
        "                    p -= p_step\n",
        "            else:\n",
        "                #print(\"r_t:\", r_t, \"is more than r_target:\", r_target)\n",
        "                #print(\"We are overfit so raise p =\", p, \"by step:\", p_step, \"if p<1\")\n",
        "                if p < 1 - p_step:\n",
        "                    p += p_step\n",
        "        # end ADA\n",
        "\n",
        "        # generate 'fake' examples\n",
        "        [X_fake, labels_fake], y_fake = generate_fake_samples_BASE_GAN(g_model, latent_dim, half_batch)\n",
        "        # augment the fake images at a probability p\n",
        "        aug_fake = augment_images(X_fake, p)\n",
        "        # update discriminator model weights\n",
        "        d_f = d_model.train_on_batch(aug_fake, y_fake)\n",
        "\n",
        "        # prepare points in latent space as input for the generator\n",
        "        [z_input, z_labels] = generate_latent_points(latent_dim, n_batch)\n",
        "        # create inverted labels for the fake samples\n",
        "        y_gan = ones((n_batch, 1))\n",
        "        # update the generator via the discriminator's error\n",
        "\n",
        "        # base GAN no AC\n",
        "        g_1 = gan_model.train_on_batch(z_input, y_gan) # how to augment these images? - not augmented rn\n",
        "\n",
        "        # summarize loss on this batch\n",
        "        d_rs.append(d_r1)\n",
        "        d_fs.append(d_f)\n",
        "        gs.append(g_1)\n",
        "\n",
        "        # evaluate the model performance every 'epoch'\n",
        "        if (i+1) % (bat_per_epo * 100) == 0:\n",
        "            summarize_performance_BASE_GAN(i, g_model, latent_dim)\n",
        "\n",
        "            # add inception scores\n",
        "            score, std = get_inception_score(g_model)\n",
        "            is_scores.append(score)\n",
        "\n",
        "            # add FID scores\n",
        "            fid = get_fid(g_model, latent_dim, test_image_count=1000)\n",
        "            fid_scores.append(fid)\n",
        "            \n",
        "    d_rs_epo = np.asarray(d_rs_epo)\n",
        "    d_fs_epo = np.asarray(d_fs_epo)\n",
        "    gs_epo = np.asarray(gs_epo)\n",
        "    is_scores = np.asarray(is_scores)\n",
        "    fid_scores = np.asarray(fid_scores)\n",
        "    prob_log = np.asarray(prob_log)\n",
        "    return [d_rs_epo, d_fs_epo, gs_epo, is_scores, fid_scores, prob_log] "
      ],
      "execution_count": null,
      "outputs": []
    },
    {
      "cell_type": "code",
      "metadata": {
        "colab": {
          "base_uri": "https://localhost:8080/"
        },
        "id": "y1tQjmVdWRpb",
        "outputId": "4d2fdd13-5630-4502-ad10-350c7a652f1f"
      },
      "source": [
        "# Base GAN\n",
        "print(\"Creating Base GAN\")\n",
        "# create the discriminator\n",
        "discriminator = define_discriminator_JASON(lr=LR_D, beta_1=BETA_1_D, beta_2=BETA_2_D)\n",
        "model_info(discriminator, \"discriminator\")\n",
        "\n",
        "# create the generator\n",
        "generator = define_generator_JASON(latent_dim)\n",
        "model_info(generator, \"generator\")\n",
        "\n",
        "# create the gan\n",
        "gan_model = define_BASE_GAN(generator, discriminator, lr=LR_G, beta_1=BETA_1_G, beta_2=BETA_2_G)\n",
        "model_info(gan_model, \"base_GAN_model\")"
      ],
      "execution_count": null,
      "outputs": [
        {
          "output_type": "stream",
          "text": [
            "Creating Base GAN\n",
            "Model: \"JASON_discriminator_32x32\"\n",
            "_________________________________________________________________\n",
            "Layer (type)                 Output Shape              Param #   \n",
            "=================================================================\n",
            "input_12 (InputLayer)        [(None, 32, 32, 3)]       0         \n",
            "_________________________________________________________________\n",
            "conv2d_119 (Conv2D)          (None, 32, 32, 64)        1792      \n",
            "_________________________________________________________________\n",
            "leaky_re_lu_40 (LeakyReLU)   (None, 32, 32, 64)        0         \n",
            "_________________________________________________________________\n",
            "conv2d_120 (Conv2D)          (None, 32, 32, 128)       73856     \n",
            "_________________________________________________________________\n",
            "leaky_re_lu_41 (LeakyReLU)   (None, 32, 32, 128)       0         \n",
            "_________________________________________________________________\n",
            "conv2d_121 (Conv2D)          (None, 16, 16, 128)       147584    \n",
            "_________________________________________________________________\n",
            "leaky_re_lu_42 (LeakyReLU)   (None, 16, 16, 128)       0         \n",
            "_________________________________________________________________\n",
            "conv2d_122 (Conv2D)          (None, 16, 16, 256)       295168    \n",
            "_________________________________________________________________\n",
            "leaky_re_lu_43 (LeakyReLU)   (None, 16, 16, 256)       0         \n",
            "_________________________________________________________________\n",
            "dropout_5 (Dropout)          (None, 16, 16, 256)       0         \n",
            "_________________________________________________________________\n",
            "flatten_5 (Flatten)          (None, 65536)             0         \n",
            "_________________________________________________________________\n",
            "dense_10 (Dense)             (None, 1)                 65537     \n",
            "=================================================================\n",
            "Total params: 583,937\n",
            "Trainable params: 583,937\n",
            "Non-trainable params: 0\n",
            "_________________________________________________________________\n"
          ],
          "name": "stdout"
        },
        {
          "output_type": "stream",
          "text": [
            "/usr/local/lib/python3.7/dist-packages/tensorflow/python/keras/optimizer_v2/optimizer_v2.py:375: UserWarning: The `lr` argument is deprecated, use `learning_rate` instead.\n",
            "  \"The `lr` argument is deprecated, use `learning_rate` instead.\")\n"
          ],
          "name": "stderr"
        },
        {
          "output_type": "stream",
          "text": [
            "Model: \"JASON_generator_32x32\"\n",
            "_________________________________________________________________\n",
            "Layer (type)                 Output Shape              Param #   \n",
            "=================================================================\n",
            "input_13 (InputLayer)        [(None, 100)]             0         \n",
            "_________________________________________________________________\n",
            "dense_11 (Dense)             (None, 4096)              413696    \n",
            "_________________________________________________________________\n",
            "leaky_re_lu_44 (LeakyReLU)   (None, 4096)              0         \n",
            "_________________________________________________________________\n",
            "reshape_5 (Reshape)          (None, 4, 4, 256)         0         \n",
            "_________________________________________________________________\n",
            "conv2d_transpose_15 (Conv2DT (None, 8, 8, 128)         524416    \n",
            "_________________________________________________________________\n",
            "leaky_re_lu_45 (LeakyReLU)   (None, 8, 8, 128)         0         \n",
            "_________________________________________________________________\n",
            "conv2d_transpose_16 (Conv2DT (None, 16, 16, 128)       262272    \n",
            "_________________________________________________________________\n",
            "leaky_re_lu_46 (LeakyReLU)   (None, 16, 16, 128)       0         \n",
            "_________________________________________________________________\n",
            "conv2d_transpose_17 (Conv2DT (None, 32, 32, 128)       262272    \n",
            "_________________________________________________________________\n",
            "leaky_re_lu_47 (LeakyReLU)   (None, 32, 32, 128)       0         \n",
            "_________________________________________________________________\n",
            "conv2d_123 (Conv2D)          (None, 32, 32, 3)         3459      \n",
            "=================================================================\n",
            "Total params: 1,466,115\n",
            "Trainable params: 1,466,115\n",
            "Non-trainable params: 0\n",
            "_________________________________________________________________\n",
            "Model: \"Combined_BASE_GAN\"\n",
            "_________________________________________________________________\n",
            "Layer (type)                 Output Shape              Param #   \n",
            "=================================================================\n",
            "input_13 (InputLayer)        [(None, 100)]             0         \n",
            "_________________________________________________________________\n",
            "dense_11 (Dense)             (None, 4096)              413696    \n",
            "_________________________________________________________________\n",
            "leaky_re_lu_44 (LeakyReLU)   (None, 4096)              0         \n",
            "_________________________________________________________________\n",
            "reshape_5 (Reshape)          (None, 4, 4, 256)         0         \n",
            "_________________________________________________________________\n",
            "conv2d_transpose_15 (Conv2DT (None, 8, 8, 128)         524416    \n",
            "_________________________________________________________________\n",
            "leaky_re_lu_45 (LeakyReLU)   (None, 8, 8, 128)         0         \n",
            "_________________________________________________________________\n",
            "conv2d_transpose_16 (Conv2DT (None, 16, 16, 128)       262272    \n",
            "_________________________________________________________________\n",
            "leaky_re_lu_46 (LeakyReLU)   (None, 16, 16, 128)       0         \n",
            "_________________________________________________________________\n",
            "conv2d_transpose_17 (Conv2DT (None, 32, 32, 128)       262272    \n",
            "_________________________________________________________________\n",
            "leaky_re_lu_47 (LeakyReLU)   (None, 32, 32, 128)       0         \n",
            "_________________________________________________________________\n",
            "conv2d_123 (Conv2D)          (None, 32, 32, 3)         3459      \n",
            "_________________________________________________________________\n",
            "JASON_discriminator_32x32 (F (None, 1)                 583937    \n",
            "=================================================================\n",
            "Total params: 2,050,052\n",
            "Trainable params: 1,466,115\n",
            "Non-trainable params: 583,937\n",
            "_________________________________________________________________\n"
          ],
          "name": "stdout"
        }
      ]
    },
    {
      "cell_type": "code",
      "metadata": {
        "colab": {
          "base_uri": "https://localhost:8080/"
        },
        "id": "_BKONYzXWR2o",
        "outputId": "35cb63be-9e6a-4c47-f58b-0d9ae02ce1d3"
      },
      "source": [
        "d_r_ep, d_f_ep, g_ep, is_scores, fid_scores, prob_log = train_BASE_GAN_ADA(generator, discriminator, gan_model, dataset, latent_dim, n_epochs=10, n_batch=BATCH_SIZE)"
      ],
      "execution_count": null,
      "outputs": [
        {
          "output_type": "stream",
          "text": [
            "\n",
            "Epoch 1\n",
            "Average discriminator loss: 0.3571966956931232\n",
            "Average discriminator loss on fake images: 0.4060274219029867\n",
            "Average generator loss: 3.4147717126628807\n",
            "\n",
            "Epoch 2\n",
            "Average discriminator loss: 0.3764748023659514\n",
            "Average discriminator loss on fake images: 0.2653078247645968\n",
            "Average generator loss: 2.403369210268322\n",
            "\n",
            "Epoch 3\n",
            "Average discriminator loss: 0.5494880135775658\n",
            "Average discriminator loss on fake images: 0.36243620784463065\n",
            "Average generator loss: 2.0147321224212646\n",
            "\n",
            "Epoch 4\n",
            "Average discriminator loss: 0.436660778627061\n",
            "Average discriminator loss on fake images: 0.30886541712179516\n",
            "Average generator loss: 0.7302693010945069\n",
            "\n",
            "Epoch 5\n",
            "Average discriminator loss: 0.06951858895716437\n",
            "Average discriminator loss on fake images: 0.07976163623102925\n",
            "Average generator loss: 0.07207209462496011\n",
            "\n",
            "Epoch 6\n",
            "Average discriminator loss: 0.0903006829280537\n",
            "Average discriminator loss on fake images: 0.09187109116464853\n",
            "Average generator loss: 0.021166916852898635\n",
            "\n",
            "Epoch 7\n",
            "Average discriminator loss: 0.08206939537143498\n",
            "Average discriminator loss on fake images: 0.08374263355998617\n",
            "Average generator loss: 0.01702269546181094\n",
            "\n",
            "Epoch 8\n",
            "Average discriminator loss: 0.052008225100539755\n",
            "Average discriminator loss on fake images: 0.056783701591357066\n",
            "Average generator loss: 0.00908388941714197\n",
            "\n",
            "Epoch 9\n",
            "Average discriminator loss: 0.06203709933661709\n",
            "Average discriminator loss on fake images: 0.07273815302464195\n",
            "Average generator loss: 0.014510224925623717\n"
          ],
          "name": "stdout"
        }
      ]
    },
    {
      "cell_type": "code",
      "metadata": {
        "colab": {
          "base_uri": "https://localhost:8080/",
          "height": 404
        },
        "id": "lolYs1Fo4Db2",
        "outputId": "12fdf62f-a083-4d56-9bb2-b26393c8f3d1"
      },
      "source": [
        "import matplotlib.pyplot as plt\n",
        "# plot real/fake for discriminator loss\n",
        "plt.figure(figsize=(8,6))\n",
        "plt.plot(prob_log[:])\n",
        "plt.title('p values used in ADA')\n",
        "plt.ylabel('p')\n",
        "plt.xlabel('Epoch')\n",
        "plt.savefig(\"p_values.png\")\n",
        "plt.show()"
      ],
      "execution_count": null,
      "outputs": [
        {
          "output_type": "display_data",
          "data": {
            "image/png": "[encoded data removed]",
            "text/plain": [
              "<Figure size 576x432 with 1 Axes>"
            ]
          },
          "metadata": {
            "tags": []
          }
        }
      ]
    },
    {
      "cell_type": "markdown",
      "metadata": {
        "id": "TX6Mdgm24qVH"
      },
      "source": [
        "## Spectral Normalization GAN\n",
        "- run code cells in AC-GAN for helper functions\n",
        "- only define generator, discriminator and GAN here"
      ]
    },
    {
      "cell_type": "code",
      "metadata": {
        "colab": {
          "base_uri": "https://localhost:8080/"
        },
        "id": "VmdWyyuZgwAi",
        "outputId": "46f6467d-5bef-46f6-b614-fbe0dea862fd"
      },
      "source": [
        "!pip install tensorflow_addons"
      ],
      "execution_count": null,
      "outputs": [
        {
          "output_type": "stream",
          "text": [
            "Collecting tensorflow_addons\n",
            "\u001b[?25l  Downloading https://files.pythonhosted.org/packages/66/4b/e893d194e626c24b3df2253066aa418f46a432fdb68250cde14bf9bb0700/tensorflow_addons-0.13.0-cp37-cp37m-manylinux2010_x86_64.whl (679kB)\n",
            "\r\u001b[K     |▌                               | 10kB 21.0MB/s eta 0:00:01\r\u001b[K     |█                               | 20kB 28.4MB/s eta 0:00:01\r\u001b[K     |█▌                              | 30kB 20.6MB/s eta 0:00:01\r\u001b[K     |██                              | 40kB 17.1MB/s eta 0:00:01\r\u001b[K     |██▍                             | 51kB 13.5MB/s eta 0:00:01\r\u001b[K     |███                             | 61kB 15.4MB/s eta 0:00:01\r\u001b[K     |███▍                            | 71kB 13.1MB/s eta 0:00:01\r\u001b[K     |███▉                            | 81kB 12.7MB/s eta 0:00:01\r\u001b[K     |████▍                           | 92kB 13.6MB/s eta 0:00:01\r\u001b[K     |████▉                           | 102kB 13.7MB/s eta 0:00:01\r\u001b[K     |█████▎                          | 112kB 13.7MB/s eta 0:00:01\r\u001b[K     |█████▉                          | 122kB 13.7MB/s eta 0:00:01\r\u001b[K     |██████▎                         | 133kB 13.7MB/s eta 0:00:01\r\u001b[K     |██████▊                         | 143kB 13.7MB/s eta 0:00:01\r\u001b[K     |███████▎                        | 153kB 13.7MB/s eta 0:00:01\r\u001b[K     |███████▊                        | 163kB 13.7MB/s eta 0:00:01\r\u001b[K     |████████▏                       | 174kB 13.7MB/s eta 0:00:01\r\u001b[K     |████████▊                       | 184kB 13.7MB/s eta 0:00:01\r\u001b[K     |█████████▏                      | 194kB 13.7MB/s eta 0:00:01\r\u001b[K     |█████████▋                      | 204kB 13.7MB/s eta 0:00:01\r\u001b[K     |██████████▏                     | 215kB 13.7MB/s eta 0:00:01\r\u001b[K     |██████████▋                     | 225kB 13.7MB/s eta 0:00:01\r\u001b[K     |███████████                     | 235kB 13.7MB/s eta 0:00:01\r\u001b[K     |███████████▋                    | 245kB 13.7MB/s eta 0:00:01\r\u001b[K     |████████████                    | 256kB 13.7MB/s eta 0:00:01\r\u001b[K     |████████████▌                   | 266kB 13.7MB/s eta 0:00:01\r\u001b[K     |█████████████                   | 276kB 13.7MB/s eta 0:00:01\r\u001b[K     |█████████████▌                  | 286kB 13.7MB/s eta 0:00:01\r\u001b[K     |██████████████                  | 296kB 13.7MB/s eta 0:00:01\r\u001b[K     |██████████████▌                 | 307kB 13.7MB/s eta 0:00:01\r\u001b[K     |███████████████                 | 317kB 13.7MB/s eta 0:00:01\r\u001b[K     |███████████████▍                | 327kB 13.7MB/s eta 0:00:01\r\u001b[K     |████████████████                | 337kB 13.7MB/s eta 0:00:01\r\u001b[K     |████████████████▍               | 348kB 13.7MB/s eta 0:00:01\r\u001b[K     |████████████████▉               | 358kB 13.7MB/s eta 0:00:01\r\u001b[K     |█████████████████▍              | 368kB 13.7MB/s eta 0:00:01\r\u001b[K     |█████████████████▉              | 378kB 13.7MB/s eta 0:00:01\r\u001b[K     |██████████████████▎             | 389kB 13.7MB/s eta 0:00:01\r\u001b[K     |██████████████████▉             | 399kB 13.7MB/s eta 0:00:01\r\u001b[K     |███████████████████▎            | 409kB 13.7MB/s eta 0:00:01\r\u001b[K     |███████████████████▊            | 419kB 13.7MB/s eta 0:00:01\r\u001b[K     |████████████████████▎           | 430kB 13.7MB/s eta 0:00:01\r\u001b[K     |████████████████████▊           | 440kB 13.7MB/s eta 0:00:01\r\u001b[K     |█████████████████████▏          | 450kB 13.7MB/s eta 0:00:01\r\u001b[K     |█████████████████████▊          | 460kB 13.7MB/s eta 0:00:01\r\u001b[K     |██████████████████████▏         | 471kB 13.7MB/s eta 0:00:01\r\u001b[K     |██████████████████████▋         | 481kB 13.7MB/s eta 0:00:01\r\u001b[K     |███████████████████████▏        | 491kB 13.7MB/s eta 0:00:01\r\u001b[K     |███████████████████████▋        | 501kB 13.7MB/s eta 0:00:01\r\u001b[K     |████████████████████████        | 512kB 13.7MB/s eta 0:00:01\r\u001b[K     |████████████████████████▋       | 522kB 13.7MB/s eta 0:00:01\r\u001b[K     |█████████████████████████       | 532kB 13.7MB/s eta 0:00:01\r\u001b[K     |█████████████████████████▌      | 542kB 13.7MB/s eta 0:00:01\r\u001b[K     |██████████████████████████      | 552kB 13.7MB/s eta 0:00:01\r\u001b[K     |██████████████████████████▌     | 563kB 13.7MB/s eta 0:00:01\r\u001b[K     |███████████████████████████     | 573kB 13.7MB/s eta 0:00:01\r\u001b[K     |███████████████████████████▌    | 583kB 13.7MB/s eta 0:00:01\r\u001b[K     |████████████████████████████    | 593kB 13.7MB/s eta 0:00:01\r\u001b[K     |████████████████████████████▍   | 604kB 13.7MB/s eta 0:00:01\r\u001b[K     |█████████████████████████████   | 614kB 13.7MB/s eta 0:00:01\r\u001b[K     |█████████████████████████████▍  | 624kB 13.7MB/s eta 0:00:01\r\u001b[K     |█████████████████████████████▉  | 634kB 13.7MB/s eta 0:00:01\r\u001b[K     |██████████████████████████████▍ | 645kB 13.7MB/s eta 0:00:01\r\u001b[K     |██████████████████████████████▉ | 655kB 13.7MB/s eta 0:00:01\r\u001b[K     |███████████████████████████████▎| 665kB 13.7MB/s eta 0:00:01\r\u001b[K     |███████████████████████████████▉| 675kB 13.7MB/s eta 0:00:01\r\u001b[K     |████████████████████████████████| 686kB 13.7MB/s \n",
            "\u001b[?25hRequirement already satisfied: typeguard>=2.7 in /usr/local/lib/python3.7/dist-packages (from tensorflow_addons) (2.7.1)\n",
            "Installing collected packages: tensorflow-addons\n",
            "Successfully installed tensorflow-addons-0.13.0\n"
          ],
          "name": "stdout"
        }
      ]
    },
    {
      "cell_type": "code",
      "metadata": {
        "id": "WhcyxVPQgwI7"
      },
      "source": [
        "# use TFA spectral norm\n",
        "import tensorflow_addons as tfa\n",
        "from tensorflow_addons.layers import SpectralNormalization"
      ],
      "execution_count": null,
      "outputs": []
    },
    {
      "cell_type": "code",
      "metadata": {
        "id": "UL_UXuZqA54r"
      },
      "source": [
        "# working up from just conv - using spectral normalization\n",
        "def define_discriminator_SNGAN(in_shape=(64,64,3), lr=0.0002, beta_1=0.5, beta_2=0.999):\n",
        "\t# weight initialization\n",
        "\tinit = RandomNormal(stddev=0.02)\n",
        "\t# image input\n",
        "\tin_image = Input(shape=in_shape)\n",
        "\t# downsample to 32x32\n",
        "\tfe = SpectralNormalization(Conv2D(64, (3,3), strides=(2,2), padding='same', kernel_initializer=init))(in_image)\n",
        "\tfe = LeakyReLU(alpha=0.2)(fe)\n",
        "\t# downsample to 16x16\n",
        "\tfe = SpectralNormalization(Conv2D(128, (3,3), strides=(2,2), padding='same', kernel_initializer=init))(fe)\n",
        "\tfe = LeakyReLU(alpha=0.2)(fe)\n",
        "\t# downsample to 8x8\n",
        "\tfe = SpectralNormalization(Conv2D(256, (3,3), strides=(2,2), padding='same', kernel_initializer=init))(fe)\n",
        "\tfe = LeakyReLU(alpha=0.2)(fe)\n",
        "\t# flatten feature maps\n",
        "\tfe = Flatten()(fe)\n",
        "\t# real/fake output\n",
        "\tout1 = Dense(1, activation='sigmoid')(fe)\n",
        "\t# define model\n",
        "\tmodel = Model(in_image, out1, name='SN-Discriminator_3x3_kernel')\n",
        "\t# compile model\n",
        "\topt = Adam(lr=lr, beta_1=beta_1, beta_2=beta_2)\n",
        "\tmodel.compile(loss='binary_crossentropy', optimizer=opt)\n",
        "\treturn model\n",
        "\n",
        "# working up from just conv - using spectral normalization\n",
        "def define_discriminator_SNGAN_32x32(in_shape=(32,32,3), lr=0.0002, beta_1=0.5, beta_2=0.999):\n",
        "\t# weight initialization\n",
        "\tinit = RandomNormal(stddev=0.02)\n",
        "\t# image input\n",
        "\tin_image = Input(shape=in_shape)\n",
        "\t# downsample to 16x16\n",
        "\tfe = SpectralNormalization(Conv2D(64, (3,3), strides=(2,2), padding='same', kernel_initializer=init))(in_image)\n",
        "\tfe = LeakyReLU(alpha=0.2)(fe)\n",
        "\t# downsample to 8x8\n",
        "\tfe = SpectralNormalization(Conv2D(128, (3,3), strides=(2,2), padding='same', kernel_initializer=init))(fe)\n",
        "\tfe = LeakyReLU(alpha=0.2)(fe)\n",
        "\t# downsample to 4x4\n",
        "\tfe = SpectralNormalization(Conv2D(256, (3,3), strides=(2,2), padding='same', kernel_initializer=init))(fe)\n",
        "\tfe = LeakyReLU(alpha=0.2)(fe)\n",
        "\t# flatten feature maps\n",
        "\tfe = Flatten()(fe)\n",
        "\t# real/fake output\n",
        "\tout1 = Dense(1, activation='sigmoid')(fe)\n",
        "\t# define model\n",
        "\tmodel = Model(in_image, out1, name='SN-Discriminator_3x3_kernel_32x32')\n",
        "\t# compile model\n",
        "\topt = Adam(lr=lr, beta_1=beta_1, beta_2=beta_2)\n",
        "\tmodel.compile(loss='binary_crossentropy', optimizer=opt)\n",
        "\treturn model"
      ],
      "execution_count": null,
      "outputs": []
    },
    {
      "cell_type": "code",
      "metadata": {
        "id": "pK-j8fc4BP4P"
      },
      "source": [
        "# 3x3 - working up from just conv - using spectral normalization\n",
        "def define_generator_SNGAN(latent_dim=100):\n",
        "    # weight initialization\n",
        "    init = RandomNormal(stddev=0.02)\n",
        "    # image generator input\n",
        "    in_lat = Input(shape=(latent_dim,))\n",
        "\n",
        "    # foundation for 8x8 image\n",
        "    n_nodes = 128 * 8 * 8\n",
        "    gen = Dense(n_nodes, kernel_initializer=init)(in_lat)\n",
        "    gen = Activation('relu')(gen)\n",
        "    gen = Reshape((8, 8, 128))(gen)\n",
        "\n",
        "    # upsample to 16x16\n",
        "    gen = UpSampling2D(size=(2,2), interpolation='nearest')(gen)\n",
        "    gen = SpectralNormalization(Conv2D(32, (2,2), padding='same', kernel_initializer=init))(gen)\n",
        "    gen = Activation('relu')(gen)\n",
        "\n",
        "    # upsample to 32x32\n",
        "    gen = UpSampling2D(size=(2,2), interpolation='nearest')(gen)\n",
        "    gen = SpectralNormalization(Conv2D(32, (2,2), padding='same', kernel_initializer=init))(gen)\n",
        "    gen = Activation('relu')(gen)\n",
        "\n",
        "    # upsample to 64x64\n",
        "    gen = UpSampling2D(size=(2,2), interpolation='nearest')(gen)\n",
        "    gen = SpectralNormalization(Conv2D(3, (2,2), padding='same', kernel_initializer=init))(gen)\n",
        "    out_layer = Activation('tanh')(gen)\n",
        "    \n",
        "    # define model\n",
        "    model = Model(in_lat, out_layer, name='SN-Generator_2x2_kernel')\n",
        "    return model"
      ],
      "execution_count": null,
      "outputs": []
    },
    {
      "cell_type": "code",
      "metadata": {
        "id": "DxKFRpeJYWap"
      },
      "source": [
        "dim = 4 # channels/k where k = 8: from SA-GAN paper\n",
        "\n",
        "# SN with self attention layer\n",
        "def define_generator_SAGAN_debug(latent_dim=100):\n",
        "    # weight initialization\n",
        "    init = RandomNormal(stddev=0.02)\n",
        "    # image generator input\n",
        "    in_lat = Input(shape=(latent_dim,))\n",
        "\n",
        "    # foundation for 8x8 image\n",
        "    n_nodes = 128 * 8 * 8\n",
        "    gen = Dense(n_nodes, kernel_initializer=init)(in_lat)\n",
        "    gen = Activation('relu')(gen)\n",
        "    gen = Reshape((8, 8, 128))(gen)\n",
        "\n",
        "    # upsample to 16x16\n",
        "    gen = UpSampling2D(size=(2,2), interpolation='nearest')(gen)\n",
        "    gen = SpectralNormalization(Conv2D(64, (2,2), padding='same', kernel_initializer=init))(gen)\n",
        "    gen = Activation('relu')(gen)\n",
        "\n",
        "    # upsample to 32x32\n",
        "    gen = UpSampling2D(size=(2,2), interpolation='nearest')(gen)\n",
        "    gen = SpectralNormalization(Conv2D(32, (2,2), padding='same', kernel_initializer=init))(gen)\n",
        "    gen = Activation('relu')(gen)\n",
        "\n",
        "    # self attention layer\n",
        "    print(\"Input shape at SA layer:\", gen.shape)\n",
        "\n",
        "    # f = Query\n",
        "    f = Conv2D(dim, (1,1), kernel_initializer=init)(gen)\n",
        "    print(\"Shape of the query after 1x1:\", f.shape)\n",
        "    f = K.permute_dimensions(f, (0, 2, 1, 3))\n",
        "    print(\"Shape of the query after transpose:\", f.shape)\n",
        "    # flatten\n",
        "    #f = Flatten()(f)\n",
        "    f = Reshape(target_shape=(dim, 32*32))(f)\n",
        "    print(\"Shape of the query after flatten\", f.shape)\n",
        "\n",
        "    # g = Key\n",
        "    g = Conv2D(dim, (1,1), kernel_initializer=init)(gen)\n",
        "    print(\"Shape of the key after 1x1\", g.shape)\n",
        "    # flatten the 32x32\n",
        "    g = Reshape(target_shape=(32*32, dim))(g)\n",
        "    #g = Reshape(target_shape=(g.shape[0], -1, g.shape[-1]))(g)\n",
        "    #g = tf.reshape(g, shape=[g.shape[0], -1, g.shape[-1]])\n",
        "    print(\"Shape of the key after flatten\", g.shape)\n",
        "\n",
        "    # a = attention before softmax\n",
        "    a = tf.matmul(g,f)\n",
        "    print(\"Shape of the matrix multiplication: key x query (should this be query x key?):\", a.shape)\n",
        "\n",
        "    # a_map = attention map\n",
        "    a_map = Softmax()(a)\n",
        "    print(\"Shape of attention map after softmax:\", a_map.shape)\n",
        "    #a_map = Reshape(target_shape=())(a_map)\n",
        "\n",
        "    # h = Value\n",
        "    h = Conv2D(dim, (1,1), kernel_initializer=init)(gen)\n",
        "    print(\"Shape of the value after 1x1\", h.shape)\n",
        "    h = Reshape(target_shape=(dim, 32*32))(h)\n",
        "    print(\"Shape of the value after flatten\", h.shape)\n",
        "\n",
        "    # o = output\n",
        "    #a_map = K.permute_dimensions(a_map, (0, 2, 1))\n",
        "    #print(\"Shape after transposing the attention map:\", a_map.shape)\n",
        "    print(\"Not taking the transpose of the attention map\")\n",
        "\n",
        "    o = tf.matmul(h, a_map)\n",
        "    print(\"Shape of o = h x attention map:\", o.shape)\n",
        "    o = Reshape(target_shape=(32, 32, dim))(o)\n",
        "    print(\"Shape of o after converting back to 32x32:\", o.shape)\n",
        "    # apply another convolution to attention map x h\n",
        "    o = Conv2D(32, (1,1), kernel_initializer=init)(o)\n",
        "    print(\"Shape of o after 1x1:\", o.shape)\n",
        "\n",
        "    # gen was original input\n",
        "    #gamma = tf.Variable(initial_value=0, dtype=tf.float32)\n",
        "    #self_attention = gamma * o + gen # adding back the input feature map to learned scale of self attention module\n",
        "    #print(\"Shape of self attention layer:\", self_attention.shape)\n",
        "\n",
        "    # append to original input\n",
        "    self_attention = Concatenate()([o, gen])\n",
        "    print(\"Self attention layer appended with original:\", self_attention.shape)\n",
        "\n",
        "    # upsample to 64x64\n",
        "    gen = UpSampling2D(size=(2,2), interpolation='nearest')(self_attention)\n",
        "    gen = SpectralNormalization(Conv2D(16, (2,2), padding='same', kernel_initializer=init))(gen)\n",
        "    gen = Activation('relu')(gen)\n",
        "\n",
        "    gen = SpectralNormalization(Conv2D(3, (2,2), padding='same', kernel_initializer=init))(gen)\n",
        "    out_layer = Activation('tanh')(gen)\n",
        "    \n",
        "    # define model\n",
        "    model = Model(in_lat, out_layer, name='SAGAN-Generator_extra_16x16_dim_8')\n",
        "    return model"
      ],
      "execution_count": null,
      "outputs": []
    },
    {
      "cell_type": "code",
      "metadata": {
        "colab": {
          "base_uri": "https://localhost:8080/"
        },
        "id": "0E16kg0jXnoW",
        "outputId": "1fbb3b04-d011-4af5-a531-0f7318c305fe"
      },
      "source": [
        "g = define_generator_SAGAN_debug()\n",
        "#g = define_generator_SAGAN()\n",
        "#d = define_discriminator_SNGAN()"
      ],
      "execution_count": null,
      "outputs": [
        {
          "output_type": "stream",
          "text": [
            "Input shape at SA layer: (None, 32, 32, 32)\n",
            "Shape of the query after 1x1: (None, 32, 32, 4)\n",
            "Shape of the query after transpose: (None, 32, 32, 4)\n",
            "Shape of the query after flatten (None, 4, 1024)\n",
            "Shape of the key after 1x1 (None, 32, 32, 4)\n",
            "Shape of the key after flatten (None, 1024, 4)\n",
            "Shape of the matrix multiplication: key x query (should this be query x key?): (None, 1024, 1024)\n",
            "Shape of attention map after softmax: (None, 1024, 1024)\n",
            "Shape of the value after 1x1 (None, 32, 32, 4)\n",
            "Shape of the value after flatten (None, 4, 1024)\n",
            "Not taking the transpose of the attention map\n",
            "Shape of o = h x attention map: (None, 4, 1024)\n",
            "Shape of o after converting back to 32x32: (None, 32, 32, 4)\n",
            "Shape of o after 1x1: (None, 32, 32, 32)\n",
            "Self attention layer appended with original: (None, 32, 32, 64)\n"
          ],
          "name": "stdout"
        }
      ]
    },
    {
      "cell_type": "code",
      "metadata": {
        "id": "PMFYrSI-E9EB"
      },
      "source": [
        "dim = 8 # channels/k where k = 8: from SA-GAN paper\n",
        "\n",
        "# SN with self attention layer\n",
        "def define_generator_SAGAN(latent_dim=100):\n",
        "    # weight initialization\n",
        "    init = RandomNormal(stddev=0.02)\n",
        "    # image generator input\n",
        "    in_lat = Input(shape=(latent_dim,))\n",
        "\n",
        "    # foundation for 8x8 image\n",
        "    n_nodes = 128 * 8 * 8\n",
        "    gen = Dense(n_nodes, kernel_initializer=init)(in_lat)\n",
        "    gen = Activation('relu')(gen)\n",
        "    gen = Reshape((8, 8, 128))(gen)\n",
        "\n",
        "    # upsample to 16x16\n",
        "    gen = UpSampling2D(size=(2,2), interpolation='nearest')(gen)\n",
        "    gen = SpectralNormalization(Conv2D(64, (2,2), padding='same', kernel_initializer=init))(gen)\n",
        "    gen = Activation('relu')(gen)\n",
        "\n",
        "    # upsample to 32x32\n",
        "    gen = UpSampling2D(size=(2,2), interpolation='nearest')(gen)\n",
        "    gen = SpectralNormalization(Conv2D(32, (2,2), padding='same', kernel_initializer=init))(gen)\n",
        "    gen = Activation('relu')(gen)\n",
        "\n",
        "    # self attention layer\n",
        "\n",
        "    # f = Query\n",
        "    f = Conv2D(dim, (1,1), kernel_initializer=init)(gen)\n",
        "    f = K.permute_dimensions(f, (0, 2, 1, 3))\n",
        "    # flatten\n",
        "    #f = Flatten()(f)\n",
        "    f = Reshape(target_shape=(dim, 32*32))(f)\n",
        "\n",
        "    # g = Key\n",
        "    g = Conv2D(dim, (1,1), kernel_initializer=init)(gen)\n",
        "    # flatten the 32x32\n",
        "    g = Reshape(target_shape=(32*32, dim))(g)\n",
        "    #g = Reshape(target_shape=(g.shape[0], -1, g.shape[-1]))(g)\n",
        "    #g = tf.reshape(g, shape=[g.shape[0], -1, g.shape[-1]])\n",
        "\n",
        "    # a = attention before softmax\n",
        "    a = tf.matmul(g,f)\n",
        "\n",
        "    # a_map = attention map\n",
        "    a_map = Softmax()(a)\n",
        "    #a_map = Reshape(target_shape=())(a_map)\n",
        "\n",
        "    # h = Value\n",
        "    h = Conv2D(dim, (1,1), kernel_initializer=init)(gen)\n",
        "    h = Reshape(target_shape=(dim, 32*32))(h)\n",
        "\n",
        "    # o = output\n",
        "    #a_map = K.permute_dimensions(a_map, (0, 2, 1))\n",
        "    #print(\"Shape after transposing the attention map:\", a_map.shape)\n",
        "\n",
        "    o = tf.matmul(h, a_map)\n",
        "    o = Reshape(target_shape=(32, 32, dim))(o)\n",
        "    # apply another convolution to attention map x h\n",
        "    o = Conv2D(32, (1,1), kernel_initializer=init)(o)\n",
        "\n",
        "    # append to original input\n",
        "    self_attention = Concatenate()([o, gen])\n",
        "\n",
        "    # upsample to 64x64\n",
        "    gen = UpSampling2D(size=(2,2), interpolation='nearest')(self_attention)\n",
        "    gen = SpectralNormalization(Conv2D(16, (2,2), padding='same', kernel_initializer=init))(gen)\n",
        "    gen = Activation('relu')(gen)\n",
        "\n",
        "    gen = SpectralNormalization(Conv2D(3, (2,2), padding='same', kernel_initializer=init))(gen)\n",
        "    out_layer = Activation('tanh')(gen)\n",
        "    \n",
        "    # define model\n",
        "    model = Model(in_lat, out_layer, name='SAGAN-Generator_extra_16x16_dim_8')\n",
        "    return model"
      ],
      "execution_count": null,
      "outputs": []
    },
    {
      "cell_type": "code",
      "metadata": {
        "colab": {
          "base_uri": "https://localhost:8080/"
        },
        "id": "lJADD5jdDs5X",
        "outputId": "8e848624-96ee-4511-c579-8e83dd71824c"
      },
      "source": [
        "g.summary()"
      ],
      "execution_count": null,
      "outputs": [
        {
          "output_type": "stream",
          "text": [
            "Model: \"SAGAN-Generator_extra_16x16_dim_8\"\n",
            "__________________________________________________________________________________________________\n",
            "Layer (type)                    Output Shape         Param #     Connected to                     \n",
            "==================================================================================================\n",
            "input_1 (InputLayer)            [(None, 100)]        0                                            \n",
            "__________________________________________________________________________________________________\n",
            "dense (Dense)                   (None, 8192)         827392      input_1[0][0]                    \n",
            "__________________________________________________________________________________________________\n",
            "activation (Activation)         (None, 8192)         0           dense[0][0]                      \n",
            "__________________________________________________________________________________________________\n",
            "reshape (Reshape)               (None, 8, 8, 128)    0           activation[0][0]                 \n",
            "__________________________________________________________________________________________________\n",
            "up_sampling2d (UpSampling2D)    (None, 16, 16, 128)  0           reshape[0][0]                    \n",
            "__________________________________________________________________________________________________\n",
            "spectral_normalization (Spectra (None, 16, 16, 64)   32896       up_sampling2d[0][0]              \n",
            "__________________________________________________________________________________________________\n",
            "activation_1 (Activation)       (None, 16, 16, 64)   0           spectral_normalization[0][0]     \n",
            "__________________________________________________________________________________________________\n",
            "up_sampling2d_1 (UpSampling2D)  (None, 32, 32, 64)   0           activation_1[0][0]               \n",
            "__________________________________________________________________________________________________\n",
            "spectral_normalization_1 (Spect (None, 32, 32, 32)   8256        up_sampling2d_1[0][0]            \n",
            "__________________________________________________________________________________________________\n",
            "activation_2 (Activation)       (None, 32, 32, 32)   0           spectral_normalization_1[0][0]   \n",
            "__________________________________________________________________________________________________\n",
            "conv2d_2 (Conv2D)               (None, 32, 32, 4)    132         activation_2[0][0]               \n",
            "__________________________________________________________________________________________________\n",
            "conv2d_3 (Conv2D)               (None, 32, 32, 4)    132         activation_2[0][0]               \n",
            "__________________________________________________________________________________________________\n",
            "tf.compat.v1.transpose (TFOpLam (None, 32, 32, 4)    0           conv2d_2[0][0]                   \n",
            "__________________________________________________________________________________________________\n",
            "reshape_2 (Reshape)             (None, 1024, 4)      0           conv2d_3[0][0]                   \n",
            "__________________________________________________________________________________________________\n",
            "reshape_1 (Reshape)             (None, 4, 1024)      0           tf.compat.v1.transpose[0][0]     \n",
            "__________________________________________________________________________________________________\n",
            "conv2d_4 (Conv2D)               (None, 32, 32, 4)    132         activation_2[0][0]               \n",
            "__________________________________________________________________________________________________\n",
            "tf.linalg.matmul (TFOpLambda)   (None, 1024, 1024)   0           reshape_2[0][0]                  \n",
            "                                                                 reshape_1[0][0]                  \n",
            "__________________________________________________________________________________________________\n",
            "reshape_3 (Reshape)             (None, 4, 1024)      0           conv2d_4[0][0]                   \n",
            "__________________________________________________________________________________________________\n",
            "softmax (Softmax)               (None, 1024, 1024)   0           tf.linalg.matmul[0][0]           \n",
            "__________________________________________________________________________________________________\n",
            "tf.linalg.matmul_1 (TFOpLambda) (None, 4, 1024)      0           reshape_3[0][0]                  \n",
            "                                                                 softmax[0][0]                    \n",
            "__________________________________________________________________________________________________\n",
            "reshape_4 (Reshape)             (None, 32, 32, 4)    0           tf.linalg.matmul_1[0][0]         \n",
            "__________________________________________________________________________________________________\n",
            "conv2d_5 (Conv2D)               (None, 32, 32, 32)   160         reshape_4[0][0]                  \n",
            "__________________________________________________________________________________________________\n",
            "concatenate (Concatenate)       (None, 32, 32, 64)   0           conv2d_5[0][0]                   \n",
            "                                                                 activation_2[0][0]               \n",
            "__________________________________________________________________________________________________\n",
            "up_sampling2d_2 (UpSampling2D)  (None, 64, 64, 64)   0           concatenate[0][0]                \n",
            "__________________________________________________________________________________________________\n",
            "spectral_normalization_2 (Spect (None, 64, 64, 16)   4128        up_sampling2d_2[0][0]            \n",
            "__________________________________________________________________________________________________\n",
            "activation_3 (Activation)       (None, 64, 64, 16)   0           spectral_normalization_2[0][0]   \n",
            "__________________________________________________________________________________________________\n",
            "spectral_normalization_3 (Spect (None, 64, 64, 3)    198         activation_3[0][0]               \n",
            "__________________________________________________________________________________________________\n",
            "activation_4 (Activation)       (None, 64, 64, 3)    0           spectral_normalization_3[0][0]   \n",
            "==================================================================================================\n",
            "Total params: 873,426\n",
            "Trainable params: 873,311\n",
            "Non-trainable params: 115\n",
            "__________________________________________________________________________________________________\n"
          ],
          "name": "stdout"
        }
      ]
    },
    {
      "cell_type": "code",
      "metadata": {
        "id": "ymwHhSlLEEIV"
      },
      "source": [
        ""
      ],
      "execution_count": null,
      "outputs": []
    },
    {
      "cell_type": "code",
      "metadata": {
        "id": "XgJHT7vcyFPa"
      },
      "source": [
        ""
      ],
      "execution_count": null,
      "outputs": []
    },
    {
      "cell_type": "markdown",
      "metadata": {
        "id": "XIzNlMd_ddet"
      },
      "source": [
        "# AC-GAN v2\n",
        "- output per class on a row\n",
        "- add Alex's nearest neighbor code\n",
        "- SN linear?"
      ]
    },
    {
      "cell_type": "markdown",
      "metadata": {
        "id": "rK6XuIjuddtj"
      },
      "source": [
        "## Imports + Setup"
      ]
    },
    {
      "cell_type": "code",
      "metadata": {
        "id": "rK1Bq9jfdqJ8"
      },
      "source": [
        "from math import sqrt\n",
        "from numpy import zeros\n",
        "from numpy import ones\n",
        "from numpy import expand_dims\n",
        "from numpy.random import randn\n",
        "from numpy.random import randint\n",
        "from numpy.random import random\n",
        "from numpy.random import choice\n",
        "import tensorflow\n",
        "from tensorflow.keras.optimizers import Adam\n",
        "from tensorflow.keras.models import Model\n",
        "from tensorflow.keras.layers import Input\n",
        "from tensorflow.keras.layers import Dense\n",
        "from tensorflow.keras.layers import Reshape\n",
        "from tensorflow.keras.layers import Flatten\n",
        "from tensorflow.keras.layers import Conv2D\n",
        "from tensorflow.keras.layers import Conv2DTranspose\n",
        "from tensorflow.keras.layers import UpSampling2D\n",
        "from tensorflow.keras.layers import LeakyReLU\n",
        "from tensorflow.keras.layers import BatchNormalization\n",
        "from tensorflow.keras.layers import Dropout\n",
        "from tensorflow.keras.layers import Embedding\n",
        "from tensorflow.keras.layers import Activation\n",
        "from tensorflow.keras.layers import Concatenate\n",
        "from tensorflow.keras.layers import Attention\n",
        "from tensorflow.keras.layers import Softmax\n",
        "from tensorflow.keras.initializers import RandomNormal\n",
        "from tensorflow.keras.utils import plot_model\n",
        "from tensorflow.keras.utils import to_categorical\n",
        "from tensorflow.keras import backend as K \n",
        "from matplotlib import pyplot\n",
        "from IPython import display"
      ],
      "execution_count": 89,
      "outputs": []
    },
    {
      "cell_type": "markdown",
      "metadata": {
        "id": "63TpLIn8Xo6r"
      },
      "source": [
        "## Load Dataset\n",
        "- only Flowers dataset modified for OHE labels\n",
        "- set NUM_CLASSES here"
      ]
    },
    {
      "cell_type": "code",
      "metadata": {
        "colab": {
          "base_uri": "https://localhost:8080/"
        },
        "id": "RX2LhmomXrfm",
        "outputId": "d4de2755-05bf-4985-b372-7e1f50782479"
      },
      "source": [
        "# load image data\n",
        "flip = False\n",
        "x, y = load_image_net_data(scale=True, flip=flip)\n",
        "\n",
        "print(\"Restricting to\", NUM_CLASSES, \"classes\")\n",
        "IMG_PER_CLASS = 900\n",
        "\n",
        "if flip:\n",
        "    x = x[0:IMG_PER_CLASS * NUM_CLASSES * 2]\n",
        "    y = y[0:IMG_PER_CLASS * NUM_CLASSES * 2]\n",
        "else:\n",
        "    x = x[0:IMG_PER_CLASS * NUM_CLASSES]\n",
        "    y = y[0:IMG_PER_CLASS * NUM_CLASSES]\n",
        "print(x.shape)\n",
        "print(y.shape)\n",
        "dataset = [x, y]\n",
        "\n",
        "NUM_CLASSES = max(y) - min(y) + 1\n",
        "print(\"NUM_CLASSES =\", NUM_CLASSES)"
      ],
      "execution_count": null,
      "outputs": [
        {
          "output_type": "stream",
          "text": [
            "shape of the data: (40, 900, 12288)\n",
            "classes: 40\n",
            "images per class: 900\n",
            "pixel values in images: 12288\n",
            "shape after removing classes: (36000, 12288)\n",
            "Converting data shape to 2D with 3 channels\n",
            "scaling values to the range [-1, 1]\n",
            "formatted shape: (36000, 64, 64, 3)\n",
            "Restricting to 5 classes\n",
            "(4500, 64, 64, 3)\n",
            "(4500,)\n",
            "NUM_CLASSES = 5\n"
          ],
          "name": "stdout"
        }
      ]
    },
    {
      "cell_type": "code",
      "metadata": {
        "colab": {
          "base_uri": "https://localhost:8080/",
          "height": 419
        },
        "id": "eg5JsfblXrnL",
        "outputId": "f6c93875-2ba0-4ae4-93e4-92d0f2b08535"
      },
      "source": [
        "# load cifar10 data\n",
        "x, y = load_cifar10_data(scale=True)\n",
        "\n",
        "images = []\n",
        "labels = []\n",
        "\n",
        "NUM_CLASSES = 10\n",
        "\n",
        "# restricting to NUM_CLASSES\n",
        "for i in range(len(y)):\n",
        "    if y[i] in range(NUM_CLASSES):\n",
        "        images.append(x[i])\n",
        "        labels.append(y[i])\n",
        "\n",
        "images = np.asarray(images)\n",
        "labels = np.asarray(labels)\n",
        "\n",
        "print(\"images:\", images.shape)\n",
        "print(\"labels:\", labels.shape)\n",
        "print(\"min label:\", np.min(labels))\n",
        "print(\"max label:\", np.max(labels))\n",
        "\n",
        "dataset = [images, labels]\n",
        "\n",
        "plt.imshow(images[1])"
      ],
      "execution_count": null,
      "outputs": [
        {
          "output_type": "stream",
          "text": [
            "(60000, 32, 32, 3)\n",
            "(60000, 1)\n",
            "scaling values to the range [-1, 1]\n"
          ],
          "name": "stdout"
        },
        {
          "output_type": "stream",
          "text": [
            "Clipping input data to the valid range for imshow with RGB data ([0..1] for floats or [0..255] for integers).\n"
          ],
          "name": "stderr"
        },
        {
          "output_type": "stream",
          "text": [
            "images: (60000, 32, 32, 3)\n",
            "labels: (60000, 1)\n",
            "min label: 0\n",
            "max label: 9\n"
          ],
          "name": "stdout"
        },
        {
          "output_type": "execute_result",
          "data": {
            "text/plain": [
              "<matplotlib.image.AxesImage at 0x7f1eb75563d0>"
            ]
          },
          "metadata": {
            "tags": []
          },
          "execution_count": 53
        },
        {
          "output_type": "display_data",
          "data": {
            "image/png": "[encoded data removed]",
            "text/plain": [
              "<Figure size 432x288 with 1 Axes>"
            ]
          },
          "metadata": {
            "tags": []
          }
        }
      ]
    },
    {
      "cell_type": "code",
      "metadata": {
        "id": "K9iJZOvjXrsx"
      },
      "source": [
        "# load birds dataset 32x32\n",
        "images, labels = load_birds_data_direct(scale=True, target_shape=(32,32))\n",
        "dataset = [images, labels]\n",
        "plt.imshow(images[0])\n",
        "print(\"image label:\", labels[0])\n",
        "\n",
        "NUM_CLASSES = max(labels) - min(labels) + 1\n",
        "print(\"NUM_CLASSES =\", NUM_CLASSES)"
      ],
      "execution_count": null,
      "outputs": []
    },
    {
      "cell_type": "code",
      "metadata": {
        "colab": {
          "base_uri": "https://localhost:8080/",
          "height": 421
        },
        "id": "WY-OpqzKXr4D",
        "outputId": "d4f23719-4922-4f4d-c4c1-2b87c65321e8"
      },
      "source": [
        "# load flowers dataset\n",
        "images, labels = load_flowers_data(scale=True, target_shape=(64,64), one_hot=True, interp='bilinear') # changed to one_hot labels\n",
        "\n",
        "print(\"images:\", images.shape)\n",
        "print(\"labels:\", labels.shape)\n",
        "print(\"Showing 1 image (discolored due to tanh scaling)\")\n",
        "plt.imshow(images[0])\n",
        "dataset = [images, labels]\n",
        "\n",
        "\n",
        "NUM_CLASSES = 5\n",
        "print(\"NUM_CLASSES =\", NUM_CLASSES)"
      ],
      "execution_count": 90,
      "outputs": [
        {
          "output_type": "stream",
          "text": [
            "Loading Flowers dataset\n",
            "Target Shape: (64, 64)\n",
            "Found 3670 images belonging to 5 classes.\n"
          ],
          "name": "stdout"
        },
        {
          "output_type": "stream",
          "text": [
            "Clipping input data to the valid range for imshow with RGB data ([0..1] for floats or [0..255] for integers).\n"
          ],
          "name": "stderr"
        },
        {
          "output_type": "stream",
          "text": [
            "scaling values to the range [-1, 1]\n",
            "images: (3670, 64, 64, 3)\n",
            "labels: (3670, 5)\n",
            "Showing 1 image (discolored due to tanh scaling)\n",
            "NUM_CLASSES = 5\n"
          ],
          "name": "stdout"
        },
        {
          "output_type": "display_data",
          "data": {
            "image/png": "[encoded data removed]",
            "text/plain": [
              "<Figure size 432x288 with 1 Axes>"
            ]
          },
          "metadata": {
            "tags": [],
            "needs_background": "light"
          }
        }
      ]
    },
    {
      "cell_type": "markdown",
      "metadata": {
        "id": "pK6TJGN324c2"
      },
      "source": [
        "### Validation Set Testing\n",
        "Change if you want to withhold some data for use as a validation set\n",
        "(only recommended for testing overfitting)\n",
        "\n",
        "Default is validation flag = False\n",
        "\n",
        "**Warning: only execute this code once or you will repeatedly reduce the dataset size**"
      ]
    },
    {
      "cell_type": "code",
      "metadata": {
        "id": "ooOhcbpd3FYp"
      },
      "source": [
        "VALIDATION_SET = True"
      ],
      "execution_count": 91,
      "outputs": []
    },
    {
      "cell_type": "code",
      "metadata": {
        "id": "CdMpCHkt3Fkz"
      },
      "source": [
        "VALIDATION_SET = False"
      ],
      "execution_count": null,
      "outputs": []
    },
    {
      "cell_type": "code",
      "metadata": {
        "colab": {
          "base_uri": "https://localhost:8080/"
        },
        "id": "834Se0iC3Fr4",
        "outputId": "6514edc2-3827-4898-9241-1f89fa29f602"
      },
      "source": [
        "if VALIDATION_SET:\n",
        "    # segment out 10% of the data and rename it\n",
        "    images, labels = dataset\n",
        "    image_count = len(images) # len of labels\n",
        "    print(\"Found\", image_count, \"images in the dataset\")\n",
        "    val_count = image_count // 10 # 10% of the images are saved for validation set\n",
        "    print(\"Removing\", val_count, \"images for validation set \")\n",
        "\n",
        "    val_images = images[:val_count]\n",
        "    val_labels = labels[:val_count]\n",
        "    print(\"val_images.shape:\", val_images.shape)\n",
        "\n",
        "    images = images[val_count:]\n",
        "    labels = labels[val_count:]\n",
        "    print(\"images.shape:\", images.shape)\n",
        "\n",
        "    dataset = [images, labels]"
      ],
      "execution_count": 92,
      "outputs": [
        {
          "output_type": "stream",
          "text": [
            "Found 3670 images in the dataset\n",
            "Removing 367 images for validation set \n",
            "val_images.shape: (367, 64, 64, 3)\n",
            "images.shape: (3303, 64, 64, 3)\n"
          ],
          "name": "stdout"
        }
      ]
    },
    {
      "cell_type": "code",
      "metadata": {
        "id": "pop56vfK8JG3"
      },
      "source": [
        "# check that validation set is correct 10% of the dataset\n",
        "#val_count = len(val_images)\n",
        "#train_count = len(dataset[0])\n",
        "#total_count = val_count + train_count\n",
        "#\n",
        "#expected_val_count = total_count // 10\n",
        "#if expected_val_count != val_count:\n",
        "#    NUM_CLASSES = -1 # essentially raise an error\n",
        "#    print(\"ERROR MISMATCH IN VALIDATION SET SIZE\")\n",
        "#\n",
        "#else:\n",
        "#    print(\"Validation set size correct!\\nGood luck with your experiment!\")"
      ],
      "execution_count": null,
      "outputs": []
    },
    {
      "cell_type": "markdown",
      "metadata": {
        "id": "_YLTxDpUWCeN"
      },
      "source": [
        "### Show some images from each class"
      ]
    },
    {
      "cell_type": "code",
      "metadata": {
        "id": "xr-nw4g2ZnGV"
      },
      "source": [
        "def show_dataset(dataset, num_classes=10, images_per_class=10):\n",
        "    '''\n",
        "    given the number of classes and images to show per class,\n",
        "    show that many images, in a row, per class\n",
        "    pass images to show_samples() w n_rows = num_classes and n_cols = images_per_class\n",
        "    '''\n",
        "    print(\"Showing some images from the dataset\\nNUM_CLASSES =\", num_classes)\n",
        "    images_found_count = 0\n",
        "    current_label = 0\n",
        "\n",
        "    # find images_per_class number of images per class and append them to a list\n",
        "    sorted_images = []\n",
        "    images, labels = dataset\n",
        "    # find images per class\n",
        "    while current_label < num_classes:\n",
        "        #print(\"Finding\", images_per_class, \"images of class\", current_label)\n",
        "        i = 0\n",
        "        # find 10 images in this class\n",
        "        while images_found_count < images_per_class:\n",
        "            if labels[i] == current_label:\n",
        "                sorted_images.append(images[i])\n",
        "                images_found_count += 1\n",
        "            i += 1\n",
        "        images_found_count = 0\n",
        "        current_label += 1\n",
        "\n",
        "    # sort and convert to int\n",
        "    sorted_images = np.asarray(sorted_images)\n",
        "    sorted_images = ((sorted_images + 1)/2.0*255).astype(int) \n",
        "\n",
        "    # plot the result\n",
        "    f, axs = plt.subplots(num_classes, images_per_class, figsize=(16,16))\n",
        "    plt.subplots_adjust(hspace=-0.85, wspace=0.07)\n",
        "    # plot images\n",
        "    for i in range(num_classes*images_per_class):\n",
        "       axs[i//images_per_class, i%images_per_class].imshow(sorted_images[i])\n",
        "       axs[i//images_per_class, i%images_per_class].axis(\"off\")"
      ],
      "execution_count": 93,
      "outputs": []
    },
    {
      "cell_type": "code",
      "metadata": {
        "colab": {
          "base_uri": "https://localhost:8080/",
          "height": 317
        },
        "id": "S_TbgO3twusC",
        "outputId": "a4a2a108-4799-499d-882b-21def30d31fc"
      },
      "source": [
        "show_dataset(dataset, num_classes=NUM_CLASSES, images_per_class=20)"
      ],
      "execution_count": 94,
      "outputs": [
        {
          "output_type": "stream",
          "text": [
            "Showing some images from the dataset\n",
            "NUM_CLASSES = 5\n"
          ],
          "name": "stdout"
        },
        {
          "output_type": "error",
          "ename": "ValueError",
          "evalue": "ignored",
          "traceback": [
            "\u001b[0;31m---------------------------------------------------------------------------\u001b[0m",
            "\u001b[0;31mValueError\u001b[0m                                Traceback (most recent call last)",
            "\u001b[0;32m<ipython-input-94-5598287a8d48>\u001b[0m in \u001b[0;36m<module>\u001b[0;34m()\u001b[0m\n\u001b[0;32m----> 1\u001b[0;31m \u001b[0mshow_dataset\u001b[0m\u001b[0;34m(\u001b[0m\u001b[0mdataset\u001b[0m\u001b[0;34m,\u001b[0m \u001b[0mnum_classes\u001b[0m\u001b[0;34m=\u001b[0m\u001b[0mNUM_CLASSES\u001b[0m\u001b[0;34m,\u001b[0m \u001b[0mimages_per_class\u001b[0m\u001b[0;34m=\u001b[0m\u001b[0;36m20\u001b[0m\u001b[0;34m)\u001b[0m\u001b[0;34m\u001b[0m\u001b[0;34m\u001b[0m\u001b[0m\n\u001b[0m",
            "\u001b[0;32m<ipython-input-93-9eb49f3edf43>\u001b[0m in \u001b[0;36mshow_dataset\u001b[0;34m(dataset, num_classes, images_per_class)\u001b[0m\n\u001b[1;32m     18\u001b[0m         \u001b[0;31m# find 10 images in this class\u001b[0m\u001b[0;34m\u001b[0m\u001b[0;34m\u001b[0m\u001b[0;34m\u001b[0m\u001b[0m\n\u001b[1;32m     19\u001b[0m         \u001b[0;32mwhile\u001b[0m \u001b[0mimages_found_count\u001b[0m \u001b[0;34m<\u001b[0m \u001b[0mimages_per_class\u001b[0m\u001b[0;34m:\u001b[0m\u001b[0;34m\u001b[0m\u001b[0;34m\u001b[0m\u001b[0m\n\u001b[0;32m---> 20\u001b[0;31m             \u001b[0;32mif\u001b[0m \u001b[0mlabels\u001b[0m\u001b[0;34m[\u001b[0m\u001b[0mi\u001b[0m\u001b[0;34m]\u001b[0m \u001b[0;34m==\u001b[0m \u001b[0mcurrent_label\u001b[0m\u001b[0;34m:\u001b[0m\u001b[0;34m\u001b[0m\u001b[0;34m\u001b[0m\u001b[0m\n\u001b[0m\u001b[1;32m     21\u001b[0m                 \u001b[0msorted_images\u001b[0m\u001b[0;34m.\u001b[0m\u001b[0mappend\u001b[0m\u001b[0;34m(\u001b[0m\u001b[0mimages\u001b[0m\u001b[0;34m[\u001b[0m\u001b[0mi\u001b[0m\u001b[0;34m]\u001b[0m\u001b[0;34m)\u001b[0m\u001b[0;34m\u001b[0m\u001b[0;34m\u001b[0m\u001b[0m\n\u001b[1;32m     22\u001b[0m                 \u001b[0mimages_found_count\u001b[0m \u001b[0;34m+=\u001b[0m \u001b[0;36m1\u001b[0m\u001b[0;34m\u001b[0m\u001b[0;34m\u001b[0m\u001b[0m\n",
            "\u001b[0;31mValueError\u001b[0m: The truth value of an array with more than one element is ambiguous. Use a.any() or a.all()"
          ]
        }
      ]
    },
    {
      "cell_type": "markdown",
      "metadata": {
        "id": "ZNQ1U09mdd36"
      },
      "source": [
        "## Discriminator Models"
      ]
    },
    {
      "cell_type": "code",
      "metadata": {
        "id": "v7m2WCMVrIfs"
      },
      "source": [
        "# AC-GAN discriminator\n",
        "def define_discriminator_ACGAN(in_shape=(64,64,3), n_classes=10, lr=0.0002, beta_1=0.5, beta_2=0.999):\n",
        "    # random kernel initial weights\n",
        "    init = RandomNormal(stddev=0.02)\n",
        "    # real/fake image input\n",
        "    img_input = Input(shape=in_shape)\n",
        "\n",
        "    # normal + downsample alternate to 8x8\n",
        "\n",
        "    # norm @ 64x64\n",
        "    fe = Conv2D(64, (3,3), padding='same', kernel_initializer=init)(img_input)\n",
        "    fe = BatchNormalization()(fe)\n",
        "    fe = LeakyReLU(alpha=0.2)(fe)\n",
        "    fe = Dropout(0.5)(fe)\n",
        "    # downsample @ 64x64 -> 32x32\n",
        "    fe = Conv2D(128, (3,3), strides=(2,2), padding='same', kernel_initializer=init)(fe)\n",
        "    fe = BatchNormalization()(fe)\n",
        "    fe = LeakyReLU(alpha=0.2)(fe)\n",
        "    fe = Dropout(0.5)(fe)\n",
        "\n",
        "    # norm @ 32x32\n",
        "    fe = Conv2D(128, (3,3), padding='same', kernel_initializer=init)(fe)\n",
        "    fe = BatchNormalization()(fe)\n",
        "    fe = LeakyReLU(alpha=0.2)(fe)\n",
        "    fe = Dropout(0.5)(fe)\n",
        "    # downsample @ 32x32 -> 16x16\n",
        "    fe = Conv2D(128, (3,3), strides=(2,2), padding='same', kernel_initializer=init)(fe)\n",
        "    fe = BatchNormalization()(fe)\n",
        "    fe = LeakyReLU(alpha=0.2)(fe)\n",
        "    fe = Dropout(0.5)(fe)\n",
        "\n",
        "    # norm @ 16x16\n",
        "    fe = Conv2D(128, (3,3), padding='same', kernel_initializer=init)(fe)\n",
        "    fe = BatchNormalization()(fe)\n",
        "    fe = LeakyReLU(alpha=0.2)(fe)\n",
        "    fe = Dropout(0.5)(fe)\n",
        "    # downsample @ 16x16 -> 8x8\n",
        "    fe = Conv2D(256, (3,3), strides=(2,2), padding='same', kernel_initializer=init)(fe)\n",
        "    fe = BatchNormalization()(fe)\n",
        "    fe = LeakyReLU(alpha=0.2)(fe)\n",
        "    fe = Dropout(0.5)(fe)\n",
        "\n",
        "    fe = Flatten()(fe)\n",
        "\n",
        "    # outputs\n",
        "    # real/fake output\n",
        "    real_fake_output = Dense(1, activation='sigmoid')(fe)\n",
        "    # class label output\n",
        "    class_label_output = Dense(n_classes, activation='softmax')(fe)\n",
        "\n",
        "    # define model\n",
        "    model = Model(img_input, [real_fake_output, class_label_output], name='AC_GAN_Discriminator_v2_BN_and_Dropout')\n",
        "    # compile model\n",
        "    opt = Adam(lr=lr, beta_1=beta_1, beta_2=beta_2)\n",
        "    model.compile(loss=['binary_crossentropy', 'sparse_categorical_crossentropy'], optimizer=opt)\n",
        "    return model\n"
      ],
      "execution_count": null,
      "outputs": []
    },
    {
      "cell_type": "code",
      "metadata": {
        "id": "WTmBSX3QQPXN"
      },
      "source": [
        "def define_discriminator_ACGAN(in_shape=(64,64,3), n_classes=10, lr=0.0002, beta_1=0.5, beta_2=0.999):\n",
        "    # random kernel initial weights\n",
        "    init = RandomNormal(stddev=0.02)\n",
        "    # real/fake image input\n",
        "    img_input = Input(shape=in_shape)\n",
        "\n",
        "    # downsample @ 64x64 -> 32x32\n",
        "    fe = Conv2D(128, (3,3), strides=(2,2), padding='same', kernel_initializer=init)(img_input)\n",
        "    fe = LeakyReLU(alpha=0.2)(fe)\n",
        "\n",
        "    # downsample @ 32x32 -> 16x16\n",
        "    fe = Conv2D(128, (3,3), strides=(2,2), padding='same', kernel_initializer=init)(fe)\n",
        "    fe = LeakyReLU(alpha=0.2)(fe)\n",
        "\n",
        "    # downsample @ 16x16 -> 8x8\n",
        "    fe = Conv2D(256, (3,3), strides=(2,2), padding='same', kernel_initializer=init)(fe)\n",
        "    fe = LeakyReLU(alpha=0.2)(fe)\n",
        "\n",
        "    fe = Flatten()(fe)\n",
        "\n",
        "    # outputs\n",
        "    # real/fake output\n",
        "    real_fake_output = Dense(1, activation='sigmoid')(fe)\n",
        "    # class label output\n",
        "    class_label_output = Dense(n_classes, activation='softmax')(fe)\n",
        "\n",
        "    # define model\n",
        "    model = Model(img_input, [real_fake_output, class_label_output], name='AC_GAN_Discriminator_v0_wo_normal_before_downsample')\n",
        "    # compile model\n",
        "    opt = Adam(learning_rate=lr, beta_1=beta_1, beta_2=beta_2)\n",
        "    model.compile(loss=['binary_crossentropy', 'sparse_categorical_crossentropy'], optimizer=opt)\n",
        "    return model\n"
      ],
      "execution_count": null,
      "outputs": []
    },
    {
      "cell_type": "code",
      "metadata": {
        "id": "EQTJmeikYnLM"
      },
      "source": [
        "# OHE\n",
        "def define_discriminator_ACGAN(in_shape=(64,64,3), n_classes=10, lr=0.0002, beta_1=0.5, beta_2=0.999):\n",
        "    # random kernel initial weights\n",
        "    init = RandomNormal(stddev=0.02)\n",
        "    # real/fake image input\n",
        "    img_input = Input(shape=in_shape)\n",
        "\n",
        "    # norm @ 64x64\n",
        "    fe = Conv2D(64, (3,3), padding='same', kernel_initializer=init)(img_input)\n",
        "    fe = LeakyReLU(alpha=0.2)(fe)\n",
        "    # downsample @ 64x64 -> 32x32\n",
        "    fe = Conv2D(128, (3,3), strides=(2,2), padding='same', kernel_initializer=init)(fe)\n",
        "    fe = LeakyReLU(alpha=0.2)(fe)\n",
        "\n",
        "    # norm @ 32x32\n",
        "    fe = Conv2D(128, (3,3), padding='same', kernel_initializer=init)(fe)\n",
        "    fe = LeakyReLU(alpha=0.2)(fe)\n",
        "    # downsample @ 32x32 -> 16x16\n",
        "    fe = Conv2D(128, (3,3), strides=(2,2), padding='same', kernel_initializer=init)(fe)\n",
        "    fe = LeakyReLU(alpha=0.2)(fe)\n",
        "\n",
        "    # norm @ 16x16\n",
        "    fe = Conv2D(128, (3,3), padding='same', kernel_initializer=init)(fe)\n",
        "    fe = LeakyReLU(alpha=0.2)(fe)\n",
        "    # downsample @ 16x16 -> 8x8\n",
        "    fe = Conv2D(256, (3,3), strides=(2,2), padding='same', kernel_initializer=init)(fe)\n",
        "    fe = LeakyReLU(alpha=0.2)(fe)\n",
        "\n",
        "    # norm @ 8x8\n",
        "    fe = Conv2D(256, (3,3), padding='same', kernel_initializer=init)(fe)\n",
        "    fe = LeakyReLU(alpha=0.2)(fe)\n",
        "    # downsample @ 8x8 -> 4x4\n",
        "    fe = Conv2D(256, (3,3), strides=(2,2), padding='same', kernel_initializer=init)(fe)\n",
        "    fe = LeakyReLU(alpha=0.2)(fe)\n",
        "    fe = Dropout(0.5)(fe)\n",
        "\n",
        "    fe = Flatten()(fe)\n",
        "\n",
        "    # outputs\n",
        "    # real/fake output\n",
        "    real_fake_output = Dense(1, activation='sigmoid')(fe)\n",
        "    # class label output\n",
        "    class_label_output = Dense(n_classes, activation='softmax')(fe)\n",
        "\n",
        "    # define model\n",
        "    model = Model(img_input, [real_fake_output, class_label_output], name='AC_GAN_Discriminator_OHE_v1_downsample_to_4x4')\n",
        "    # compile model\n",
        "    opt = Adam(learning_rate=lr, beta_1=beta_1, beta_2=beta_2)\n",
        "    model.compile(loss=['binary_crossentropy', 'categorical_crossentropy'], optimizer=opt)\n",
        "    return model"
      ],
      "execution_count": 113,
      "outputs": []
    },
    {
      "cell_type": "markdown",
      "metadata": {
        "id": "vEN0jAbCqwAG"
      },
      "source": [
        "### Spectral Normalization"
      ]
    },
    {
      "cell_type": "code",
      "metadata": {
        "colab": {
          "base_uri": "https://localhost:8080/"
        },
        "id": "dAOlplslq0r3",
        "outputId": "75c8bc9b-7af1-46db-aca9-b1e796186f7a"
      },
      "source": [
        "!pip install tensorflow_addons"
      ],
      "execution_count": null,
      "outputs": [
        {
          "output_type": "stream",
          "text": [
            "Collecting tensorflow_addons\n",
            "\u001b[?25l  Downloading https://files.pythonhosted.org/packages/66/4b/e893d194e626c24b3df2253066aa418f46a432fdb68250cde14bf9bb0700/tensorflow_addons-0.13.0-cp37-cp37m-manylinux2010_x86_64.whl (679kB)\n",
            "\u001b[K     |████████████████████████████████| 686kB 4.1MB/s \n",
            "\u001b[?25hRequirement already satisfied: typeguard>=2.7 in /usr/local/lib/python3.7/dist-packages (from tensorflow_addons) (2.7.1)\n",
            "Installing collected packages: tensorflow-addons\n",
            "Successfully installed tensorflow-addons-0.13.0\n"
          ],
          "name": "stdout"
        }
      ]
    },
    {
      "cell_type": "code",
      "metadata": {
        "id": "-JEd9iO7q09N"
      },
      "source": [
        "# use TFA spectral norm\n",
        "import tensorflow_addons as tfa\n",
        "from tensorflow_addons.layers import SpectralNormalization"
      ],
      "execution_count": null,
      "outputs": []
    },
    {
      "cell_type": "code",
      "metadata": {
        "id": "zMgzy36Qq1JF"
      },
      "source": [
        "# SN example\n",
        "# working up from just conv - using spectral normalization\n",
        "def define_discriminator_SNGAN(in_shape=(64,64,3), lr=0.0002, beta_1=0.5, beta_2=0.999):\n",
        "\t# weight initialization\n",
        "\tinit = RandomNormal(stddev=0.02)\n",
        "\t# image input\n",
        "\tin_image = Input(shape=in_shape)\n",
        "\t# downsample to 32x32\n",
        "\tfe = SpectralNormalization(Conv2D(64, (3,3), strides=(2,2), padding='same', kernel_initializer=init))(in_image)\n",
        "\tfe = LeakyReLU(alpha=0.2)(fe)\n",
        "\t# downsample to 16x16\n",
        "\tfe = SpectralNormalization(Conv2D(128, (3,3), strides=(2,2), padding='same', kernel_initializer=init))(fe)\n",
        "\tfe = LeakyReLU(alpha=0.2)(fe)\n",
        "\t# downsample to 8x8\n",
        "\tfe = SpectralNormalization(Conv2D(256, (3,3), strides=(2,2), padding='same', kernel_initializer=init))(fe)\n",
        "\tfe = LeakyReLU(alpha=0.2)(fe)\n",
        "\t# flatten feature maps\n",
        "\tfe = Flatten()(fe)\n",
        "\t# real/fake output\n",
        "\tout1 = Dense(1, activation='sigmoid')(fe)\n",
        "\t# define model\n",
        "\tmodel = Model(in_image, out1, name='SN-Discriminator_3x3_kernel')\n",
        "\t# compile model\n",
        "\topt = Adam(lr=lr, beta_1=beta_1, beta_2=beta_2)\n",
        "\tmodel.compile(loss='binary_crossentropy', optimizer=opt)\n",
        "\treturn model"
      ],
      "execution_count": null,
      "outputs": []
    },
    {
      "cell_type": "code",
      "metadata": {
        "id": "vB4hGTcwX6qE"
      },
      "source": [
        "# AC-GAN discriminator - no BN and Dropout\n",
        "def define_discriminator_SN_ACGAN(in_shape=(64,64,3), n_classes=10, lr=0.0002, beta_1=0.5, beta_2=0.999):\n",
        "    # random kernel initial weights\n",
        "    init = RandomNormal(stddev=0.02)\n",
        "    # real/fake image input\n",
        "    img_input = Input(shape=in_shape)\n",
        "\n",
        "    # normal + downsample alternate to 8x8\n",
        "\n",
        "    # norm @ 64x64\n",
        "    fe = Conv2D(64, (3,3), padding='same', kernel_initializer=init)(img_input)\n",
        "    fe = LeakyReLU(alpha=0.2)(fe)\n",
        "    # downsample @ 64x64 -> 32x32\n",
        "    fe = SpectralNormalization(Conv2D(128, (3,3), strides=(2,2), padding='same', kernel_initializer=init))(fe)\n",
        "    fe = LeakyReLU(alpha=0.2)(fe)\n",
        "\n",
        "    # norm @ 32x32\n",
        "    fe = SpectralNormalization(Conv2D(128, (3,3), padding='same', kernel_initializer=init))(fe)\n",
        "    fe = LeakyReLU(alpha=0.2)(fe)\n",
        "    # downsample @ 32x32 -> 16x16\n",
        "    fe = SpectralNormalization(Conv2D(128, (3,3), strides=(2,2), padding='same', kernel_initializer=init))(fe)\n",
        "    fe = LeakyReLU(alpha=0.2)(fe)\n",
        "\n",
        "    # norm @ 16x16\n",
        "    fe = SpectralNormalization(Conv2D(128, (3,3), padding='same', kernel_initializer=init))(fe)\n",
        "    fe = LeakyReLU(alpha=0.2)(fe)\n",
        "    # downsample @ 16x16 -> 8x8\n",
        "    fe = SpectralNormalization(Conv2D(256, (3,3), strides=(2,2), padding='same', kernel_initializer=init))(fe)\n",
        "    fe = LeakyReLU(alpha=0.2)(fe)\n",
        "\n",
        "    fe = Dropout(0.5)(fe)\n",
        "    fe = Flatten()(fe)\n",
        "\n",
        "    # outputs\n",
        "    # real/fake output\n",
        "    real_fake_output = Dense(1, activation='sigmoid')(fe)\n",
        "    # class label output\n",
        "    class_label_output = Dense(n_classes, activation='softmax')(fe)\n",
        "\n",
        "    # define model\n",
        "    model = Model(img_input, [real_fake_output, class_label_output], name='AC_GAN_Discriminator_v2_no_SN_on_input')\n",
        "    # compile model\n",
        "    opt = Adam(learning_rate=lr, beta_1=beta_1, beta_2=beta_2)\n",
        "    model.compile(loss=['binary_crossentropy', 'sparse_categorical_crossentropy'], optimizer=opt)\n",
        "    return model"
      ],
      "execution_count": null,
      "outputs": []
    },
    {
      "cell_type": "markdown",
      "metadata": {
        "id": "HjkQln4adeDK"
      },
      "source": [
        "## Generator Models"
      ]
    },
    {
      "cell_type": "code",
      "metadata": {
        "id": "xwb9HWaS11Nq"
      },
      "source": [
        "def define_generator_ACGAN(latent_dim, n_classes=10):\n",
        "    # weight initialization\n",
        "    init = RandomNormal(stddev=0.02)\n",
        "\n",
        "    # label input\n",
        "    in_label = Input(shape=(1,))\n",
        "    # embedding for categorical input\n",
        "    li = Embedding(n_classes, 50)(in_label)\n",
        "    # linear multiplication\n",
        "    n_nodes = 8*8*1\n",
        "    li = Dense(n_nodes, kernel_initializer=init)(li)\n",
        "    # reshape to additional channel\n",
        "    li = Reshape((8, 8, 1))(li)\n",
        "\n",
        "    # image generator input\n",
        "    in_lat = Input(shape=(latent_dim,))\n",
        "    # foundation for 8x8 image\n",
        "    n_nodes = 8*8*255\n",
        "    gen = Dense(n_nodes, kernel_initializer=init)(in_lat)\n",
        "    gen = LeakyReLU(alpha=0.2)(gen)\n",
        "    gen = Reshape((8, 8, 255))(gen)\n",
        "\n",
        "    # combine the 2 inputs\n",
        "    merge = Concatenate()([gen, li])\n",
        "\n",
        "    # upsample to 16x16\n",
        "    gen = Conv2DTranspose(128, (4,4), strides=(2,2), padding='same', kernel_initializer=init)(merge)\n",
        "    gen = LeakyReLU(alpha=0.2)(gen)\n",
        "\n",
        "    # upsample to 32x32\n",
        "    gen = Conv2DTranspose(128, (4,4), strides=(2,2), padding='same', kernel_initializer=init)(gen)\n",
        "    gen = LeakyReLU(alpha=0.2)(gen)\n",
        "\n",
        "    # upsample to 64x64\n",
        "    gen = Conv2DTranspose(128, (4,4), strides=(2,2), padding='same', kernel_initializer=init)(gen)\n",
        "    gen = LeakyReLU(alpha=0.2)(gen)\n",
        "\n",
        "    # output layer\n",
        "    out_layer = Conv2D(3, (3,3), activation='tanh', padding='same')(gen)\n",
        "    # define model\n",
        "    model = Model([in_lat, in_label], out_layer, name='AC_GAN_Generator_v2_1_ch_label')\n",
        "    return model"
      ],
      "execution_count": null,
      "outputs": []
    },
    {
      "cell_type": "code",
      "metadata": {
        "id": "SgZv2AmBXq2t"
      },
      "source": [
        "# OHE\n",
        "def define_generator_ACGAN(latent_dim, n_classes=10):\n",
        "    # weight initialization\n",
        "    init = RandomNormal(stddev=0.02)\n",
        "\n",
        "    # label input\n",
        "    in_label = Input(shape=(n_classes,))\n",
        "    # embedding for categorical input\n",
        "    n_nodes = 4*4*4\n",
        "    li = Dense(n_nodes, kernel_initializer=init)(in_label)\n",
        "    # reshape to additional channel\n",
        "    li = Reshape((4, 4, 4))(li) # kept number of n_nodes @ 64; this is going to have to be more for EEG latent vector of length 100\n",
        "\n",
        "    # image generator input\n",
        "    in_lat = Input(shape=(latent_dim,))\n",
        "    # foundation for 8x8 image\n",
        "    n_nodes = 4*4*252 \n",
        "    gen = Dense(n_nodes, kernel_initializer=init)(in_lat)\n",
        "    gen = LeakyReLU(alpha=0.2)(gen)\n",
        "    gen = Reshape((4, 4, 252))(gen) # wanted to keep it @ total channels = 256\n",
        "\n",
        "    # combine the 2 inputs\n",
        "    merge = Concatenate()([gen, li])\n",
        "\n",
        "    # upsample to 8x8\n",
        "    gen = Conv2DTranspose(128, (4,4), strides=(2,2), padding='same', kernel_initializer=init)(merge)\n",
        "    gen = LeakyReLU(alpha=0.2)(gen)\n",
        "\n",
        "    # upsample to 16x16\n",
        "    gen = Conv2DTranspose(128, (4,4), strides=(2,2), padding='same', kernel_initializer=init)(gen)\n",
        "    gen = LeakyReLU(alpha=0.2)(gen)\n",
        "\n",
        "    # upsample to 32x32\n",
        "    gen = Conv2DTranspose(128, (4,4), strides=(2,2), padding='same', kernel_initializer=init)(gen)\n",
        "    gen = LeakyReLU(alpha=0.2)(gen)\n",
        "\n",
        "    # upsample to 64x64\n",
        "    gen = Conv2DTranspose(128, (4,4), strides=(2,2), padding='same', kernel_initializer=init)(gen)\n",
        "    gen = LeakyReLU(alpha=0.2)(gen)\n",
        "\n",
        "    # output layer\n",
        "    out_layer = Conv2D(3, (3,3), activation='tanh', padding='same')(gen)\n",
        "    # define model\n",
        "    model = Model([in_lat, in_label], out_layer, name='AC_GAN_Generator_OHE_v1_upsample_from_4x4')\n",
        "    return model"
      ],
      "execution_count": 96,
      "outputs": []
    },
    {
      "cell_type": "markdown",
      "metadata": {
        "id": "ZSLFm9lgdeNs"
      },
      "source": [
        "## Helper Functions"
      ]
    },
    {
      "cell_type": "markdown",
      "metadata": {
        "id": "-muq3ZVRfM4S"
      },
      "source": [
        "### Inception Score"
      ]
    },
    {
      "cell_type": "code",
      "metadata": {
        "id": "w2hfqghnfO0y"
      },
      "source": [
        "# inception score\n",
        "# helper function called during training to return inception score\n",
        "# calculate inception score for cifar-10 in Keras\n",
        "from math import floor\n",
        "from numpy import ones\n",
        "from numpy import expand_dims\n",
        "from numpy import log\n",
        "from numpy import mean\n",
        "from numpy import std\n",
        "from numpy import exp\n",
        "from numpy.random import shuffle\n",
        "from keras.applications.inception_v3 import InceptionV3\n",
        "from keras.applications.inception_v3 import preprocess_input\n",
        "from keras.datasets import cifar10\n",
        "from skimage.transform import resize\n",
        "from numpy import asarray\n",
        "\n",
        "# scale an array of images to a new size\n",
        "def scale_images(images, new_shape):\n",
        "\timages_list = list()\n",
        "\tfor image in images:\n",
        "\t\t# resize with nearest neighbor interpolation\n",
        "\t\tnew_image = resize(image, new_shape, 0)\n",
        "\t\t# store\n",
        "\t\timages_list.append(new_image)\n",
        "\treturn asarray(images_list)\n",
        "\n",
        "# assumes images have any shape and pixels in [0,255]\n",
        "def calculate_inception_score(images, n_split=10, eps=1E-16):\n",
        "\t# load inception v3 model\n",
        "\tmodel = InceptionV3()\n",
        "\t# enumerate splits of images/predictions\n",
        "\tscores = list()\n",
        "\tn_part = floor(images.shape[0] / n_split)\n",
        "\tfor i in range(n_split):\n",
        "\t\t# retrieve images\n",
        "\t\tix_start, ix_end = i * n_part, (i+1) * n_part\n",
        "\t\tsubset = images[ix_start:ix_end]\n",
        "\t\t# convert from uint8 to float32\n",
        "\t\tsubset = subset.astype('float32')\n",
        "\t\t# scale images to the required size\n",
        "\t\tsubset = scale_images(subset, (299,299,3))\n",
        "\t\t# pre-process images, scale to [-1,1]\n",
        "\t\tsubset = preprocess_input(subset)\n",
        "\t\t# predict p(y|x)\n",
        "\t\tp_yx = model.predict(subset)\n",
        "\t\t# calculate p(y)\n",
        "\t\tp_y = expand_dims(p_yx.mean(axis=0), 0)\n",
        "\t\t# calculate KL divergence using log probabilities\n",
        "\t\tkl_d = p_yx * (log(p_yx + eps) - log(p_y + eps))\n",
        "\t\t# sum over classes\n",
        "\t\tsum_kl_d = kl_d.sum(axis=1)\n",
        "\t\t# average over images\n",
        "\t\tavg_kl_d = mean(sum_kl_d)\n",
        "\t\t# undo the log\n",
        "\t\tis_score = exp(avg_kl_d)\n",
        "\t\t# store\n",
        "\t\tscores.append(is_score)\n",
        "\t# average across images\n",
        "\tis_avg, is_std = mean(scores), std(scores)\n",
        "\treturn is_avg, is_std\n",
        "\n",
        "def get_inception_score(generator):\n",
        "    # generate 10,000 images to run inception score on\n",
        "    [images, _], _ = generate_fake_samples(generator, latent_dim, 1000)\n",
        "\n",
        "    images = (images + 1) / 2.0\n",
        "    images = images * 255\n",
        "\n",
        "    is_avg, is_std = calculate_inception_score(images)\n",
        "    print('IS score (avg, std)', is_avg, is_std)\n",
        "    return is_avg, is_std"
      ],
      "execution_count": 97,
      "outputs": []
    },
    {
      "cell_type": "markdown",
      "metadata": {
        "id": "Hq7UdAynfQQI"
      },
      "source": [
        "### FID"
      ]
    },
    {
      "cell_type": "code",
      "metadata": {
        "id": "R8eauiaFfTTM",
        "colab": {
          "base_uri": "https://localhost:8080/"
        },
        "outputId": "b3029be2-8101-4732-8034-f2d5e84b4ea6"
      },
      "source": [
        "# FID\n",
        "# example of calculating the frechet inception distance in Keras\n",
        "import numpy\n",
        "from numpy import cov\n",
        "from numpy import trace\n",
        "from numpy import iscomplexobj\n",
        "from numpy import asarray\n",
        "from numpy.random import randint\n",
        "from scipy.linalg import sqrtm\n",
        "from tensorflow.keras.applications.inception_v3 import InceptionV3\n",
        "from tensorflow.keras.applications.inception_v3 import preprocess_input\n",
        "from tensorflow.keras.datasets.mnist import load_data\n",
        "from skimage.transform import resize\n",
        "\n",
        "# prepare the inception v3 model\n",
        "fid_model = InceptionV3(include_top=False, pooling='avg', input_shape=(299,299,3))\n",
        "\n",
        "# scale an array of images to a new size\n",
        "def scale_images(images, new_shape):\n",
        "    images_list = list()\n",
        "    for image in images:\n",
        "        # resize with bicubic interpolation\n",
        "        new_image = resize(image, new_shape, 3) # switched from 0 (nearest neighbor) to 3 (bicubic)\n",
        "        # store\n",
        "        images_list.append(new_image)\n",
        "    return asarray(images_list)\n",
        " \n",
        "# calculate frechet inception distance\n",
        "def _calculate_fid(model, images1, images2):\n",
        "    # calculate activations\n",
        "    act1 = model.predict(images1)\n",
        "    act2 = model.predict(images2)\n",
        "    # calculate mean and covariance statistics\n",
        "    mu1, sigma1 = act1.mean(axis=0), cov(act1, rowvar=False)\n",
        "    mu2, sigma2 = act2.mean(axis=0), cov(act2, rowvar=False)\n",
        "    # calculate sum squared difference between means\n",
        "    ssdiff = numpy.sum((mu1 - mu2)**2.0)\n",
        "    # calculate sqrt of product between cov\n",
        "    covmean = sqrtm(sigma1.dot(sigma2))\n",
        "    # check and correct imaginary numbers from sqrt\n",
        "    if iscomplexobj(covmean):\n",
        "        covmean = covmean.real\n",
        "    # calculate score\n",
        "    fid = ssdiff + trace(sigma1 + sigma2 - 2.0 * covmean)\n",
        "    return fid\n",
        "\n",
        "def calculate_fid(real_images, fake_images):\n",
        "    r = real_images.astype(\"float32\")\n",
        "    r = scale_images(r, (299,299,3))\n",
        "    r = preprocess_input(r)\n",
        "\n",
        "    f = fake_images.astype(\"float32\")\n",
        "    f = scale_images(f, (299,299,3))\n",
        "    f = preprocess_input(f)\n",
        "    \n",
        "    fid = _calculate_fid(fid_model, r, f)\n",
        "    return fid"
      ],
      "execution_count": 98,
      "outputs": [
        {
          "output_type": "stream",
          "text": [
            "Downloading data from https://storage.googleapis.com/tensorflow/keras-applications/inception_v3/inception_v3_weights_tf_dim_ordering_tf_kernels_notop.h5\n",
            "87916544/87910968 [==============================] - 0s 0us/step\n"
          ],
          "name": "stdout"
        }
      ]
    },
    {
      "cell_type": "code",
      "metadata": {
        "id": "OY34gZhLfUnC"
      },
      "source": [
        "def get_fid(generator, latent_dim=100, test_image_count = 1000):\n",
        "    [fake_samples, _], _ = generate_fake_samples(generator, latent_dim, test_image_count) \n",
        "    # need to handle for if test_image_count > dataset\n",
        "    if dataset[0].shape[0] < test_image_count:\n",
        "        test_image_count = dataset[0].shape[0]\n",
        "    [real_samples, _], _ = generate_real_samples(dataset, test_image_count)  \n",
        "\n",
        "    real_samples = ((real_samples + 1)/2.0*255).astype(int) \n",
        "    fake_samples = ((fake_samples + 1)/2.0*255).astype(int)  \n",
        "\n",
        "    fid = calculate_fid(real_images=real_samples, fake_images=fake_samples)\n",
        "\n",
        "    print(\"FID:\", fid)\n",
        "    return fid"
      ],
      "execution_count": 99,
      "outputs": []
    },
    {
      "cell_type": "markdown",
      "metadata": {
        "id": "6wsUoqcmdeY_"
      },
      "source": [
        "### Train Model Helper Functions"
      ]
    },
    {
      "cell_type": "code",
      "metadata": {
        "id": "xamV4PQNfdJH"
      },
      "source": [
        "# show a plot of generated images\n",
        "def save_plot(examples, n_examples, file_name, fig_size=10):\n",
        "    plt.figure(figsize=(fig_size, fig_size))\n",
        "    # plot images\n",
        "    for i in range(n_examples):\n",
        "        # define subplot\n",
        "        plt.subplot(sqrt(n_examples), sqrt(n_examples), 1 + i)\n",
        "        # turn off axis\n",
        "        plt.axis('off')\n",
        "        # plot raw pixel data\n",
        "        plt.imshow(examples[i])\n",
        "    plt.savefig(file_name+'.png')\n",
        "    plt.show()"
      ],
      "execution_count": 100,
      "outputs": []
    },
    {
      "cell_type": "code",
      "metadata": {
        "id": "gPVTf6Viin_a"
      },
      "source": [
        "def model_info(model, name):\n",
        "    model.summary()\n",
        "    plot_model(model, to_file=name+'.png', show_shapes=True, show_layer_names=True)"
      ],
      "execution_count": 101,
      "outputs": []
    },
    {
      "cell_type": "code",
      "metadata": {
        "id": "T5mJH5NFfdbL"
      },
      "source": [
        "# select real samples\n",
        "def generate_real_samples(dataset, n_samples):\n",
        "    # split into images and labels\n",
        "    images, labels = dataset\n",
        "    # choose random instances\n",
        "    #ix = randint(0, images.shape[0], n_samples)\n",
        "    # get permutations instead of random (could have duplicates)\n",
        "    ix = np.random.permutation(images.shape[0])[0:n_samples]\n",
        "    # select images and labels\n",
        "    X, labels = images[ix], labels[ix]\n",
        "    # generate class labels\n",
        "    y = ones((n_samples, 1))\n",
        "    return [X, labels], y\n",
        "\n",
        "# generate points in latent space as input for the generator\n",
        "def generate_latent_points(latent_dim, n_samples, n_classes=NUM_CLASSES):\n",
        "    # generate points in the latent space\n",
        "    x_input = randn(latent_dim * n_samples)\n",
        "    # reshape into a batch of inputs for the network\n",
        "    z_input = x_input.reshape(n_samples, latent_dim)\n",
        "    # generate labels\n",
        "    x = np.eye(n_classes) # identity matrix\n",
        "    labels = x[np.random.choice(n_classes, size=n_samples)] # take random choices from the identity matrix\n",
        "    labels = np.asarray(labels)\n",
        "\n",
        "    return [z_input, labels]"
      ],
      "execution_count": 102,
      "outputs": []
    },
    {
      "cell_type": "code",
      "metadata": {
        "id": "B_UYNGkMZCQ0"
      },
      "source": [
        "# OHE label code\n",
        "seed_labels = []\n",
        "IMAGES_PER_CLASS = 20 # save 20 images per class when generating seeded images\n",
        "for i in range(NUM_CLASSES):\n",
        "    seed_labels.append(np.repeat(i, IMAGES_PER_CLASS))\n",
        "seed_labels = np.asarray(seed_labels)\n",
        "seed_labels = seed_labels.flatten()\n",
        "\n",
        "# switch to OHE\n",
        "seed_labels = to_categorical(seed_labels)\n",
        "\n",
        "# seed for generating the images from the same latent space\n",
        "seed_latent, _ = generate_latent_points(100, IMAGES_PER_CLASS*NUM_CLASSES, NUM_CLASSES)"
      ],
      "execution_count": 104,
      "outputs": []
    },
    {
      "cell_type": "code",
      "metadata": {
        "colab": {
          "base_uri": "https://localhost:8080/"
        },
        "id": "TN3VAW_crDTe",
        "outputId": "d7de5c55-ef8e-4393-a720-5b5260232a63"
      },
      "source": [
        "print(seed_labels)"
      ],
      "execution_count": 105,
      "outputs": [
        {
          "output_type": "stream",
          "text": [
            "[[1. 0. 0. 0. 0.]\n",
            " [1. 0. 0. 0. 0.]\n",
            " [1. 0. 0. 0. 0.]\n",
            " [1. 0. 0. 0. 0.]\n",
            " [1. 0. 0. 0. 0.]\n",
            " [1. 0. 0. 0. 0.]\n",
            " [1. 0. 0. 0. 0.]\n",
            " [1. 0. 0. 0. 0.]\n",
            " [1. 0. 0. 0. 0.]\n",
            " [1. 0. 0. 0. 0.]\n",
            " [1. 0. 0. 0. 0.]\n",
            " [1. 0. 0. 0. 0.]\n",
            " [1. 0. 0. 0. 0.]\n",
            " [1. 0. 0. 0. 0.]\n",
            " [1. 0. 0. 0. 0.]\n",
            " [1. 0. 0. 0. 0.]\n",
            " [1. 0. 0. 0. 0.]\n",
            " [1. 0. 0. 0. 0.]\n",
            " [1. 0. 0. 0. 0.]\n",
            " [1. 0. 0. 0. 0.]\n",
            " [0. 1. 0. 0. 0.]\n",
            " [0. 1. 0. 0. 0.]\n",
            " [0. 1. 0. 0. 0.]\n",
            " [0. 1. 0. 0. 0.]\n",
            " [0. 1. 0. 0. 0.]\n",
            " [0. 1. 0. 0. 0.]\n",
            " [0. 1. 0. 0. 0.]\n",
            " [0. 1. 0. 0. 0.]\n",
            " [0. 1. 0. 0. 0.]\n",
            " [0. 1. 0. 0. 0.]\n",
            " [0. 1. 0. 0. 0.]\n",
            " [0. 1. 0. 0. 0.]\n",
            " [0. 1. 0. 0. 0.]\n",
            " [0. 1. 0. 0. 0.]\n",
            " [0. 1. 0. 0. 0.]\n",
            " [0. 1. 0. 0. 0.]\n",
            " [0. 1. 0. 0. 0.]\n",
            " [0. 1. 0. 0. 0.]\n",
            " [0. 1. 0. 0. 0.]\n",
            " [0. 1. 0. 0. 0.]\n",
            " [0. 0. 1. 0. 0.]\n",
            " [0. 0. 1. 0. 0.]\n",
            " [0. 0. 1. 0. 0.]\n",
            " [0. 0. 1. 0. 0.]\n",
            " [0. 0. 1. 0. 0.]\n",
            " [0. 0. 1. 0. 0.]\n",
            " [0. 0. 1. 0. 0.]\n",
            " [0. 0. 1. 0. 0.]\n",
            " [0. 0. 1. 0. 0.]\n",
            " [0. 0. 1. 0. 0.]\n",
            " [0. 0. 1. 0. 0.]\n",
            " [0. 0. 1. 0. 0.]\n",
            " [0. 0. 1. 0. 0.]\n",
            " [0. 0. 1. 0. 0.]\n",
            " [0. 0. 1. 0. 0.]\n",
            " [0. 0. 1. 0. 0.]\n",
            " [0. 0. 1. 0. 0.]\n",
            " [0. 0. 1. 0. 0.]\n",
            " [0. 0. 1. 0. 0.]\n",
            " [0. 0. 1. 0. 0.]\n",
            " [0. 0. 0. 1. 0.]\n",
            " [0. 0. 0. 1. 0.]\n",
            " [0. 0. 0. 1. 0.]\n",
            " [0. 0. 0. 1. 0.]\n",
            " [0. 0. 0. 1. 0.]\n",
            " [0. 0. 0. 1. 0.]\n",
            " [0. 0. 0. 1. 0.]\n",
            " [0. 0. 0. 1. 0.]\n",
            " [0. 0. 0. 1. 0.]\n",
            " [0. 0. 0. 1. 0.]\n",
            " [0. 0. 0. 1. 0.]\n",
            " [0. 0. 0. 1. 0.]\n",
            " [0. 0. 0. 1. 0.]\n",
            " [0. 0. 0. 1. 0.]\n",
            " [0. 0. 0. 1. 0.]\n",
            " [0. 0. 0. 1. 0.]\n",
            " [0. 0. 0. 1. 0.]\n",
            " [0. 0. 0. 1. 0.]\n",
            " [0. 0. 0. 1. 0.]\n",
            " [0. 0. 0. 1. 0.]\n",
            " [0. 0. 0. 0. 1.]\n",
            " [0. 0. 0. 0. 1.]\n",
            " [0. 0. 0. 0. 1.]\n",
            " [0. 0. 0. 0. 1.]\n",
            " [0. 0. 0. 0. 1.]\n",
            " [0. 0. 0. 0. 1.]\n",
            " [0. 0. 0. 0. 1.]\n",
            " [0. 0. 0. 0. 1.]\n",
            " [0. 0. 0. 0. 1.]\n",
            " [0. 0. 0. 0. 1.]\n",
            " [0. 0. 0. 0. 1.]\n",
            " [0. 0. 0. 0. 1.]\n",
            " [0. 0. 0. 0. 1.]\n",
            " [0. 0. 0. 0. 1.]\n",
            " [0. 0. 0. 0. 1.]\n",
            " [0. 0. 0. 0. 1.]\n",
            " [0. 0. 0. 0. 1.]\n",
            " [0. 0. 0. 0. 1.]\n",
            " [0. 0. 0. 0. 1.]\n",
            " [0. 0. 0. 0. 1.]]\n"
          ],
          "name": "stdout"
        }
      ]
    },
    {
      "cell_type": "code",
      "metadata": {
        "id": "CpyIBGTbrd8V"
      },
      "source": [
        "def show_prediction():\n",
        "    images = generator.predict([seed_latent, seed_labels])\n",
        "    images = ((images + 1)/2.0*255).astype(int) \n",
        "    images_per_class = 20\n",
        "    # plot the result\n",
        "    f, axs = plt.subplots(NUM_CLASSES, images_per_class, figsize=(16,16))\n",
        "    plt.subplots_adjust(hspace=-0.85, wspace=0.07)\n",
        "    # plot images\n",
        "    for i in range(NUM_CLASSES*images_per_class):\n",
        "        axs[i//images_per_class, i%images_per_class].imshow(images[i])\n",
        "        axs[i//images_per_class, i%images_per_class].axis(\"off\")"
      ],
      "execution_count": 106,
      "outputs": []
    },
    {
      "cell_type": "markdown",
      "metadata": {
        "id": "VnJHhiVZgcVW"
      },
      "source": [
        "### Label Smoothing + Noisy Labels\n",
        "- not updated for OHE"
      ]
    },
    {
      "cell_type": "code",
      "metadata": {
        "id": "WeB9RHyrgf31"
      },
      "source": [
        "# example of positive label smoothing\n",
        "# example of smoothing class=1 to [0.7, 1.2]\n",
        "def smooth_positive_labels(y):\n",
        "\treturn y - 0.3 + (random(y.shape) * 0.5)\n",
        " \n",
        "# example of smoothing class=0 to [0.0, 0.3]\n",
        "def smooth_negative_labels(y):\n",
        "\treturn y + random(y.shape) * 0.3"
      ],
      "execution_count": 107,
      "outputs": []
    },
    {
      "cell_type": "code",
      "metadata": {
        "id": "T5D5LlloggMC"
      },
      "source": [
        "# generate 'real' class labels (1)\n",
        "n_samples = 1000\n",
        "y = ones((n_samples, 1))\n",
        "# smooth labels\n",
        "y = smooth_positive_labels(y)\n",
        "# summarize smooth labels\n",
        "print(\"smooth labels close to 1:\", y.shape, y.min(), y.max())\n",
        "\n",
        "# generate 'fake' class labels (0)\n",
        "y = zeros((n_samples, 1))\n",
        "# smooth labels\n",
        "y = smooth_negative_labels(y)\n",
        "# summarize smooth labels\n",
        "print(\"smooth labels close to 0:\", y.shape, y.min(), y.max())"
      ],
      "execution_count": null,
      "outputs": []
    },
    {
      "cell_type": "code",
      "metadata": {
        "id": "t2FrT3wcggW2"
      },
      "source": [
        "# randomly flip some labels\n",
        "def noisy_labels(y, p_flip):\n",
        "\t# determine the number of labels to flip\n",
        "\tn_select = int(p_flip * y.shape[0])\n",
        "\t# choose labels to flip\n",
        "\tflip_ix = choice([i for i in range(y.shape[0])], size=n_select)\n",
        "\t# invert the labels in place\n",
        "\ty[flip_ix] = 1 - y[flip_ix]\n",
        "\treturn y"
      ],
      "execution_count": null,
      "outputs": []
    },
    {
      "cell_type": "code",
      "metadata": {
        "id": "zity2ukdggu0"
      },
      "source": [
        "# generate 'real' class labels (1)\n",
        "n_samples = 1000\n",
        "y = ones((n_samples, 1))\n",
        "# flip labels with 5% probability\n",
        "y = noisy_labels(y, 0.05)\n",
        "# summarize labels\n",
        "print(y.sum())\n",
        " \n",
        "# generate 'fake' class labels (0)\n",
        "y = zeros((n_samples, 1))\n",
        "# flip labels with 5% probability\n",
        "y = noisy_labels(y, 0.05)\n",
        "# summarize labels\n",
        "print(y.sum())"
      ],
      "execution_count": null,
      "outputs": []
    },
    {
      "cell_type": "markdown",
      "metadata": {
        "id": "tvuO6r8adejV"
      },
      "source": [
        "### Train Functions"
      ]
    },
    {
      "cell_type": "code",
      "metadata": {
        "id": "aKNTFtKZfuGo"
      },
      "source": [
        "# generate samples and save as a plot and save the model\n",
        "def summarize_performance(epoch, g_model, latent_dim, bat_per_epo=140, n_samples=100):\n",
        "    # create fake samples\n",
        "    images = g_model.predict([seed_latent, seed_labels])\n",
        "    images = ((images + 1)/2.0*255).astype(int) \n",
        "    \n",
        "    # plot the fake samples = NUM_PER_CLASS\n",
        "    NUM_PER_CLASS = 20\n",
        "    f, axs = plt.subplots(NUM_CLASSES, NUM_PER_CLASS, figsize=(16,16))\n",
        "    plt.subplots_adjust(hspace=-0.85, wspace=0.07)\n",
        "    # plot images\n",
        "    for i in range(NUM_CLASSES*NUM_PER_CLASS):\n",
        "       axs[i//NUM_PER_CLASS, i%NUM_PER_CLASS].imshow(images[i])\n",
        "       axs[i//NUM_PER_CLASS, i%NUM_PER_CLASS].axis(\"off\")\n",
        "\n",
        "    display.clear_output(wait=True)\n",
        "\n",
        "    filename1 = 'seeded_images_ep_%04d.png' % (epoch)\n",
        "    plt.savefig(filename1)\n",
        "    plt.show()\n",
        "    plt.close()\n",
        "\n",
        "    # save the generator model\n",
        "    filename2 = 'model_%04d.h5' % (epoch)\n",
        "    g_model.save(filename2)\n",
        "    print('>Saved: %s and %s' % (filename1, filename2))"
      ],
      "execution_count": 108,
      "outputs": []
    },
    {
      "cell_type": "code",
      "metadata": {
        "id": "G3S5d-LWfkFt"
      },
      "source": [
        "# function that takes in 3 lists of (1,3) tuples and returns 3 (1,3) tuples of average loss across the  epoch\n",
        "def avg_loss_per_epo(d_real_losses, d_fake_losses, g_losses, bat_per_epo):\n",
        "    d_r_sums = [0, 0, 0]\n",
        "    d_f_sums = [0, 0, 0]\n",
        "    g_sums = [0, 0, 0]\n",
        "    # sum the losses per batch\n",
        "    for total_loss, r_f_loss, class_loss in d_real_losses:\n",
        "        d_r_sums[0] += total_loss\n",
        "        d_r_sums[1] += r_f_loss\n",
        "        d_r_sums[2] += class_loss\n",
        "    # averaged the losses over the epoch\n",
        "    for i in range(len(d_r_sums)):\n",
        "        d_r_sums[i] /= bat_per_epo\n",
        "\n",
        "    # sum the losses per batch\n",
        "    for total_loss, r_f_loss, class_loss in d_fake_losses:\n",
        "        d_f_sums[0] += total_loss\n",
        "        d_f_sums[1] += r_f_loss\n",
        "        d_f_sums[2] += class_loss\n",
        "    # averaged the losses over the epoch\n",
        "    for i in range(len(d_r_sums)):\n",
        "        d_f_sums[i] /= bat_per_epo\n",
        "\n",
        "    # sum the losses per batch\n",
        "    for total_loss, r_f_loss, class_loss in g_losses:\n",
        "        g_sums[0] += total_loss\n",
        "        g_sums[1] += r_f_loss\n",
        "        g_sums[2] += class_loss\n",
        "    # averaged the losses over the epoch\n",
        "    for i in range(len(d_r_sums)):\n",
        "        g_sums[i] /= bat_per_epo\n",
        "    return d_r_sums, d_f_sums, g_sums"
      ],
      "execution_count": 109,
      "outputs": []
    },
    {
      "cell_type": "code",
      "metadata": {
        "id": "dzA3igT9fwgE"
      },
      "source": [
        "# define the combined generator and discriminator model, for updating the generator\n",
        "def define_AC_GAN(g_model, d_model, lr=0.0002, beta_1=0.5, beta_2=0.999):\n",
        "\t# make weights in the discriminator not trainable\n",
        "\tfor layer in d_model.layers:\n",
        "\t\tif not isinstance(layer, BatchNormalization):\n",
        "\t\t\tlayer.trainable = False\n",
        "\t# connect the outputs of the generator to the inputs of the discriminator\n",
        "\tgan_output = d_model(g_model.output)\n",
        "\t# define gan model as taking noise and label and outputting real/fake and label outputs\n",
        "\tmodel = Model(g_model.input, gan_output, name=\"Combined_AC_GAN\")\n",
        "\t# compile model\n",
        "\topt = Adam(learning_rate=lr, beta_1=beta_1, beta_2=beta_2)\n",
        "\tmodel.compile(loss=['binary_crossentropy', 'categorical_crossentropy'], optimizer=opt)\n",
        "\treturn model\n",
        "\n",
        "# generate n fake images with class labels\n",
        "def generate_fake_samples(generator, latent_dim, n_samples):\n",
        "    # generate points in latent space\n",
        "    z_input, labels_input = generate_latent_points(latent_dim, n_samples)\n",
        "    # predict outputs\n",
        "    images = generator.predict([z_input, labels_input])\n",
        "    # create class labels\n",
        "    y = zeros((n_samples, 1))\n",
        "    return [images, labels_input], y\n",
        "\n",
        "# compute accuracies on real, generated, and validation images\n",
        "# return tuple of accuracies for each set of images\n",
        "def compute_accuracies(g_model, d_model, dataset, latent_dim):\n",
        "    # ############################# REAL IMAGES #############################\n",
        "    [real_images, real_y], real_labels = generate_real_samples(dataset, len(val_images)) # generate same number of real samples as validation samples\n",
        "    # make predictions on real set\n",
        "    y_pred, labels_pred = d_model.predict(real_images)\n",
        "    # count true predictions\n",
        "    true_count = 0\n",
        "    for pred in y_pred:\n",
        "        if pred > 0.5:\n",
        "            true_count += 1\n",
        "    print(\"Real image set predicted 1's:\", true_count, \"/\", len(labels_pred))\n",
        "\n",
        "    # calculate and append accuracy\n",
        "    real_y_acc = true_count / len(labels_pred)\n",
        "    real_y_acc = round(real_y_acc, 2)\n",
        "    print(\"Real image: real/fake accuracy:\", real_y_acc)\n",
        "\n",
        "    # append accuracy of labels_pred\n",
        "    correct_count = 0\n",
        "    for i, label in enumerate(labels_pred):\n",
        "        # label is a vector of len NUM_CLASSES\n",
        "        label = np.argmax(label)\n",
        "        if label == np.argmax(real_labels[i]):\n",
        "            correct_count += 1\n",
        "    real_label_acc = correct_count / len(labels_pred)\n",
        "    real_label_acc = round(real_label_acc, 2)\n",
        "    print(\"Real: labels correct:\", correct_count, \"/\", len(labels_pred))\n",
        "    print(\"Real images label accuracy:\", real_label_acc)\n",
        "\n",
        "    # ############################# GENERATED IMAGES #############################\n",
        "    [fake_images, fake_y], fake_labels = generate_fake_samples(g_model, latent_dim, len(val_images)) # generate same number of fake samples as validation samples\n",
        "    # make predictions on fake set\n",
        "    y_pred, labels_pred = d_model.predict(fake_images)\n",
        "    # count fake predictions\n",
        "    fake_count = 0\n",
        "    for pred in y_pred:\n",
        "        if pred <= 0.5: # true label for generated images is 0\n",
        "            fake_count += 1\n",
        "    print(\"Generated set predicted 0's:\", fake_count, \"/\", len(labels_pred))\n",
        "\n",
        "    # calculate and append accuracy\n",
        "    fake_y_acc = fake_count / len(labels_pred)\n",
        "    fake_y_acc = round(fake_y_acc, 2)\n",
        "    print(\"Generated image: real/fake accuracy:\", fake_y_acc)\n",
        "\n",
        "    # append accuracy of labels_pred\n",
        "    correct_count = 0\n",
        "    for i, label in enumerate(labels_pred):\n",
        "        # label is a vector of len NUM_CLASSES\n",
        "        label = np.argmax(label)\n",
        "        if label == np.argmax(fake_labels[i]):\n",
        "            correct_count += 1\n",
        "    fake_label_acc = correct_count / len(labels_pred)\n",
        "    fake_label_acc = round(fake_label_acc, 2)\n",
        "    print(\"Generated: labels correct:\", correct_count, \"/\", len(labels_pred))\n",
        "    print(\"Generated images label accuracy:\", fake_label_acc)\n",
        "\n",
        "    # ############################# VALIDATION IMAGES #############################\n",
        "    # make predictions on validation set\n",
        "    y_pred, labels_pred = d_model.predict(val_images)\n",
        "    # count true predictions\n",
        "    true_count = 0\n",
        "    for pred in y_pred:\n",
        "        if pred > 0.5:\n",
        "            true_count += 1\n",
        "    print(\"Validation set predicted 1's:\", true_count, \"/\", len(labels_pred))\n",
        "\n",
        "    # calculate and append accuracy\n",
        "    val_y_acc = true_count / len(labels_pred)\n",
        "    val_y_acc = round(val_y_acc, 2)\n",
        "    print(\"Validation real/fake accuracy:\", val_y_acc)\n",
        "\n",
        "    # append accuracy of labels_pred\n",
        "    correct_count = 0\n",
        "    for i, label in enumerate(labels_pred):\n",
        "        # label is a vector of len NUM_CLASSES\n",
        "        label = np.argmax(label)\n",
        "        if label == np.argmax(val_labels[i]):\n",
        "            correct_count += 1\n",
        "    val_label_acc = correct_count / len(labels_pred)\n",
        "    val_label_acc = round(val_label_acc, 2)\n",
        "    print(\"Validation: labels correct:\", correct_count, \"/\", len(labels_pred))\n",
        "    print(\"Validation images label accuracy:\", val_label_acc)\n",
        "\n",
        "    return real_y_acc, real_label_acc, fake_y_acc, fake_label_acc, val_y_acc, val_label_acc\n",
        "\n",
        "# train function \n",
        "def train(g_model, d_model, gan_model, dataset, latent_dim, n_epochs=1000, n_batch=64):\n",
        "    # calculate the number of batches per training epoch\n",
        "    bat_per_epo = int(dataset[0].shape[0] / n_batch)\n",
        "    # calculate the number of training iterations\n",
        "    n_steps = bat_per_epo * n_epochs\n",
        "    # calculate the size of half a batch of samples\n",
        "    half_batch = int(n_batch / 2)\n",
        "\n",
        "    # loss per batch used for averaging across epoch\n",
        "    d_rs, d_fs, gs = [], [], [] \n",
        "\n",
        "    # averaged losses per epoch\n",
        "    d_rs_epo, d_fs_epo, gs_epo = [], [], []\n",
        "\n",
        "    # Accuracies across real, gen, val images\n",
        "    real_y_accs, real_label_accs, fake_y_accs, fake_label_accs, val_y_accs, val_label_accs = [], [], [], [], [], []\n",
        "\n",
        "    # image quality scores\n",
        "    is_scores, fid_scores = [], []\n",
        "\n",
        "    # manually enumerate epochs\n",
        "    for i in range(n_steps):\n",
        "        if i % bat_per_epo == 0 and i > 0:\n",
        "            print(\"\\nEpoch\", int(i/bat_per_epo))\n",
        "            d_r_avgs, d_f_avgs, g_avgs = avg_loss_per_epo(d_rs, d_fs, gs, bat_per_epo)\n",
        "            print(\"Discriminator real images total loss: %.3f, real/fake loss: %.3f, classification loss: %.3f\" % (d_r_avgs[0], d_r_avgs[1], d_r_avgs[2]))\n",
        "            print(\"Discriminator fake images total loss: %.3f, real/fake loss: %.3f, classification loss: %.3f\" % (d_f_avgs[0], d_f_avgs[1], d_f_avgs[2]))\n",
        "            print(\"Generator (fake images) total loss: %.3f, real/fake loss: %.3f, classification loss: %.3f\" % (g_avgs[0], g_avgs[1], g_avgs[2]))\n",
        "\n",
        "            d_rs_epo.append( d_r_avgs ) # average disciminator loss on real samples\n",
        "            d_fs_epo.append( d_f_avgs ) # average disciminator loss on fake samples\n",
        "            gs_epo.append( g_avgs) # average generator loss on real samples\n",
        "            \n",
        "            # reset the step specific losses\n",
        "            d_rs, d_fs, gs = [], [], []\n",
        "\n",
        "            if VALIDATION_SET:\n",
        "                real_y_acc, real_label_acc, fake_y_acc, fake_label_acc, val_y_acc, val_label_acc = compute_accuracies(g_model, d_model, dataset, latent_dim)\n",
        "\n",
        "                real_y_accs.append(real_y_acc)\n",
        "                fake_y_accs.append(fake_y_acc)\n",
        "                val_y_accs.append(val_y_acc)\n",
        "\n",
        "                real_label_accs.append(real_label_acc)\n",
        "                fake_label_accs.append(fake_label_acc)\n",
        "                val_label_accs.append(val_label_acc)\n",
        "\n",
        "        # get randomly selected 'real' samples\n",
        "        [X_real, labels_real], y_real = generate_real_samples(dataset, half_batch)\n",
        "        # update discriminator model weights\n",
        "        d_r0,d_r1,d_r2 = d_model.train_on_batch(X_real, [y_real, labels_real])\n",
        "\n",
        "        # generate 'fake' examples\n",
        "        [X_fake, labels_fake], y_fake = generate_fake_samples(g_model, latent_dim, half_batch)\n",
        "        # update discriminator model weights\n",
        "        d_f0,d_f1,d_f2 = d_model.train_on_batch(X_fake, [y_fake, labels_fake])\n",
        "\n",
        "        # prepare points in latent space as input for the generator\n",
        "        [z_input, z_labels] = generate_latent_points(latent_dim, n_batch)\n",
        "        # create inverted labels for the fake samples\n",
        "        y_gan = ones((n_batch, 1))\n",
        "        # update the generator via the discriminator's error\n",
        "        g_0,g_1,g_2 = gan_model.train_on_batch([z_input, z_labels], [y_gan, z_labels])\n",
        "\n",
        "        # summarize loss on this batch\n",
        "        d_rs.append((d_r0, d_r1, d_r2))\n",
        "        d_fs.append((d_f0, d_f1, d_f2))\n",
        "        gs.append((g_0, g_1, g_2))\n",
        "\n",
        "        # summarize the model performance every 50 'epoch'\n",
        "        if (i+1) % (bat_per_epo * 50) == 0:\n",
        "            summarize_performance((i+1) / bat_per_epo, g_model, latent_dim)\n",
        "        \n",
        "        # calculate FID and IS every 20 'epoch'\n",
        "        if (i+1) % (bat_per_epo * 20) == 0:\n",
        "            # add inception scores\n",
        "            score, std = get_inception_score(g_model)\n",
        "            is_scores.append(score)\n",
        "\n",
        "            # add FID scores\n",
        "            fid = get_fid(g_model, latent_dim, test_image_count=1000)\n",
        "            fid_scores.append(fid)\n",
        "            \n",
        "    # convert to numpy arrays\n",
        "    d_rs_epo = np.asarray(d_rs_epo)\n",
        "    d_fs_epo = np.asarray(d_fs_epo)\n",
        "    gs_epo = np.asarray(gs_epo)\n",
        "    is_scores = np.asarray(is_scores)\n",
        "    fid_scores = np.asarray(fid_scores)\n",
        "\n",
        "    real_y_accs = np.asarray(real_y_accs)\n",
        "    fake_y_accs = np.asarray(fake_y_accs)\n",
        "    val_y_accs = np.asarray(val_y_accs)\n",
        "\n",
        "    real_label_accs = np.asarray(real_label_accs)\n",
        "    fake_label_accs = np.asarray(fake_label_accs)\n",
        "    val_label_accs = np.asarray(val_label_accs)\n",
        "\n",
        "    # at the very end, compute FID using 50k images\n",
        "    fid = get_fid(g_model, latent_dim, test_image_count=50000)\n",
        "    print(\"Final FID for 50k images:\", fid)\n",
        "\n",
        "    return [d_rs_epo, d_fs_epo, gs_epo, is_scores, fid_scores, [real_y_accs, real_label_accs, fake_y_accs, fake_label_accs, val_y_accs, val_label_accs]] "
      ],
      "execution_count": 110,
      "outputs": []
    },
    {
      "cell_type": "markdown",
      "metadata": {
        "id": "p7h0mNSLdevJ"
      },
      "source": [
        "## Define Hyper-parameters + Create Model"
      ]
    },
    {
      "cell_type": "code",
      "metadata": {
        "id": "108VP_gVf2bK"
      },
      "source": [
        "# Hyper Parameter Tuning\n",
        "latent_dim = 100 # size of the latent space\n",
        "\n",
        "# hyper parameters from SAGAN paper\n",
        "#LR_D = 0.0004\n",
        "#LR_G = 0.0001\n",
        "#BETA_1_D = 0\n",
        "#BETA_2_D = 0.9\n",
        "#BETA_1_G = 0\n",
        "#BETA_2_G = 0.9\n",
        "#NUM_EPOCHS = 500\n",
        "#BATCH_SIZE = 64\n",
        "\n",
        "# default Adam parameters\n",
        "# LR_D = 0.001\n",
        "# LR_G = 0.001\n",
        "# BETA_1_D = 0.9\n",
        "# BETA_2_D = 0.999\n",
        "# BETA_1_G = 0.9\n",
        "# BETA_2_G = 0.999\n",
        "# NUM_EPOCHS = 1000\n",
        "# BATCH_SIZE = 64\n",
        "\n",
        "# hyper parameters testing\n",
        "LR_D = 0.0002\n",
        "LR_G = 0.0002\n",
        "BETA_1_D = 0.5\n",
        "BETA_2_D = 0.999\n",
        "BETA_1_G = 0.5\n",
        "BETA_2_G = 0.999\n",
        "BATCH_SIZE = 64\n",
        "NUM_EPOCHS = 500"
      ],
      "execution_count": 111,
      "outputs": []
    },
    {
      "cell_type": "code",
      "metadata": {
        "colab": {
          "base_uri": "https://localhost:8080/"
        },
        "id": "zBRx1hqXf2tX",
        "outputId": "52dac44e-5184-4764-efc0-c38f9400c544"
      },
      "source": [
        "# AC GAN\n",
        "print(\"AC GAN for 64x64 images\")\n",
        "# create the discriminator\n",
        "discriminator = define_discriminator_ACGAN(in_shape=(64,64,3), n_classes=NUM_CLASSES, lr=LR_D, beta_1=BETA_1_D, beta_2=BETA_2_D)\n",
        "model_info(discriminator, \"discriminator\")\n",
        "print()\n",
        "\n",
        "# create the generator\n",
        "generator = define_generator_ACGAN(latent_dim, n_classes=NUM_CLASSES)\n",
        "model_info(generator, \"generator\")\n",
        "print()\n",
        "\n",
        "# create the gan\n",
        "gan_model = define_AC_GAN(generator, discriminator, lr=LR_G, beta_1=BETA_1_G, beta_2=BETA_2_G)\n",
        "model_info(gan_model, \"AC_GAN_Model\")"
      ],
      "execution_count": 114,
      "outputs": [
        {
          "output_type": "stream",
          "text": [
            "AC GAN for 64x64 images\n",
            "Model: \"AC_GAN_Discriminator_OHE_v1_downsample_to_4x4\"\n",
            "__________________________________________________________________________________________________\n",
            "Layer (type)                    Output Shape         Param #     Connected to                     \n",
            "==================================================================================================\n",
            "input_5 (InputLayer)            [(None, 64, 64, 3)]  0                                            \n",
            "__________________________________________________________________________________________________\n",
            "conv2d_119 (Conv2D)             (None, 64, 64, 64)   1792        input_5[0][0]                    \n",
            "__________________________________________________________________________________________________\n",
            "leaky_re_lu_13 (LeakyReLU)      (None, 64, 64, 64)   0           conv2d_119[0][0]                 \n",
            "__________________________________________________________________________________________________\n",
            "conv2d_120 (Conv2D)             (None, 32, 32, 128)  73856       leaky_re_lu_13[0][0]             \n",
            "__________________________________________________________________________________________________\n",
            "leaky_re_lu_14 (LeakyReLU)      (None, 32, 32, 128)  0           conv2d_120[0][0]                 \n",
            "__________________________________________________________________________________________________\n",
            "conv2d_121 (Conv2D)             (None, 32, 32, 128)  147584      leaky_re_lu_14[0][0]             \n",
            "__________________________________________________________________________________________________\n",
            "leaky_re_lu_15 (LeakyReLU)      (None, 32, 32, 128)  0           conv2d_121[0][0]                 \n",
            "__________________________________________________________________________________________________\n",
            "conv2d_122 (Conv2D)             (None, 16, 16, 128)  147584      leaky_re_lu_15[0][0]             \n",
            "__________________________________________________________________________________________________\n",
            "leaky_re_lu_16 (LeakyReLU)      (None, 16, 16, 128)  0           conv2d_122[0][0]                 \n",
            "__________________________________________________________________________________________________\n",
            "conv2d_123 (Conv2D)             (None, 16, 16, 128)  147584      leaky_re_lu_16[0][0]             \n",
            "__________________________________________________________________________________________________\n",
            "leaky_re_lu_17 (LeakyReLU)      (None, 16, 16, 128)  0           conv2d_123[0][0]                 \n",
            "__________________________________________________________________________________________________\n",
            "conv2d_124 (Conv2D)             (None, 8, 8, 256)    295168      leaky_re_lu_17[0][0]             \n",
            "__________________________________________________________________________________________________\n",
            "leaky_re_lu_18 (LeakyReLU)      (None, 8, 8, 256)    0           conv2d_124[0][0]                 \n",
            "__________________________________________________________________________________________________\n",
            "conv2d_125 (Conv2D)             (None, 8, 8, 256)    590080      leaky_re_lu_18[0][0]             \n",
            "__________________________________________________________________________________________________\n",
            "leaky_re_lu_19 (LeakyReLU)      (None, 8, 8, 256)    0           conv2d_125[0][0]                 \n",
            "__________________________________________________________________________________________________\n",
            "conv2d_126 (Conv2D)             (None, 4, 4, 256)    590080      leaky_re_lu_19[0][0]             \n",
            "__________________________________________________________________________________________________\n",
            "leaky_re_lu_20 (LeakyReLU)      (None, 4, 4, 256)    0           conv2d_126[0][0]                 \n",
            "__________________________________________________________________________________________________\n",
            "dropout_1 (Dropout)             (None, 4, 4, 256)    0           leaky_re_lu_20[0][0]             \n",
            "__________________________________________________________________________________________________\n",
            "flatten_5 (Flatten)             (None, 4096)         0           dropout_1[0][0]                  \n",
            "__________________________________________________________________________________________________\n",
            "dense_12 (Dense)                (None, 1)            4097        flatten_5[0][0]                  \n",
            "__________________________________________________________________________________________________\n",
            "dense_13 (Dense)                (None, 5)            20485       flatten_5[0][0]                  \n",
            "==================================================================================================\n",
            "Total params: 2,018,310\n",
            "Trainable params: 2,018,310\n",
            "Non-trainable params: 0\n",
            "__________________________________________________________________________________________________\n",
            "\n",
            "Model: \"AC_GAN_Generator_OHE_v1_upsample_from_4x4\"\n",
            "__________________________________________________________________________________________________\n",
            "Layer (type)                    Output Shape         Param #     Connected to                     \n",
            "==================================================================================================\n",
            "input_7 (InputLayer)            [(None, 100)]        0                                            \n",
            "__________________________________________________________________________________________________\n",
            "dense_15 (Dense)                (None, 4032)         407232      input_7[0][0]                    \n",
            "__________________________________________________________________________________________________\n",
            "input_6 (InputLayer)            [(None, 5)]          0                                            \n",
            "__________________________________________________________________________________________________\n",
            "leaky_re_lu_21 (LeakyReLU)      (None, 4032)         0           dense_15[0][0]                   \n",
            "__________________________________________________________________________________________________\n",
            "dense_14 (Dense)                (None, 64)           384         input_6[0][0]                    \n",
            "__________________________________________________________________________________________________\n",
            "reshape_3 (Reshape)             (None, 4, 4, 252)    0           leaky_re_lu_21[0][0]             \n",
            "__________________________________________________________________________________________________\n",
            "reshape_2 (Reshape)             (None, 4, 4, 4)      0           dense_14[0][0]                   \n",
            "__________________________________________________________________________________________________\n",
            "concatenate_3 (Concatenate)     (None, 4, 4, 256)    0           reshape_3[0][0]                  \n",
            "                                                                 reshape_2[0][0]                  \n",
            "__________________________________________________________________________________________________\n",
            "conv2d_transpose_4 (Conv2DTrans (None, 8, 8, 128)    524416      concatenate_3[0][0]              \n",
            "__________________________________________________________________________________________________\n",
            "leaky_re_lu_22 (LeakyReLU)      (None, 8, 8, 128)    0           conv2d_transpose_4[0][0]         \n",
            "__________________________________________________________________________________________________\n",
            "conv2d_transpose_5 (Conv2DTrans (None, 16, 16, 128)  262272      leaky_re_lu_22[0][0]             \n",
            "__________________________________________________________________________________________________\n",
            "leaky_re_lu_23 (LeakyReLU)      (None, 16, 16, 128)  0           conv2d_transpose_5[0][0]         \n",
            "__________________________________________________________________________________________________\n",
            "conv2d_transpose_6 (Conv2DTrans (None, 32, 32, 128)  262272      leaky_re_lu_23[0][0]             \n",
            "__________________________________________________________________________________________________\n",
            "leaky_re_lu_24 (LeakyReLU)      (None, 32, 32, 128)  0           conv2d_transpose_6[0][0]         \n",
            "__________________________________________________________________________________________________\n",
            "conv2d_transpose_7 (Conv2DTrans (None, 64, 64, 128)  262272      leaky_re_lu_24[0][0]             \n",
            "__________________________________________________________________________________________________\n",
            "leaky_re_lu_25 (LeakyReLU)      (None, 64, 64, 128)  0           conv2d_transpose_7[0][0]         \n",
            "__________________________________________________________________________________________________\n",
            "conv2d_127 (Conv2D)             (None, 64, 64, 3)    3459        leaky_re_lu_25[0][0]             \n",
            "==================================================================================================\n",
            "Total params: 1,722,307\n",
            "Trainable params: 1,722,307\n",
            "Non-trainable params: 0\n",
            "__________________________________________________________________________________________________\n",
            "\n",
            "Model: \"Combined_AC_GAN\"\n",
            "__________________________________________________________________________________________________\n",
            "Layer (type)                    Output Shape         Param #     Connected to                     \n",
            "==================================================================================================\n",
            "input_7 (InputLayer)            [(None, 100)]        0                                            \n",
            "__________________________________________________________________________________________________\n",
            "dense_15 (Dense)                (None, 4032)         407232      input_7[0][0]                    \n",
            "__________________________________________________________________________________________________\n",
            "input_6 (InputLayer)            [(None, 5)]          0                                            \n",
            "__________________________________________________________________________________________________\n",
            "leaky_re_lu_21 (LeakyReLU)      (None, 4032)         0           dense_15[0][0]                   \n",
            "__________________________________________________________________________________________________\n",
            "dense_14 (Dense)                (None, 64)           384         input_6[0][0]                    \n",
            "__________________________________________________________________________________________________\n",
            "reshape_3 (Reshape)             (None, 4, 4, 252)    0           leaky_re_lu_21[0][0]             \n",
            "__________________________________________________________________________________________________\n",
            "reshape_2 (Reshape)             (None, 4, 4, 4)      0           dense_14[0][0]                   \n",
            "__________________________________________________________________________________________________\n",
            "concatenate_3 (Concatenate)     (None, 4, 4, 256)    0           reshape_3[0][0]                  \n",
            "                                                                 reshape_2[0][0]                  \n",
            "__________________________________________________________________________________________________\n",
            "conv2d_transpose_4 (Conv2DTrans (None, 8, 8, 128)    524416      concatenate_3[0][0]              \n",
            "__________________________________________________________________________________________________\n",
            "leaky_re_lu_22 (LeakyReLU)      (None, 8, 8, 128)    0           conv2d_transpose_4[0][0]         \n",
            "__________________________________________________________________________________________________\n",
            "conv2d_transpose_5 (Conv2DTrans (None, 16, 16, 128)  262272      leaky_re_lu_22[0][0]             \n",
            "__________________________________________________________________________________________________\n",
            "leaky_re_lu_23 (LeakyReLU)      (None, 16, 16, 128)  0           conv2d_transpose_5[0][0]         \n",
            "__________________________________________________________________________________________________\n",
            "conv2d_transpose_6 (Conv2DTrans (None, 32, 32, 128)  262272      leaky_re_lu_23[0][0]             \n",
            "__________________________________________________________________________________________________\n",
            "leaky_re_lu_24 (LeakyReLU)      (None, 32, 32, 128)  0           conv2d_transpose_6[0][0]         \n",
            "__________________________________________________________________________________________________\n",
            "conv2d_transpose_7 (Conv2DTrans (None, 64, 64, 128)  262272      leaky_re_lu_24[0][0]             \n",
            "__________________________________________________________________________________________________\n",
            "leaky_re_lu_25 (LeakyReLU)      (None, 64, 64, 128)  0           conv2d_transpose_7[0][0]         \n",
            "__________________________________________________________________________________________________\n",
            "conv2d_127 (Conv2D)             (None, 64, 64, 3)    3459        leaky_re_lu_25[0][0]             \n",
            "__________________________________________________________________________________________________\n",
            "AC_GAN_Discriminator_OHE_v1_dow [(None, 1), (None, 5 2018310     conv2d_127[0][0]                 \n",
            "==================================================================================================\n",
            "Total params: 3,740,617\n",
            "Trainable params: 1,722,307\n",
            "Non-trainable params: 2,018,310\n",
            "__________________________________________________________________________________________________\n"
          ],
          "name": "stdout"
        }
      ]
    },
    {
      "cell_type": "markdown",
      "metadata": {
        "id": "9ikpWcRRdfIQ"
      },
      "source": [
        "## Train"
      ]
    },
    {
      "cell_type": "code",
      "metadata": {
        "colab": {
          "base_uri": "https://localhost:8080/"
        },
        "id": "fP-5KFNVlFBL",
        "outputId": "05e6c3c7-e26c-4f0b-844b-bd27f00d07cc"
      },
      "source": [
        "print(\"Give a name to this experiment:\")\n",
        "experiment_name = input()"
      ],
      "execution_count": 115,
      "outputs": [
        {
          "output_type": "stream",
          "text": [
            "Give a name to this experiment:\n",
            "ac_gan_flowers_64x64_ohe_norm_layers_4x4_3.7m_param\n"
          ],
          "name": "stdout"
        }
      ]
    },
    {
      "cell_type": "code",
      "metadata": {
        "colab": {
          "base_uri": "https://localhost:8080/"
        },
        "id": "IYMOszccg2R9",
        "outputId": "d715814f-c51a-408e-d13d-47495c63a927"
      },
      "source": [
        "print(\"Hyper parameters for run:\", experiment_name)\n",
        "print('Dataset used:')\n",
        "print('LR_D =', LR_D)\n",
        "print('LR_G =', LR_G)\n",
        "print('BETA_1_D =', BETA_1_D)\n",
        "print('BETA_2_D =', BETA_2_D)\n",
        "print('BETA_1_G =', BETA_1_G)\n",
        "print('BETA_2_G =', BETA_2_G)\n",
        "print('BATCH_SIZE =', BATCH_SIZE)\n",
        "print('NUM_EPOCHS =', NUM_EPOCHS)\n",
        "print('NUM_CLASSES =', NUM_CLASSES)\n",
        "print('LATENT_DIM =', latent_dim)\n",
        "print(\"VALIDATION_SET FLAG =\", VALIDATION_SET)"
      ],
      "execution_count": 116,
      "outputs": [
        {
          "output_type": "stream",
          "text": [
            "Hyper parameters for run: ac_gan_flowers_64x64_ohe_norm_layers_4x4_3.7m_param\n",
            "Dataset used:\n",
            "LR_D = 0.0002\n",
            "LR_G = 0.0002\n",
            "BETA_1_D = 0.5\n",
            "BETA_2_D = 0.999\n",
            "BETA_1_G = 0.5\n",
            "BETA_2_G = 0.999\n",
            "BATCH_SIZE = 64\n",
            "NUM_EPOCHS = 500\n",
            "NUM_CLASSES = 5\n",
            "LATENT_DIM = 100\n",
            "VALIDATION_SET FLAG = True\n"
          ],
          "name": "stdout"
        }
      ]
    },
    {
      "cell_type": "code",
      "metadata": {
        "colab": {
          "base_uri": "https://localhost:8080/"
        },
        "id": "ZcIY5R23g2yU",
        "outputId": "6e2e6669-5920-4893-b833-812ff2ea11d1"
      },
      "source": [
        "# train model\n",
        "d_r_ep, d_f_ep, g_ep, is_scores, fid_scores, accuracies = train(generator, discriminator, gan_model, dataset, latent_dim, n_epochs=NUM_EPOCHS, n_batch=BATCH_SIZE)"
      ],
      "execution_count": null,
      "outputs": [
        {
          "output_type": "stream",
          "text": [
            "\n",
            "Epoch 1\n",
            "Discriminator real images total loss: 1.933, real/fake loss: 0.283, classification loss: 1.650\n",
            "Discriminator fake images total loss: 2.006, real/fake loss: 0.382, classification loss: 1.624\n",
            "Generator (fake images) total loss: 4.715, real/fake loss: 3.078, classification loss: 1.637\n",
            "Real image set predicted 1's: 339 / 367\n",
            "Real image: real/fake accuracy: 0.92\n",
            "Real: labels correct: 0 / 367\n",
            "Real images label accuracy: 0.0\n",
            "Generated set predicted 0's: 367 / 367\n",
            "Generated image: real/fake accuracy: 1.0\n",
            "Generated: labels correct: 0 / 367\n",
            "Generated images label accuracy: 0.0\n",
            "Validation set predicted 1's: 326 / 367\n",
            "Validation real/fake accuracy: 0.89\n",
            "Validation: labels correct: 4 / 367\n",
            "Validation images label accuracy: 0.01\n",
            "\n",
            "Epoch 2\n",
            "Discriminator real images total loss: 1.720, real/fake loss: 0.145, classification loss: 1.575\n",
            "Discriminator fake images total loss: 1.763, real/fake loss: 0.138, classification loss: 1.625\n",
            "Generator (fake images) total loss: 5.710, real/fake loss: 4.069, classification loss: 1.640\n",
            "Real image set predicted 1's: 325 / 367\n",
            "Real image: real/fake accuracy: 0.89\n",
            "Real: labels correct: 18 / 367\n",
            "Real images label accuracy: 0.05\n",
            "Generated set predicted 0's: 367 / 367\n",
            "Generated image: real/fake accuracy: 1.0\n",
            "Generated: labels correct: 367 / 367\n",
            "Generated images label accuracy: 1.0\n",
            "Validation set predicted 1's: 324 / 367\n",
            "Validation real/fake accuracy: 0.88\n",
            "Validation: labels correct: 24 / 367\n",
            "Validation images label accuracy: 0.07\n",
            "\n",
            "Epoch 3\n",
            "Discriminator real images total loss: 1.878, real/fake loss: 0.291, classification loss: 1.587\n",
            "Discriminator fake images total loss: 2.003, real/fake loss: 0.386, classification loss: 1.618\n",
            "Generator (fake images) total loss: 3.783, real/fake loss: 2.165, classification loss: 1.618\n",
            "Real image set predicted 1's: 337 / 367\n",
            "Real image: real/fake accuracy: 0.92\n",
            "Real: labels correct: 11 / 367\n",
            "Real images label accuracy: 0.03\n",
            "Generated set predicted 0's: 367 / 367\n",
            "Generated image: real/fake accuracy: 1.0\n",
            "Generated: labels correct: 0 / 367\n",
            "Generated images label accuracy: 0.0\n",
            "Validation set predicted 1's: 347 / 367\n",
            "Validation real/fake accuracy: 0.95\n",
            "Validation: labels correct: 19 / 367\n",
            "Validation images label accuracy: 0.05\n",
            "\n",
            "Epoch 4\n",
            "Discriminator real images total loss: 1.858, real/fake loss: 0.274, classification loss: 1.583\n",
            "Discriminator fake images total loss: 1.937, real/fake loss: 0.310, classification loss: 1.627\n",
            "Generator (fake images) total loss: 4.923, real/fake loss: 3.285, classification loss: 1.638\n",
            "Real image set predicted 1's: 236 / 367\n",
            "Real image: real/fake accuracy: 0.64\n",
            "Real: labels correct: 0 / 367\n",
            "Real images label accuracy: 0.0\n",
            "Generated set predicted 0's: 342 / 367\n",
            "Generated image: real/fake accuracy: 0.93\n",
            "Generated: labels correct: 0 / 367\n",
            "Generated images label accuracy: 0.0\n",
            "Validation set predicted 1's: 300 / 367\n",
            "Validation real/fake accuracy: 0.82\n",
            "Validation: labels correct: 0 / 367\n",
            "Validation images label accuracy: 0.0\n",
            "\n",
            "Epoch 5\n",
            "Discriminator real images total loss: 1.932, real/fake loss: 0.357, classification loss: 1.576\n",
            "Discriminator fake images total loss: 1.891, real/fake loss: 0.269, classification loss: 1.622\n",
            "Generator (fake images) total loss: 4.659, real/fake loss: 3.044, classification loss: 1.615\n",
            "Real image set predicted 1's: 303 / 367\n",
            "Real image: real/fake accuracy: 0.83\n",
            "Real: labels correct: 0 / 367\n",
            "Real images label accuracy: 0.0\n",
            "Generated set predicted 0's: 367 / 367\n",
            "Generated image: real/fake accuracy: 1.0\n",
            "Generated: labels correct: 0 / 367\n",
            "Generated images label accuracy: 0.0\n",
            "Validation set predicted 1's: 297 / 367\n",
            "Validation real/fake accuracy: 0.81\n",
            "Validation: labels correct: 0 / 367\n",
            "Validation images label accuracy: 0.0\n",
            "\n",
            "Epoch 6\n",
            "Discriminator real images total loss: 1.723, real/fake loss: 0.190, classification loss: 1.533\n",
            "Discriminator fake images total loss: 1.775, real/fake loss: 0.139, classification loss: 1.635\n",
            "Generator (fake images) total loss: 5.640, real/fake loss: 4.004, classification loss: 1.636\n",
            "Real image set predicted 1's: 320 / 367\n",
            "Real image: real/fake accuracy: 0.87\n",
            "Real: labels correct: 0 / 367\n",
            "Real images label accuracy: 0.0\n",
            "Generated set predicted 0's: 321 / 367\n",
            "Generated image: real/fake accuracy: 0.87\n",
            "Generated: labels correct: 0 / 367\n",
            "Generated images label accuracy: 0.0\n",
            "Validation set predicted 1's: 328 / 367\n",
            "Validation real/fake accuracy: 0.89\n",
            "Validation: labels correct: 1 / 367\n",
            "Validation images label accuracy: 0.0\n",
            "\n",
            "Epoch 7\n",
            "Discriminator real images total loss: 1.753, real/fake loss: 0.215, classification loss: 1.537\n",
            "Discriminator fake images total loss: 1.821, real/fake loss: 0.188, classification loss: 1.633\n",
            "Generator (fake images) total loss: 5.525, real/fake loss: 3.891, classification loss: 1.634\n",
            "Real image set predicted 1's: 351 / 367\n",
            "Real image: real/fake accuracy: 0.96\n",
            "Real: labels correct: 3 / 367\n",
            "Real images label accuracy: 0.01\n",
            "Generated set predicted 0's: 367 / 367\n",
            "Generated image: real/fake accuracy: 1.0\n",
            "Generated: labels correct: 304 / 367\n",
            "Generated images label accuracy: 0.83\n",
            "Validation set predicted 1's: 355 / 367\n",
            "Validation real/fake accuracy: 0.97\n",
            "Validation: labels correct: 2 / 367\n",
            "Validation images label accuracy: 0.01\n",
            "\n",
            "Epoch 8\n",
            "Discriminator real images total loss: 1.771, real/fake loss: 0.245, classification loss: 1.526\n",
            "Discriminator fake images total loss: 1.865, real/fake loss: 0.232, classification loss: 1.633\n",
            "Generator (fake images) total loss: 4.411, real/fake loss: 2.783, classification loss: 1.628\n",
            "Real image set predicted 1's: 340 / 367\n",
            "Real image: real/fake accuracy: 0.93\n",
            "Real: labels correct: 1 / 367\n",
            "Real images label accuracy: 0.0\n",
            "Generated set predicted 0's: 367 / 367\n",
            "Generated image: real/fake accuracy: 1.0\n",
            "Generated: labels correct: 0 / 367\n",
            "Generated images label accuracy: 0.0\n",
            "Validation set predicted 1's: 347 / 367\n",
            "Validation real/fake accuracy: 0.95\n",
            "Validation: labels correct: 1 / 367\n",
            "Validation images label accuracy: 0.0\n",
            "\n",
            "Epoch 9\n",
            "Discriminator real images total loss: 2.038, real/fake loss: 0.497, classification loss: 1.542\n",
            "Discriminator fake images total loss: 2.036, real/fake loss: 0.401, classification loss: 1.635\n",
            "Generator (fake images) total loss: 4.051, real/fake loss: 2.417, classification loss: 1.634\n",
            "Real image set predicted 1's: 307 / 367\n",
            "Real image: real/fake accuracy: 0.84\n",
            "Real: labels correct: 1 / 367\n",
            "Real images label accuracy: 0.0\n",
            "Generated set predicted 0's: 329 / 367\n",
            "Generated image: real/fake accuracy: 0.9\n",
            "Generated: labels correct: 0 / 367\n",
            "Generated images label accuracy: 0.0\n",
            "Validation set predicted 1's: 292 / 367\n",
            "Validation real/fake accuracy: 0.8\n",
            "Validation: labels correct: 0 / 367\n",
            "Validation images label accuracy: 0.0\n",
            "\n",
            "Epoch 10\n",
            "Discriminator real images total loss: 1.850, real/fake loss: 0.375, classification loss: 1.475\n",
            "Discriminator fake images total loss: 1.969, real/fake loss: 0.341, classification loss: 1.628\n",
            "Generator (fake images) total loss: 4.014, real/fake loss: 2.387, classification loss: 1.627\n",
            "Real image set predicted 1's: 232 / 367\n",
            "Real image: real/fake accuracy: 0.63\n",
            "Real: labels correct: 35 / 367\n",
            "Real images label accuracy: 0.1\n",
            "Generated set predicted 0's: 353 / 367\n",
            "Generated image: real/fake accuracy: 0.96\n",
            "Generated: labels correct: 0 / 367\n",
            "Generated images label accuracy: 0.0\n",
            "Validation set predicted 1's: 227 / 367\n",
            "Validation real/fake accuracy: 0.62\n",
            "Validation: labels correct: 62 / 367\n",
            "Validation images label accuracy: 0.17\n",
            "\n",
            "Epoch 11\n",
            "Discriminator real images total loss: 1.979, real/fake loss: 0.470, classification loss: 1.508\n",
            "Discriminator fake images total loss: 2.026, real/fake loss: 0.379, classification loss: 1.646\n",
            "Generator (fake images) total loss: 3.908, real/fake loss: 2.274, classification loss: 1.635\n",
            "Real image set predicted 1's: 226 / 367\n",
            "Real image: real/fake accuracy: 0.62\n",
            "Real: labels correct: 2 / 367\n",
            "Real images label accuracy: 0.01\n",
            "Generated set predicted 0's: 358 / 367\n",
            "Generated image: real/fake accuracy: 0.98\n",
            "Generated: labels correct: 7 / 367\n",
            "Generated images label accuracy: 0.02\n",
            "Validation set predicted 1's: 208 / 367\n",
            "Validation real/fake accuracy: 0.57\n",
            "Validation: labels correct: 2 / 367\n",
            "Validation images label accuracy: 0.01\n",
            "\n",
            "Epoch 12\n",
            "Discriminator real images total loss: 1.850, real/fake loss: 0.447, classification loss: 1.403\n",
            "Discriminator fake images total loss: 2.025, real/fake loss: 0.381, classification loss: 1.645\n",
            "Generator (fake images) total loss: 3.559, real/fake loss: 1.919, classification loss: 1.640\n",
            "Real image set predicted 1's: 308 / 367\n",
            "Real image: real/fake accuracy: 0.84\n",
            "Real: labels correct: 1 / 367\n",
            "Real images label accuracy: 0.0\n",
            "Generated set predicted 0's: 362 / 367\n",
            "Generated image: real/fake accuracy: 0.99\n",
            "Generated: labels correct: 0 / 367\n",
            "Generated images label accuracy: 0.0\n",
            "Validation set predicted 1's: 313 / 367\n",
            "Validation real/fake accuracy: 0.85\n",
            "Validation: labels correct: 0 / 367\n",
            "Validation images label accuracy: 0.0\n",
            "\n",
            "Epoch 13\n",
            "Discriminator real images total loss: 1.718, real/fake loss: 0.402, classification loss: 1.316\n",
            "Discriminator fake images total loss: 2.007, real/fake loss: 0.347, classification loss: 1.660\n",
            "Generator (fake images) total loss: 3.939, real/fake loss: 2.290, classification loss: 1.649\n",
            "Real image set predicted 1's: 321 / 367\n",
            "Real image: real/fake accuracy: 0.87\n",
            "Real: labels correct: 0 / 367\n",
            "Real images label accuracy: 0.0\n",
            "Generated set predicted 0's: 366 / 367\n",
            "Generated image: real/fake accuracy: 1.0\n",
            "Generated: labels correct: 3 / 367\n",
            "Generated images label accuracy: 0.01\n",
            "Validation set predicted 1's: 315 / 367\n",
            "Validation real/fake accuracy: 0.86\n",
            "Validation: labels correct: 0 / 367\n",
            "Validation images label accuracy: 0.0\n",
            "\n",
            "Epoch 14\n",
            "Discriminator real images total loss: 1.850, real/fake loss: 0.509, classification loss: 1.341\n",
            "Discriminator fake images total loss: 2.107, real/fake loss: 0.445, classification loss: 1.662\n",
            "Generator (fake images) total loss: 3.557, real/fake loss: 1.910, classification loss: 1.647\n",
            "Real image set predicted 1's: 234 / 367\n",
            "Real image: real/fake accuracy: 0.64\n",
            "Real: labels correct: 4 / 367\n",
            "Real images label accuracy: 0.01\n",
            "Generated set predicted 0's: 324 / 367\n",
            "Generated image: real/fake accuracy: 0.88\n",
            "Generated: labels correct: 7 / 367\n",
            "Generated images label accuracy: 0.02\n",
            "Validation set predicted 1's: 215 / 367\n",
            "Validation real/fake accuracy: 0.59\n",
            "Validation: labels correct: 16 / 367\n",
            "Validation images label accuracy: 0.04\n",
            "\n",
            "Epoch 15\n",
            "Discriminator real images total loss: 1.806, real/fake loss: 0.492, classification loss: 1.314\n",
            "Discriminator fake images total loss: 2.117, real/fake loss: 0.448, classification loss: 1.669\n",
            "Generator (fake images) total loss: 3.593, real/fake loss: 1.941, classification loss: 1.652\n",
            "Real image set predicted 1's: 274 / 367\n",
            "Real image: real/fake accuracy: 0.75\n",
            "Real: labels correct: 1 / 367\n",
            "Real images label accuracy: 0.0\n",
            "Generated set predicted 0's: 354 / 367\n",
            "Generated image: real/fake accuracy: 0.96\n",
            "Generated: labels correct: 45 / 367\n",
            "Generated images label accuracy: 0.12\n",
            "Validation set predicted 1's: 285 / 367\n",
            "Validation real/fake accuracy: 0.78\n",
            "Validation: labels correct: 2 / 367\n",
            "Validation images label accuracy: 0.01\n",
            "\n",
            "Epoch 16\n",
            "Discriminator real images total loss: 1.810, real/fake loss: 0.492, classification loss: 1.318\n",
            "Discriminator fake images total loss: 2.158, real/fake loss: 0.484, classification loss: 1.673\n",
            "Generator (fake images) total loss: 3.965, real/fake loss: 2.310, classification loss: 1.655\n",
            "Real image set predicted 1's: 127 / 367\n",
            "Real image: real/fake accuracy: 0.35\n",
            "Real: labels correct: 1 / 367\n",
            "Real images label accuracy: 0.0\n",
            "Generated set predicted 0's: 366 / 367\n",
            "Generated image: real/fake accuracy: 1.0\n",
            "Generated: labels correct: 0 / 367\n",
            "Generated images label accuracy: 0.0\n",
            "Validation set predicted 1's: 90 / 367\n",
            "Validation real/fake accuracy: 0.25\n",
            "Validation: labels correct: 2 / 367\n",
            "Validation images label accuracy: 0.01\n",
            "\n",
            "Epoch 17\n",
            "Discriminator real images total loss: 1.961, real/fake loss: 0.609, classification loss: 1.352\n",
            "Discriminator fake images total loss: 2.120, real/fake loss: 0.458, classification loss: 1.663\n",
            "Generator (fake images) total loss: 3.279, real/fake loss: 1.640, classification loss: 1.639\n",
            "Real image set predicted 1's: 265 / 367\n",
            "Real image: real/fake accuracy: 0.72\n",
            "Real: labels correct: 0 / 367\n",
            "Real images label accuracy: 0.0\n",
            "Generated set predicted 0's: 351 / 367\n",
            "Generated image: real/fake accuracy: 0.96\n",
            "Generated: labels correct: 4 / 367\n",
            "Generated images label accuracy: 0.01\n",
            "Validation set predicted 1's: 238 / 367\n",
            "Validation real/fake accuracy: 0.65\n",
            "Validation: labels correct: 1 / 367\n",
            "Validation images label accuracy: 0.0\n",
            "\n",
            "Epoch 18\n",
            "Discriminator real images total loss: 1.658, real/fake loss: 0.394, classification loss: 1.264\n",
            "Discriminator fake images total loss: 1.968, real/fake loss: 0.307, classification loss: 1.661\n",
            "Generator (fake images) total loss: 3.850, real/fake loss: 2.204, classification loss: 1.646\n",
            "Real image set predicted 1's: 222 / 367\n",
            "Real image: real/fake accuracy: 0.6\n",
            "Real: labels correct: 2 / 367\n",
            "Real images label accuracy: 0.01\n",
            "Generated set predicted 0's: 366 / 367\n",
            "Generated image: real/fake accuracy: 1.0\n",
            "Generated: labels correct: 2 / 367\n",
            "Generated images label accuracy: 0.01\n",
            "Validation set predicted 1's: 220 / 367\n",
            "Validation real/fake accuracy: 0.6\n",
            "Validation: labels correct: 7 / 367\n",
            "Validation images label accuracy: 0.02\n",
            "\n",
            "Epoch 19\n",
            "Discriminator real images total loss: 1.631, real/fake loss: 0.361, classification loss: 1.270\n",
            "Discriminator fake images total loss: 1.948, real/fake loss: 0.279, classification loss: 1.670\n",
            "Generator (fake images) total loss: 3.990, real/fake loss: 2.346, classification loss: 1.644\n",
            "Real image set predicted 1's: 312 / 367\n",
            "Real image: real/fake accuracy: 0.85\n",
            "Real: labels correct: 0 / 367\n",
            "Real images label accuracy: 0.0\n",
            "Generated set predicted 0's: 360 / 367\n",
            "Generated image: real/fake accuracy: 0.98\n",
            "Generated: labels correct: 18 / 367\n",
            "Generated images label accuracy: 0.05\n",
            "Validation set predicted 1's: 349 / 367\n",
            "Validation real/fake accuracy: 0.95\n",
            "Validation: labels correct: 1 / 367\n",
            "Validation images label accuracy: 0.0\n",
            "Downloading data from https://storage.googleapis.com/tensorflow/keras-applications/inception_v3/inception_v3_weights_tf_dim_ordering_tf_kernels.h5\n",
            "96116736/96112376 [==============================] - 1s 0us/step\n",
            "IS score (avg, std) 2.0726035 0.066390365\n",
            "FID: 338.58920291461556\n",
            "\n",
            "Epoch 20\n",
            "Discriminator real images total loss: 1.703, real/fake loss: 0.463, classification loss: 1.240\n",
            "Discriminator fake images total loss: 2.050, real/fake loss: 0.375, classification loss: 1.674\n",
            "Generator (fake images) total loss: 3.910, real/fake loss: 2.274, classification loss: 1.636\n",
            "Real image set predicted 1's: 293 / 367\n",
            "Real image: real/fake accuracy: 0.8\n",
            "Real: labels correct: 9 / 367\n",
            "Real images label accuracy: 0.02\n",
            "Generated set predicted 0's: 356 / 367\n",
            "Generated image: real/fake accuracy: 0.97\n",
            "Generated: labels correct: 59 / 367\n",
            "Generated images label accuracy: 0.16\n",
            "Validation set predicted 1's: 330 / 367\n",
            "Validation real/fake accuracy: 0.9\n",
            "Validation: labels correct: 38 / 367\n",
            "Validation images label accuracy: 0.1\n",
            "\n",
            "Epoch 21\n",
            "Discriminator real images total loss: 1.697, real/fake loss: 0.480, classification loss: 1.216\n",
            "Discriminator fake images total loss: 2.034, real/fake loss: 0.386, classification loss: 1.648\n",
            "Generator (fake images) total loss: 3.643, real/fake loss: 2.012, classification loss: 1.631\n",
            "Real image set predicted 1's: 289 / 367\n",
            "Real image: real/fake accuracy: 0.79\n",
            "Real: labels correct: 15 / 367\n",
            "Real images label accuracy: 0.04\n",
            "Generated set predicted 0's: 272 / 367\n",
            "Generated image: real/fake accuracy: 0.74\n",
            "Generated: labels correct: 9 / 367\n",
            "Generated images label accuracy: 0.02\n",
            "Validation set predicted 1's: 344 / 367\n",
            "Validation real/fake accuracy: 0.94\n",
            "Validation: labels correct: 44 / 367\n",
            "Validation images label accuracy: 0.12\n",
            "\n",
            "Epoch 22\n",
            "Discriminator real images total loss: 1.651, real/fake loss: 0.471, classification loss: 1.180\n",
            "Discriminator fake images total loss: 2.004, real/fake loss: 0.378, classification loss: 1.626\n",
            "Generator (fake images) total loss: 3.787, real/fake loss: 2.186, classification loss: 1.601\n",
            "Real image set predicted 1's: 255 / 367\n",
            "Real image: real/fake accuracy: 0.69\n",
            "Real: labels correct: 11 / 367\n",
            "Real images label accuracy: 0.03\n",
            "Generated set predicted 0's: 328 / 367\n",
            "Generated image: real/fake accuracy: 0.89\n",
            "Generated: labels correct: 16 / 367\n",
            "Generated images label accuracy: 0.04\n",
            "Validation set predicted 1's: 167 / 367\n",
            "Validation real/fake accuracy: 0.46\n",
            "Validation: labels correct: 35 / 367\n",
            "Validation images label accuracy: 0.1\n",
            "\n",
            "Epoch 23\n",
            "Discriminator real images total loss: 1.577, real/fake loss: 0.433, classification loss: 1.145\n",
            "Discriminator fake images total loss: 1.854, real/fake loss: 0.384, classification loss: 1.470\n",
            "Generator (fake images) total loss: 3.634, real/fake loss: 2.216, classification loss: 1.418\n",
            "Real image set predicted 1's: 240 / 367\n",
            "Real image: real/fake accuracy: 0.65\n",
            "Real: labels correct: 33 / 367\n",
            "Real images label accuracy: 0.09\n",
            "Generated set predicted 0's: 340 / 367\n",
            "Generated image: real/fake accuracy: 0.93\n",
            "Generated: labels correct: 61 / 367\n",
            "Generated images label accuracy: 0.17\n",
            "Validation set predicted 1's: 208 / 367\n",
            "Validation real/fake accuracy: 0.57\n",
            "Validation: labels correct: 115 / 367\n",
            "Validation images label accuracy: 0.31\n",
            "\n",
            "Epoch 24\n",
            "Discriminator real images total loss: 1.738, real/fake loss: 0.521, classification loss: 1.218\n",
            "Discriminator fake images total loss: 1.498, real/fake loss: 0.455, classification loss: 1.043\n",
            "Generator (fake images) total loss: 3.212, real/fake loss: 2.227, classification loss: 0.985\n",
            "Real image set predicted 1's: 224 / 367\n",
            "Real image: real/fake accuracy: 0.61\n",
            "Real: labels correct: 24 / 367\n",
            "Real images label accuracy: 0.07\n",
            "Generated set predicted 0's: 307 / 367\n",
            "Generated image: real/fake accuracy: 0.84\n",
            "Generated: labels correct: 70 / 367\n",
            "Generated images label accuracy: 0.19\n",
            "Validation set predicted 1's: 133 / 367\n",
            "Validation real/fake accuracy: 0.36\n",
            "Validation: labels correct: 108 / 367\n",
            "Validation images label accuracy: 0.29\n",
            "\n",
            "Epoch 25\n",
            "Discriminator real images total loss: 1.733, real/fake loss: 0.463, classification loss: 1.270\n",
            "Discriminator fake images total loss: 1.102, real/fake loss: 0.433, classification loss: 0.669\n",
            "Generator (fake images) total loss: 2.801, real/fake loss: 2.214, classification loss: 0.587\n",
            "Real image set predicted 1's: 269 / 367\n",
            "Real image: real/fake accuracy: 0.73\n",
            "Real: labels correct: 36 / 367\n",
            "Real images label accuracy: 0.1\n",
            "Generated set predicted 0's: 291 / 367\n",
            "Generated image: real/fake accuracy: 0.79\n",
            "Generated: labels correct: 71 / 367\n",
            "Generated images label accuracy: 0.19\n",
            "Validation set predicted 1's: 243 / 367\n",
            "Validation real/fake accuracy: 0.66\n",
            "Validation: labels correct: 96 / 367\n",
            "Validation images label accuracy: 0.26\n",
            "\n",
            "Epoch 26\n",
            "Discriminator real images total loss: 1.815, real/fake loss: 0.519, classification loss: 1.296\n",
            "Discriminator fake images total loss: 0.968, real/fake loss: 0.465, classification loss: 0.503\n",
            "Generator (fake images) total loss: 2.682, real/fake loss: 2.252, classification loss: 0.431\n",
            "Real image set predicted 1's: 231 / 367\n",
            "Real image: real/fake accuracy: 0.63\n",
            "Real: labels correct: 30 / 367\n",
            "Real images label accuracy: 0.08\n",
            "Generated set predicted 0's: 329 / 367\n",
            "Generated image: real/fake accuracy: 0.9\n",
            "Generated: labels correct: 78 / 367\n",
            "Generated images label accuracy: 0.21\n",
            "Validation set predicted 1's: 271 / 367\n",
            "Validation real/fake accuracy: 0.74\n",
            "Validation: labels correct: 75 / 367\n",
            "Validation images label accuracy: 0.2\n",
            "\n",
            "Epoch 27\n",
            "Discriminator real images total loss: 1.736, real/fake loss: 0.470, classification loss: 1.266\n",
            "Discriminator fake images total loss: 0.862, real/fake loss: 0.416, classification loss: 0.445\n",
            "Generator (fake images) total loss: 2.697, real/fake loss: 2.360, classification loss: 0.337\n",
            "Real image set predicted 1's: 328 / 367\n",
            "Real image: real/fake accuracy: 0.89\n",
            "Real: labels correct: 30 / 367\n",
            "Real images label accuracy: 0.08\n",
            "Generated set predicted 0's: 361 / 367\n",
            "Generated image: real/fake accuracy: 0.98\n",
            "Generated: labels correct: 80 / 367\n",
            "Generated images label accuracy: 0.22\n",
            "Validation set predicted 1's: 341 / 367\n",
            "Validation real/fake accuracy: 0.93\n",
            "Validation: labels correct: 77 / 367\n",
            "Validation images label accuracy: 0.21\n",
            "\n",
            "Epoch 28\n",
            "Discriminator real images total loss: 1.726, real/fake loss: 0.447, classification loss: 1.279\n",
            "Discriminator fake images total loss: 0.788, real/fake loss: 0.400, classification loss: 0.388\n",
            "Generator (fake images) total loss: 2.697, real/fake loss: 2.407, classification loss: 0.290\n",
            "Real image set predicted 1's: 305 / 367\n",
            "Real image: real/fake accuracy: 0.83\n",
            "Real: labels correct: 23 / 367\n",
            "Real images label accuracy: 0.06\n",
            "Generated set predicted 0's: 315 / 367\n",
            "Generated image: real/fake accuracy: 0.86\n",
            "Generated: labels correct: 61 / 367\n",
            "Generated images label accuracy: 0.17\n",
            "Validation set predicted 1's: 318 / 367\n",
            "Validation real/fake accuracy: 0.87\n",
            "Validation: labels correct: 76 / 367\n",
            "Validation images label accuracy: 0.21\n",
            "\n",
            "Epoch 29\n",
            "Discriminator real images total loss: 1.673, real/fake loss: 0.449, classification loss: 1.224\n",
            "Discriminator fake images total loss: 0.736, real/fake loss: 0.406, classification loss: 0.330\n",
            "Generator (fake images) total loss: 2.526, real/fake loss: 2.288, classification loss: 0.238\n",
            "Real image set predicted 1's: 320 / 367\n",
            "Real image: real/fake accuracy: 0.87\n",
            "Real: labels correct: 20 / 367\n",
            "Real images label accuracy: 0.05\n",
            "Generated set predicted 0's: 267 / 367\n",
            "Generated image: real/fake accuracy: 0.73\n",
            "Generated: labels correct: 77 / 367\n",
            "Generated images label accuracy: 0.21\n",
            "Validation set predicted 1's: 298 / 367\n",
            "Validation real/fake accuracy: 0.81\n",
            "Validation: labels correct: 75 / 367\n",
            "Validation images label accuracy: 0.2\n"
          ],
          "name": "stdout"
        }
      ]
    },
    {
      "cell_type": "markdown",
      "metadata": {
        "id": "Ud2xg3Fch_nT"
      },
      "source": [
        "## Analysis"
      ]
    },
    {
      "cell_type": "code",
      "metadata": {
        "colab": {
          "background_save": true
        },
        "id": "CAQrtEk1sTcW"
      },
      "source": [
        "import matplotlib.pyplot as plt"
      ],
      "execution_count": null,
      "outputs": []
    },
    {
      "cell_type": "code",
      "metadata": {
        "colab": {
          "background_save": true
        },
        "id": "C9qcTG2Kg2_q",
        "outputId": "5e8291dc-9ade-4477-afdf-b63c672bfa7a"
      },
      "source": [
        "print(d_r_ep.shape)\n",
        "print(d_f_ep.shape)\n",
        "print(g_ep.shape)\n",
        "print(\"IS Scores:\", is_scores.shape)\n",
        "print(\"FID Scores:\", fid_scores.shape)"
      ],
      "execution_count": null,
      "outputs": [
        {
          "output_type": "error",
          "ename": "NameError",
          "evalue": "ignored",
          "traceback": [
            "\u001b[0;31m---------------------------------------------------------------------------\u001b[0m",
            "\u001b[0;31mNameError\u001b[0m                                 Traceback (most recent call last)",
            "\u001b[0;32m<ipython-input-2-79af64611452>\u001b[0m in \u001b[0;36m<module>\u001b[0;34m()\u001b[0m\n\u001b[0;32m----> 1\u001b[0;31m \u001b[0mprint\u001b[0m\u001b[0;34m(\u001b[0m\u001b[0md_r_ep\u001b[0m\u001b[0;34m.\u001b[0m\u001b[0mshape\u001b[0m\u001b[0;34m)\u001b[0m\u001b[0;34m\u001b[0m\u001b[0;34m\u001b[0m\u001b[0m\n\u001b[0m\u001b[1;32m      2\u001b[0m \u001b[0mprint\u001b[0m\u001b[0;34m(\u001b[0m\u001b[0md_f_ep\u001b[0m\u001b[0;34m.\u001b[0m\u001b[0mshape\u001b[0m\u001b[0;34m)\u001b[0m\u001b[0;34m\u001b[0m\u001b[0;34m\u001b[0m\u001b[0m\n\u001b[1;32m      3\u001b[0m \u001b[0mprint\u001b[0m\u001b[0;34m(\u001b[0m\u001b[0mg_ep\u001b[0m\u001b[0;34m.\u001b[0m\u001b[0mshape\u001b[0m\u001b[0;34m)\u001b[0m\u001b[0;34m\u001b[0m\u001b[0;34m\u001b[0m\u001b[0m\n\u001b[1;32m      4\u001b[0m \u001b[0mprint\u001b[0m\u001b[0;34m(\u001b[0m\u001b[0;34m\"IS Scores:\"\u001b[0m\u001b[0;34m,\u001b[0m \u001b[0mis_scores\u001b[0m\u001b[0;34m.\u001b[0m\u001b[0mshape\u001b[0m\u001b[0;34m)\u001b[0m\u001b[0;34m\u001b[0m\u001b[0;34m\u001b[0m\u001b[0m\n\u001b[1;32m      5\u001b[0m \u001b[0mprint\u001b[0m\u001b[0;34m(\u001b[0m\u001b[0;34m\"FID Scores:\"\u001b[0m\u001b[0;34m,\u001b[0m \u001b[0mfid_scores\u001b[0m\u001b[0;34m.\u001b[0m\u001b[0mshape\u001b[0m\u001b[0;34m)\u001b[0m\u001b[0;34m\u001b[0m\u001b[0;34m\u001b[0m\u001b[0m\n",
            "\u001b[0;31mNameError\u001b[0m: name 'd_r_ep' is not defined"
          ]
        }
      ]
    },
    {
      "cell_type": "code",
      "metadata": {
        "colab": {
          "background_save": true
        },
        "id": "muSi5T37F2lC"
      },
      "source": [
        "real_y_accs, real_label_accs, fake_y_accs, fake_label_accs, val_y_accs, val_label_accs = accuracies\n",
        "print(real_y_accs[:10])"
      ],
      "execution_count": null,
      "outputs": []
    },
    {
      "cell_type": "code",
      "metadata": {
        "colab": {
          "background_save": true
        },
        "id": "5SKp3KqBQsI6"
      },
      "source": [
        "# plot all at once\n",
        "\n",
        "if VALIDATION_SET:\n",
        "    # create an extra row for validation accuracies\n",
        "    fig, axs = plt.subplots(nrows=4, ncols=2, figsize=(20, 18))\n",
        "\n",
        "    # combined real/fake loss\n",
        "    axs[0, 0].set_title('Model Real/Fake Loss')\n",
        "    axs[0, 0].plot(d_r_ep[:,1])\n",
        "    axs[0, 0].plot(d_f_ep[:,1])\n",
        "    axs[0, 0].plot(g_ep[:,1])\n",
        "    axs[0, 0].set_xlabel('Epoch')\n",
        "    axs[0, 0].set_ylabel('Loss')\n",
        "    axs[0, 0].legend(['Discriminator Real', 'Discriminator Fake', 'Generator'], loc='upper right')\n",
        "\n",
        "    # combined classification loss\n",
        "    axs[0, 1].set_title('Model Classificiation Loss')\n",
        "    axs[0, 1].plot(d_r_ep[:,2])\n",
        "    axs[0, 1].plot(d_f_ep[:,2])\n",
        "    axs[0, 1].plot(g_ep[:,2])\n",
        "    axs[0, 1].set_xlabel('Epoch')\n",
        "    axs[0, 1].set_ylabel('Loss')\n",
        "    axs[0, 1].legend(['Discriminator Real', 'Discriminator Fake', 'Generator'], loc='upper right')\n",
        "\n",
        "    # real/fake discriminator loss\n",
        "    axs[1, 0].set_title(\"Discriminator Real/Fake Loss\")\n",
        "    axs[1, 0].plot(d_r_ep[:,1])\n",
        "    axs[1, 0].plot(d_f_ep[:,1])\n",
        "    axs[1, 0].set_xlabel(\"Epoch\")\n",
        "    axs[1, 0].set_ylabel(\"Loss\")\n",
        "    axs[1, 0].legend(['Discriminator Real', 'Discriminator Fake'], loc='upper right')\n",
        "\n",
        "    # real/fake generator loss\n",
        "    axs[1, 1].set_title(\"Generator Real/Fake Loss\")\n",
        "    axs[1, 1].plot(g_ep[:,1], color='g')\n",
        "    axs[1, 1].set_xlabel(\"Epoch\")\n",
        "    axs[1, 1].set_ylabel(\"Loss\")\n",
        "\n",
        "    # validation real/fake accuracy\n",
        "    axs[2,0].set_title('Real/Fake Accuracies')\n",
        "    axs[2,0].plot(real_y_accs, color='b')\n",
        "    axs[2,0].plot(fake_y_accs, color='r')\n",
        "    axs[2,0].plot(val_y_accs,  color='g')\n",
        "    axs[2,0].set_xlabel('Epoch')\n",
        "    axs[2,0].set_ylabel('Accuracy')\n",
        "    axs[2,0].legend(['Real', 'Generated', 'Validation'], loc='upper right')\n",
        "\n",
        "    # validation class label accuracy\n",
        "    axs[2,1].set_title('Class Label Accuracies')\n",
        "    axs[2,1].plot(real_label_accs, color='b')\n",
        "    axs[2,1].plot(fake_label_accs, color='r')\n",
        "    axs[2,1].plot(val_label_accs, color='g')\n",
        "    axs[2,1].set_xlabel('Epoch')\n",
        "    axs[2,1].set_ylabel('Accuracy')\n",
        "    axs[2,1].legend(['Real', 'Generated', 'Validation'], loc='upper right')\n",
        "\n",
        "    # FID scores\n",
        "    axs[3,0].set_title('FID Scores/100 Epochs')\n",
        "    axs[3,0].plot(fid_scores[:], color='m')\n",
        "    axs[3,0].set_xlabel('x10 Epoch')\n",
        "    axs[3,0].set_ylabel('FID Score')\n",
        "\n",
        "    # IS scores\n",
        "    axs[3,1].set_title('Inception Scores/100 Epochs')\n",
        "    axs[3,1].plot(is_scores[:], color='c')\n",
        "    axs[3,1].set_xlabel('x10 Epoch')\n",
        "    axs[3,1].set_ylabel('Inception Score')\n",
        "\n",
        "    plt.savefig(\"Performance_Analysis.png\")\n",
        "    plt.show()\n",
        "\n",
        "else: \n",
        "    fig, axs = plt.subplots(nrows=3, ncols=2, figsize=(20, 18))\n",
        "\n",
        "    # combined real/fake loss\n",
        "    axs[0, 0].set_title('Model Real/Fake Loss')\n",
        "    axs[0, 0].plot(d_r_ep[:,1])\n",
        "    axs[0, 0].plot(d_f_ep[:,1])\n",
        "    axs[0, 0].plot(g_ep[:,1])\n",
        "    axs[0, 0].set_xlabel('Epoch')\n",
        "    axs[0, 0].set_ylabel('Loss')\n",
        "    axs[0, 0].legend(['Discriminator Real', 'Discriminator Fake', 'Generator'], loc='upper right')\n",
        "\n",
        "    # combined classification loss\n",
        "    axs[0, 1].set_title('Model Classificiation Loss')\n",
        "    axs[0, 1].plot(d_r_ep[:,2])\n",
        "    axs[0, 1].plot(d_f_ep[:,2])\n",
        "    axs[0, 1].plot(g_ep[:,2])\n",
        "    axs[0, 1].set_xlabel('Epoch')\n",
        "    axs[0, 1].set_ylabel('Loss')\n",
        "    axs[0, 1].legend(['Discriminator Real', 'Discriminator Fake', 'Generator'], loc='upper right')\n",
        "\n",
        "    # real/fake discriminator loss\n",
        "    axs[1, 0].set_title(\"Discriminator Real/Fake Loss\")\n",
        "    axs[1, 0].plot(d_r_ep[:,1])\n",
        "    axs[1, 0].plot(d_f_ep[:,1])\n",
        "    axs[1, 0].set_xlabel(\"Epoch\")\n",
        "    axs[1, 0].set_ylabel(\"Loss\")\n",
        "    axs[1, 0].legend(['Discriminator Real', 'Discriminator Fake'], loc='upper right')\n",
        "\n",
        "    # real/fake generator loss\n",
        "    axs[1, 1].set_title(\"Generator Real/Fake Loss\")\n",
        "    axs[1, 1].plot(g_ep[:,1], color='g')\n",
        "    axs[1, 1].set_xlabel(\"Epoch\")\n",
        "    axs[1, 1].set_ylabel(\"Loss\")\n",
        "\n",
        "    # FID scores\n",
        "    axs[2,0].set_title('FID Scores/100 Epochs')\n",
        "    axs[2,0].plot(fid_scores[:], color='m')\n",
        "    axs[2,0].set_xlabel('x10 Epoch')\n",
        "    axs[2,0].set_ylabel('FID Score')\n",
        "\n",
        "    # IS scores\n",
        "    axs[2,1].set_title('Inception Scores/100 Epochs')\n",
        "    axs[2,1].plot(is_scores[:], color='c')\n",
        "    axs[2,1].set_xlabel('x10 Epoch')\n",
        "    axs[2,1].set_ylabel('Inception Score')\n",
        "\n",
        "    plt.savefig(\"Performance_Analysis.png\")\n",
        "    plt.show()"
      ],
      "execution_count": null,
      "outputs": []
    },
    {
      "cell_type": "code",
      "metadata": {
        "colab": {
          "background_save": true
        },
        "id": "vqXdoZm7iS5i"
      },
      "source": [
        "# create 100 images\n",
        "latent_dim = 100\n",
        "n_examples = 100 # must be a square\n",
        "# generate images\n",
        "latent_points, labels = generate_latent_points(latent_dim, n_examples, n_classes=1)\n",
        "# generate images\n",
        "X  = generator.predict([latent_points, labels])\n",
        "# scale from [-1,1] to [0,255]\n",
        "X = ((X + 1)/2.0*255).astype(int) \n",
        "save_plot(X, n_examples, file_name='10x10_final_images', fig_size=20)"
      ],
      "execution_count": null,
      "outputs": []
    },
    {
      "cell_type": "code",
      "metadata": {
        "colab": {
          "background_save": true
        },
        "id": "5O4A9dxBiTHN"
      },
      "source": [
        "# create 9 large images\n",
        "latent_dim = 100\n",
        "n_examples = 9# must be a square\n",
        "# generate images\n",
        "latent_points, labels = generate_latent_points(latent_dim, n_examples, n_classes=1)\n",
        "# generate images\n",
        "X  = generator.predict([latent_points, labels])\n",
        "# scale from [-1,1] to [0,255]\n",
        "X = ((X + 1)/2.0*255).astype(int) \n",
        "save_plot(X, n_examples, file_name='3x3_final_images')"
      ],
      "execution_count": null,
      "outputs": []
    },
    {
      "cell_type": "code",
      "metadata": {
        "colab": {
          "background_save": true
        },
        "id": "0w3WTMr7oCvo"
      },
      "source": [
        "# create a gif with the seeded images\n",
        "import imageio\n",
        "import glob\n",
        "\n",
        "anim_file = 'training_generated_images.gif'\n",
        "\n",
        "with imageio.get_writer(anim_file, mode='I') as writer:\n",
        "    filenames = glob.glob('seeded*.png')\n",
        "    filenames = sorted(filenames)\n",
        "    for filename in filenames:\n",
        "        print(filename)\n",
        "        image = imageio.imread(filename)\n",
        "        writer.append_data(image)"
      ],
      "execution_count": null,
      "outputs": []
    },
    {
      "cell_type": "markdown",
      "metadata": {
        "id": "-_mHuR2giV_J"
      },
      "source": [
        "## Generate Directory + Save Results"
      ]
    },
    {
      "cell_type": "code",
      "metadata": {
        "colab": {
          "background_save": true
        },
        "id": "Ig7ADrb-iZKd"
      },
      "source": [
        "import datetime\n",
        "dt = datetime.datetime.today()"
      ],
      "execution_count": null,
      "outputs": []
    },
    {
      "cell_type": "code",
      "metadata": {
        "colab": {
          "background_save": true
        },
        "id": "ulPgoEoxiazy"
      },
      "source": [
        "# Create a directory to save generated model/images to\n",
        "gan_test_directory = './gdrive/MyDrive/EEG2Image/GAN/tests/'\n",
        "print(\"Contents of\", gan_test_directory)\n",
        "!ls $gan_test_directory\n",
        "\n",
        "print(\"\\nDirectory:\", experiment_name, \"will be generated at the end of successful training and result analysis\")\n",
        "\n",
        "month_day_year = str(dt.month) + '_' + str(dt.day) + '_' + str(dt.year)\n",
        "print(\"\\nDate stamp:\", month_day_year)\n",
        "\n",
        "if len(experiment_name) == 0 or experiment_name is None:\n",
        "    print(\"Error in given name...\\nSetting temporary directory name.\")\n",
        "    experiment_name = 'temp_name'\n",
        "\n",
        "directory_name = month_day_year + '_' + experiment_name\n",
        "\n",
        "full_path = gan_test_directory + directory_name + '/'\n",
        "print(\"\\nMaking a directory at\", full_path)\n",
        "!mkdir $full_path\n",
        "\n",
        "print(\"\\nContents of\", gan_test_directory, \"after attempting to generate directory\")\n",
        "!ls $gan_test_directory\n",
        "\n",
        "print(\"\\nContents of\", full_path)\n",
        "!ls $full_path"
      ],
      "execution_count": null,
      "outputs": []
    },
    {
      "cell_type": "code",
      "metadata": {
        "colab": {
          "background_save": true
        },
        "id": "bLFHOi9QibBv"
      },
      "source": [
        "print(\"Copying generated images to\", full_path, \"\\n\")\n",
        "!cp ./*.png $full_path\n",
        "print(\"Copying generated gif\", full_path, \"\\n\")\n",
        "!cp ./*.gif $full_path\n",
        "print(\"Copying model artifacts to\", full_path, \"\\n\")\n",
        "!cp ./*.h5 $full_path\n",
        "\n",
        "\n",
        "print(\"\\nContents of\", full_path, \"after copy attempt\")\n",
        "!ls $full_path"
      ],
      "execution_count": null,
      "outputs": []
    },
    {
      "cell_type": "code",
      "metadata": {
        "colab": {
          "background_save": true
        },
        "id": "ozB6Ho86ibMV"
      },
      "source": [
        "# clean the current directory\n",
        "print(\"Cleaning current working directory\")\n",
        "!rm ./*.png\n",
        "!rm ./*.h5\n",
        "#!rm ./*.gif"
      ],
      "execution_count": null,
      "outputs": []
    }
  ]
}